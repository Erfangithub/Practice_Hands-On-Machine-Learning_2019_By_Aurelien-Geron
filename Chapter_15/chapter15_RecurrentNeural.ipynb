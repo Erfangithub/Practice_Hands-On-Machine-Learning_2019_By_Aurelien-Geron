{
  "nbformat": 4,
  "nbformat_minor": 0,
  "metadata": {
    "colab": {
      "name": "Ch15.ipynb",
      "provenance": [],
      "collapsed_sections": []
    },
    "kernelspec": {
      "name": "python3",
      "display_name": "Python 3"
    },
    "accelerator": "GPU"
  },
  "cells": [
    {
      "cell_type": "code",
      "metadata": {
        "id": "4FSypRaASmn0",
        "colab_type": "code",
        "colab": {}
      },
      "source": [
        "# Python ≥3.5 is required\n",
        "import sys\n",
        "assert sys.version_info >= (3, 5)\n",
        "\n",
        "# Scikit-Learn ≥0.20 is required\n",
        "import sklearn\n",
        "assert sklearn.__version__ >= \"0.20\"\n",
        "\n",
        "try:\n",
        "    # %tensorflow_version only exists in Colab.\n",
        "    %tensorflow_version 2.x\n",
        "    IS_COLAB = True\n",
        "except Exception:\n",
        "    IS_COLAB = False\n",
        "\n",
        "# TensorFlow ≥2.0 is required\n",
        "import tensorflow as tf\n",
        "from tensorflow import keras\n",
        "assert tf.__version__ >= \"2.0\"\n",
        "\n",
        "# debugging\n",
        "import pdb;\n",
        "\n",
        "if not tf.config.list_physical_devices('GPU'):\n",
        "    print(\"No GPU was detected. LSTMs and CNNs can be very slow without a GPU.\")\n",
        "    if IS_COLAB:\n",
        "        print(\"Go to Runtime > Change runtime and select a GPU hardware accelerator.\")\n",
        "\n",
        "# Common imports\n",
        "import numpy as np\n",
        "import os\n",
        "from pathlib import Path\n",
        "\n",
        "# to make this notebook's output stable across runs\n",
        "np.random.seed(42)\n",
        "tf.random.set_seed(42)\n",
        "\n",
        "# To plot pretty figures\n",
        "%matplotlib inline\n",
        "import matplotlib as mpl\n",
        "import matplotlib.pyplot as plt\n",
        "mpl.rc('axes', labelsize=14)\n",
        "mpl.rc('xtick', labelsize=12)\n",
        "mpl.rc('ytick', labelsize=12)\n",
        "\n",
        "# Where to save the figures\n",
        "PROJECT_ROOT_DIR = \".\"\n",
        "CHAPTER_ID = \"rnn\"\n",
        "IMAGES_PATH = os.path.join(PROJECT_ROOT_DIR, \"images\", CHAPTER_ID)\n",
        "os.makedirs(IMAGES_PATH, exist_ok=True)\n",
        "\n",
        "def save_fig(fig_id, tight_layout=True, fig_extension=\"png\", resolution=300):\n",
        "    path = os.path.join(IMAGES_PATH, fig_id + \".\" + fig_extension)\n",
        "    print(\"Saving figure\", fig_id)\n",
        "    if tight_layout:\n",
        "        plt.tight_layout()\n",
        "    plt.savefig(path, format=fig_extension, dpi=resolution)"
      ],
      "execution_count": 1,
      "outputs": []
    },
    {
      "cell_type": "code",
      "metadata": {
        "id": "7n6K9HguWsrj",
        "colab_type": "code",
        "colab": {}
      },
      "source": [
        "def generate_time_series(batch_size, n_steps):\n",
        "#    pdb.set_trace()\n",
        "    freq1, freq2, offsets1, offsets2 = np.random.rand(4, batch_size, 1)\n",
        "    time = np.linspace(0, 1, n_steps)\n",
        "    series = 0.5 * np.sin((time - offsets1) * (freq1 * 10 + 10))  #   wave 1\n",
        "    series += 0.2 * np.sin((time - offsets2) * (freq2 * 20 + 20)) # + wave 2\n",
        "    series += 0.1 * (np.random.rand(batch_size, n_steps) - 0.5)   # + noise\n",
        "    return series[..., np.newaxis].astype(np.float32)"
      ],
      "execution_count": 2,
      "outputs": []
    },
    {
      "cell_type": "code",
      "metadata": {
        "id": "8JMsEfQJZGe7",
        "colab_type": "code",
        "colab": {}
      },
      "source": [
        "freq1, freq2, offsets1, offsets2 = np.random.rand(4, 100, 1)"
      ],
      "execution_count": 3,
      "outputs": []
    },
    {
      "cell_type": "code",
      "metadata": {
        "id": "tKso8HorZLwR",
        "colab_type": "code",
        "colab": {
          "base_uri": "https://localhost:8080/",
          "height": 1000
        },
        "outputId": "e1d355ac-0e68-4791-bccc-bd7cd477274e"
      },
      "source": [
        "freq1"
      ],
      "execution_count": 4,
      "outputs": [
        {
          "output_type": "execute_result",
          "data": {
            "text/plain": [
              "array([[0.37454012],\n",
              "       [0.95071431],\n",
              "       [0.73199394],\n",
              "       [0.59865848],\n",
              "       [0.15601864],\n",
              "       [0.15599452],\n",
              "       [0.05808361],\n",
              "       [0.86617615],\n",
              "       [0.60111501],\n",
              "       [0.70807258],\n",
              "       [0.02058449],\n",
              "       [0.96990985],\n",
              "       [0.83244264],\n",
              "       [0.21233911],\n",
              "       [0.18182497],\n",
              "       [0.18340451],\n",
              "       [0.30424224],\n",
              "       [0.52475643],\n",
              "       [0.43194502],\n",
              "       [0.29122914],\n",
              "       [0.61185289],\n",
              "       [0.13949386],\n",
              "       [0.29214465],\n",
              "       [0.36636184],\n",
              "       [0.45606998],\n",
              "       [0.78517596],\n",
              "       [0.19967378],\n",
              "       [0.51423444],\n",
              "       [0.59241457],\n",
              "       [0.04645041],\n",
              "       [0.60754485],\n",
              "       [0.17052412],\n",
              "       [0.06505159],\n",
              "       [0.94888554],\n",
              "       [0.96563203],\n",
              "       [0.80839735],\n",
              "       [0.30461377],\n",
              "       [0.09767211],\n",
              "       [0.68423303],\n",
              "       [0.44015249],\n",
              "       [0.12203823],\n",
              "       [0.49517691],\n",
              "       [0.03438852],\n",
              "       [0.9093204 ],\n",
              "       [0.25877998],\n",
              "       [0.66252228],\n",
              "       [0.31171108],\n",
              "       [0.52006802],\n",
              "       [0.54671028],\n",
              "       [0.18485446],\n",
              "       [0.96958463],\n",
              "       [0.77513282],\n",
              "       [0.93949894],\n",
              "       [0.89482735],\n",
              "       [0.59789998],\n",
              "       [0.92187424],\n",
              "       [0.0884925 ],\n",
              "       [0.19598286],\n",
              "       [0.04522729],\n",
              "       [0.32533033],\n",
              "       [0.38867729],\n",
              "       [0.27134903],\n",
              "       [0.82873751],\n",
              "       [0.35675333],\n",
              "       [0.28093451],\n",
              "       [0.54269608],\n",
              "       [0.14092422],\n",
              "       [0.80219698],\n",
              "       [0.07455064],\n",
              "       [0.98688694],\n",
              "       [0.77224477],\n",
              "       [0.19871568],\n",
              "       [0.00552212],\n",
              "       [0.81546143],\n",
              "       [0.70685734],\n",
              "       [0.72900717],\n",
              "       [0.77127035],\n",
              "       [0.07404465],\n",
              "       [0.35846573],\n",
              "       [0.11586906],\n",
              "       [0.86310343],\n",
              "       [0.62329813],\n",
              "       [0.33089802],\n",
              "       [0.06355835],\n",
              "       [0.31098232],\n",
              "       [0.32518332],\n",
              "       [0.72960618],\n",
              "       [0.63755747],\n",
              "       [0.88721274],\n",
              "       [0.47221493],\n",
              "       [0.11959425],\n",
              "       [0.71324479],\n",
              "       [0.76078505],\n",
              "       [0.5612772 ],\n",
              "       [0.77096718],\n",
              "       [0.4937956 ],\n",
              "       [0.52273283],\n",
              "       [0.42754102],\n",
              "       [0.02541913],\n",
              "       [0.10789143]])"
            ]
          },
          "metadata": {
            "tags": []
          },
          "execution_count": 4
        }
      ]
    },
    {
      "cell_type": "code",
      "metadata": {
        "id": "Zm6hoSEjWuCl",
        "colab_type": "code",
        "colab": {}
      },
      "source": [
        "np.random.seed(42)\n",
        "\n",
        "n_steps = 50\n",
        "series = generate_time_series(10000, n_steps + 1)\n",
        "X_train, y_train = series[:7000, :n_steps], series[:7000, -1]\n",
        "X_valid, y_valid = series[7000:9000, :n_steps], series[7000:9000, -1]\n",
        "X_test, y_test = series[9000:, :n_steps], series[9000:, -1]"
      ],
      "execution_count": 5,
      "outputs": []
    },
    {
      "cell_type": "code",
      "metadata": {
        "id": "WAB4-mLvXuiz",
        "colab_type": "code",
        "colab": {
          "base_uri": "https://localhost:8080/",
          "height": 34
        },
        "outputId": "b4ad834e-6eb7-4b67-fbcd-8195a5fff2f6"
      },
      "source": [
        "X_train.shape, y_train.shape"
      ],
      "execution_count": 6,
      "outputs": [
        {
          "output_type": "execute_result",
          "data": {
            "text/plain": [
              "((7000, 50, 1), (7000, 1))"
            ]
          },
          "metadata": {
            "tags": []
          },
          "execution_count": 6
        }
      ]
    },
    {
      "cell_type": "code",
      "metadata": {
        "id": "0tPRu033XwdQ",
        "colab_type": "code",
        "colab": {
          "base_uri": "https://localhost:8080/",
          "height": 314
        },
        "outputId": "875b2c37-7342-449a-c942-19269aa16bf9"
      },
      "source": [
        "def plot_series(series, y=None, y_pred=None, x_label=\"$t$\", y_label=\"$x(t)$\"):\n",
        "    plt.plot(series, \".-\")\n",
        "    if y is not None:\n",
        "        plt.plot(n_steps, y, \"bx\", markersize=10)\n",
        "    if y_pred is not None:\n",
        "        plt.plot(n_steps, y_pred, \"ro\")\n",
        "    plt.grid(True)\n",
        "    if x_label:\n",
        "        plt.xlabel(x_label, fontsize=16)\n",
        "    if y_label:\n",
        "        plt.ylabel(y_label, fontsize=16, rotation=0)\n",
        "    plt.hlines(0, 0, 100, linewidth=1)\n",
        "    plt.axis([0, n_steps + 1, -1, 1])\n",
        "\n",
        "fig, axes = plt.subplots(nrows=1, ncols=3, sharey=True, figsize=(12, 4))\n",
        "for col in range(3):\n",
        "    plt.sca(axes[col])\n",
        "    plot_series(X_valid[col, :, 0], y_valid[col, 0],\n",
        "                y_label=(\"$x(t)$\" if col==0 else None))\n",
        "save_fig(\"time_series_plot\")\n",
        "plt.show()"
      ],
      "execution_count": 7,
      "outputs": [
        {
          "output_type": "stream",
          "text": [
            "Saving figure time_series_plot\n"
          ],
          "name": "stdout"
        },
        {
          "output_type": "display_data",
          "data": {
            "image/png": "[encoded data removed]",
            "text/plain": [
              "<Figure size 864x288 with 3 Axes>"
            ]
          },
          "metadata": {
            "tags": [],
            "needs_background": "light"
          }
        }
      ]
    },
    {
      "cell_type": "code",
      "metadata": {
        "id": "M8zhEt-bYFAO",
        "colab_type": "code",
        "colab": {
          "base_uri": "https://localhost:8080/",
          "height": 34
        },
        "outputId": "b5ae20ed-5d0f-4af7-a1cc-18a087956a13"
      },
      "source": [
        "y_pred = X_valid[:, -1]\n",
        "np.mean(keras.losses.mean_squared_error(y_valid, y_pred))"
      ],
      "execution_count": 8,
      "outputs": [
        {
          "output_type": "execute_result",
          "data": {
            "text/plain": [
              "0.020211367"
            ]
          },
          "metadata": {
            "tags": []
          },
          "execution_count": 8
        }
      ]
    },
    {
      "cell_type": "code",
      "metadata": {
        "id": "EWBx3AGvg47Q",
        "colab_type": "code",
        "colab": {}
      },
      "source": [
        "model = keras.models.Sequential([\n",
        "keras.layers.Flatten(input_shape=[50, 1]),\n",
        "keras.layers.Dense(1)\n",
        "])"
      ],
      "execution_count": 9,
      "outputs": []
    },
    {
      "cell_type": "code",
      "metadata": {
        "id": "8FPkwpf2hWUJ",
        "colab_type": "code",
        "colab": {
          "base_uri": "https://localhost:8080/",
          "height": 712
        },
        "outputId": "61795781-c50c-490d-dd04-aa6b8d32e9fa"
      },
      "source": [
        "model.compile(loss=\"mse\", optimizer=\"adam\")\n",
        "history = model.fit(X_train, y_train, epochs=20,\n",
        "                    validation_data=(X_valid, y_valid))"
      ],
      "execution_count": 10,
      "outputs": [
        {
          "output_type": "stream",
          "text": [
            "Epoch 1/20\n",
            "219/219 [==============================] - 1s 2ms/step - loss: 0.1001 - val_loss: 0.0545\n",
            "Epoch 2/20\n",
            "219/219 [==============================] - 0s 2ms/step - loss: 0.0379 - val_loss: 0.0266\n",
            "Epoch 3/20\n",
            "219/219 [==============================] - 0s 2ms/step - loss: 0.0202 - val_loss: 0.0157\n",
            "Epoch 4/20\n",
            "219/219 [==============================] - 0s 2ms/step - loss: 0.0131 - val_loss: 0.0116\n",
            "Epoch 5/20\n",
            "219/219 [==============================] - 0s 2ms/step - loss: 0.0103 - val_loss: 0.0098\n",
            "Epoch 6/20\n",
            "219/219 [==============================] - 0s 2ms/step - loss: 0.0089 - val_loss: 0.0087\n",
            "Epoch 7/20\n",
            "219/219 [==============================] - 0s 2ms/step - loss: 0.0080 - val_loss: 0.0079\n",
            "Epoch 8/20\n",
            "219/219 [==============================] - 0s 2ms/step - loss: 0.0073 - val_loss: 0.0071\n",
            "Epoch 9/20\n",
            "219/219 [==============================] - 0s 2ms/step - loss: 0.0066 - val_loss: 0.0066\n",
            "Epoch 10/20\n",
            "219/219 [==============================] - 0s 2ms/step - loss: 0.0061 - val_loss: 0.0062\n",
            "Epoch 11/20\n",
            "219/219 [==============================] - 0s 2ms/step - loss: 0.0057 - val_loss: 0.0057\n",
            "Epoch 12/20\n",
            "219/219 [==============================] - 0s 2ms/step - loss: 0.0054 - val_loss: 0.0055\n",
            "Epoch 13/20\n",
            "219/219 [==============================] - 0s 2ms/step - loss: 0.0052 - val_loss: 0.0052\n",
            "Epoch 14/20\n",
            "219/219 [==============================] - 0s 2ms/step - loss: 0.0049 - val_loss: 0.0049\n",
            "Epoch 15/20\n",
            "219/219 [==============================] - 0s 2ms/step - loss: 0.0048 - val_loss: 0.0048\n",
            "Epoch 16/20\n",
            "219/219 [==============================] - 0s 2ms/step - loss: 0.0046 - val_loss: 0.0048\n",
            "Epoch 17/20\n",
            "219/219 [==============================] - 0s 2ms/step - loss: 0.0045 - val_loss: 0.0045\n",
            "Epoch 18/20\n",
            "219/219 [==============================] - 0s 2ms/step - loss: 0.0044 - val_loss: 0.0044\n",
            "Epoch 19/20\n",
            "219/219 [==============================] - 0s 2ms/step - loss: 0.0043 - val_loss: 0.0043\n",
            "Epoch 20/20\n",
            "219/219 [==============================] - 0s 2ms/step - loss: 0.0042 - val_loss: 0.0042\n"
          ],
          "name": "stdout"
        }
      ]
    },
    {
      "cell_type": "code",
      "metadata": {
        "id": "N5O3UVoahcxw",
        "colab_type": "code",
        "colab": {}
      },
      "source": [
        "model = keras.models.Sequential([\n",
        "keras.layers.SimpleRNN(1, input_shape=[None, 1])\n",
        "])"
      ],
      "execution_count": 11,
      "outputs": []
    },
    {
      "cell_type": "code",
      "metadata": {
        "id": "JLZYCG7foFXZ",
        "colab_type": "code",
        "colab": {}
      },
      "source": [
        "model.compile(loss = 'mse',optimizer = 'adam')"
      ],
      "execution_count": 12,
      "outputs": []
    },
    {
      "cell_type": "code",
      "metadata": {
        "id": "XAoQ5kskoNsn",
        "colab_type": "code",
        "colab": {
          "base_uri": "https://localhost:8080/",
          "height": 729
        },
        "outputId": "1cbeb561-d132-47d6-bbfe-398a1034f02e"
      },
      "source": [
        "model.fit(X_train, y_train, epochs=20,\n",
        "                    validation_data=(X_valid, y_valid))"
      ],
      "execution_count": 13,
      "outputs": [
        {
          "output_type": "stream",
          "text": [
            "Epoch 1/20\n",
            "219/219 [==============================] - 6s 30ms/step - loss: 0.0604 - val_loss: 0.0509\n",
            "Epoch 2/20\n",
            "219/219 [==============================] - 6s 29ms/step - loss: 0.0406 - val_loss: 0.0342\n",
            "Epoch 3/20\n",
            "219/219 [==============================] - 6s 29ms/step - loss: 0.0270 - val_loss: 0.0226\n",
            "Epoch 4/20\n",
            "219/219 [==============================] - 6s 29ms/step - loss: 0.0184 - val_loss: 0.0159\n",
            "Epoch 5/20\n",
            "219/219 [==============================] - 6s 29ms/step - loss: 0.0141 - val_loss: 0.0129\n",
            "Epoch 6/20\n",
            "219/219 [==============================] - 6s 29ms/step - loss: 0.0124 - val_loss: 0.0118\n",
            "Epoch 7/20\n",
            "219/219 [==============================] - 6s 29ms/step - loss: 0.0119 - val_loss: 0.0114\n",
            "Epoch 8/20\n",
            "219/219 [==============================] - 6s 29ms/step - loss: 0.0117 - val_loss: 0.0113\n",
            "Epoch 9/20\n",
            "219/219 [==============================] - 6s 29ms/step - loss: 0.0116 - val_loss: 0.0112\n",
            "Epoch 10/20\n",
            "219/219 [==============================] - 6s 28ms/step - loss: 0.0116 - val_loss: 0.0111\n",
            "Epoch 11/20\n",
            "219/219 [==============================] - 6s 29ms/step - loss: 0.0115 - val_loss: 0.0110\n",
            "Epoch 12/20\n",
            "219/219 [==============================] - 6s 28ms/step - loss: 0.0115 - val_loss: 0.0110\n",
            "Epoch 13/20\n",
            "219/219 [==============================] - 6s 29ms/step - loss: 0.0114 - val_loss: 0.0110\n",
            "Epoch 14/20\n",
            "219/219 [==============================] - 6s 29ms/step - loss: 0.0114 - val_loss: 0.0109\n",
            "Epoch 15/20\n",
            "219/219 [==============================] - 6s 29ms/step - loss: 0.0114 - val_loss: 0.0109\n",
            "Epoch 16/20\n",
            "219/219 [==============================] - 6s 28ms/step - loss: 0.0114 - val_loss: 0.0109\n",
            "Epoch 17/20\n",
            "219/219 [==============================] - 6s 29ms/step - loss: 0.0114 - val_loss: 0.0109\n",
            "Epoch 18/20\n",
            "219/219 [==============================] - 6s 29ms/step - loss: 0.0114 - val_loss: 0.0109\n",
            "Epoch 19/20\n",
            "219/219 [==============================] - 6s 28ms/step - loss: 0.0114 - val_loss: 0.0109\n",
            "Epoch 20/20\n",
            "219/219 [==============================] - 6s 28ms/step - loss: 0.0114 - val_loss: 0.0109\n"
          ],
          "name": "stdout"
        },
        {
          "output_type": "execute_result",
          "data": {
            "text/plain": [
              "<tensorflow.python.keras.callbacks.History at 0x7f46ce65d9e8>"
            ]
          },
          "metadata": {
            "tags": []
          },
          "execution_count": 13
        }
      ]
    },
    {
      "cell_type": "code",
      "metadata": {
        "id": "3Z62NrssoZSr",
        "colab_type": "code",
        "colab": {
          "base_uri": "https://localhost:8080/",
          "height": 712
        },
        "outputId": "06245440-fdc6-477b-d5ff-9521c1b17d83"
      },
      "source": [
        "# Deep RNN\n",
        "\n",
        "np.random.seed(42)\n",
        "tf.random.set_seed(42)\n",
        "\n",
        "model = keras.models.Sequential([\n",
        "    keras.layers.SimpleRNN(20, return_sequences=True, input_shape=[None, 1]),\n",
        "    keras.layers.SimpleRNN(20, return_sequences=True),\n",
        "    keras.layers.SimpleRNN(1)\n",
        "])\n",
        "\n",
        "model.compile(loss=\"mse\", optimizer=\"adam\")\n",
        "history = model.fit(X_train, y_train, epochs=20,\n",
        "                    validation_data=(X_valid, y_valid))"
      ],
      "execution_count": 14,
      "outputs": [
        {
          "output_type": "stream",
          "text": [
            "Epoch 1/20\n",
            "219/219 [==============================] - 19s 85ms/step - loss: 0.0492 - val_loss: 0.0090\n",
            "Epoch 2/20\n",
            "219/219 [==============================] - 19s 85ms/step - loss: 0.0070 - val_loss: 0.0065\n",
            "Epoch 3/20\n",
            "219/219 [==============================] - 18s 84ms/step - loss: 0.0053 - val_loss: 0.0045\n",
            "Epoch 4/20\n",
            "219/219 [==============================] - 18s 84ms/step - loss: 0.0045 - val_loss: 0.0040\n",
            "Epoch 5/20\n",
            "219/219 [==============================] - 19s 86ms/step - loss: 0.0042 - val_loss: 0.0040\n",
            "Epoch 6/20\n",
            "219/219 [==============================] - 19s 85ms/step - loss: 0.0038 - val_loss: 0.0036\n",
            "Epoch 7/20\n",
            "219/219 [==============================] - 19s 87ms/step - loss: 0.0038 - val_loss: 0.0040\n",
            "Epoch 8/20\n",
            "219/219 [==============================] - 18s 83ms/step - loss: 0.0037 - val_loss: 0.0033\n",
            "Epoch 9/20\n",
            "219/219 [==============================] - 19s 85ms/step - loss: 0.0036 - val_loss: 0.0032\n",
            "Epoch 10/20\n",
            "219/219 [==============================] - 18s 84ms/step - loss: 0.0035 - val_loss: 0.0031\n",
            "Epoch 11/20\n",
            "219/219 [==============================] - 18s 84ms/step - loss: 0.0034 - val_loss: 0.0030\n",
            "Epoch 12/20\n",
            "219/219 [==============================] - 18s 84ms/step - loss: 0.0033 - val_loss: 0.0031\n",
            "Epoch 13/20\n",
            "219/219 [==============================] - 18s 83ms/step - loss: 0.0034 - val_loss: 0.0031\n",
            "Epoch 14/20\n",
            "219/219 [==============================] - 19s 85ms/step - loss: 0.0033 - val_loss: 0.0032\n",
            "Epoch 15/20\n",
            "219/219 [==============================] - 18s 83ms/step - loss: 0.0034 - val_loss: 0.0033\n",
            "Epoch 16/20\n",
            "219/219 [==============================] - 18s 84ms/step - loss: 0.0035 - val_loss: 0.0030\n",
            "Epoch 17/20\n",
            "219/219 [==============================] - 18s 84ms/step - loss: 0.0033 - val_loss: 0.0029\n",
            "Epoch 18/20\n",
            "219/219 [==============================] - 19s 85ms/step - loss: 0.0033 - val_loss: 0.0030\n",
            "Epoch 19/20\n",
            "219/219 [==============================] - 18s 83ms/step - loss: 0.0032 - val_loss: 0.0029\n",
            "Epoch 20/20\n",
            "219/219 [==============================] - 19s 85ms/step - loss: 0.0032 - val_loss: 0.0029\n"
          ],
          "name": "stdout"
        }
      ]
    },
    {
      "cell_type": "code",
      "metadata": {
        "id": "8IaDzjoAqiaF",
        "colab_type": "code",
        "colab": {}
      },
      "source": [
        "series = generate_time_series(1, n_steps + 10)\n",
        "X_new, Y_new = series[:, :n_steps], series[:, n_steps:]\n",
        "X = X_new\n",
        "for step_ahead in range(10):\n",
        "    y_pred_one = model.predict(X[:, step_ahead:])[:, np.newaxis,:]\n",
        "    X = np.concatenate([X, y_pred_one], axis=1)\n",
        "\n",
        "Y_pred = X[:, n_steps:]\n"
      ],
      "execution_count": 15,
      "outputs": []
    },
    {
      "cell_type": "code",
      "metadata": {
        "id": "m5Xl40lwXjuX",
        "colab_type": "code",
        "colab": {
          "base_uri": "https://localhost:8080/",
          "height": 34
        },
        "outputId": "b1488500-0c78-4612-f9c3-ef9a17287bb1"
      },
      "source": [
        "Y_pred.shape"
      ],
      "execution_count": 16,
      "outputs": [
        {
          "output_type": "execute_result",
          "data": {
            "text/plain": [
              "(1, 10, 1)"
            ]
          },
          "metadata": {
            "tags": []
          },
          "execution_count": 16
        }
      ]
    },
    {
      "cell_type": "code",
      "metadata": {
        "id": "Wz5-FH1RXkOZ",
        "colab_type": "code",
        "colab": {
          "base_uri": "https://localhost:8080/",
          "height": 314
        },
        "outputId": "631b103c-244e-46b7-b816-3bcce07d263b"
      },
      "source": [
        "def plot_multiple_forecasts(X, Y, Y_pred):\n",
        "    n_steps = X.shape[1]\n",
        "    ahead = Y.shape[1]\n",
        "    plot_series(X[0, :, 0])\n",
        "    plt.plot(np.arange(n_steps, n_steps + ahead), Y[0, :, 0], \"ro-\", label=\"Actual\")\n",
        "    plt.plot(np.arange(n_steps, n_steps + ahead), Y_pred[0, :, 0], \"bx-\", label=\"Forecast\", markersize=10)\n",
        "    plt.axis([0, n_steps + ahead, -1, 1])\n",
        "    plt.legend(fontsize=14)\n",
        "\n",
        "plot_multiple_forecasts(X_new, Y_new, Y_pred)\n",
        "save_fig(\"forecast_ahead_plot\")\n",
        "plt.show()"
      ],
      "execution_count": 17,
      "outputs": [
        {
          "output_type": "stream",
          "text": [
            "Saving figure forecast_ahead_plot\n"
          ],
          "name": "stdout"
        },
        {
          "output_type": "display_data",
          "data": {
            "image/png": "[encoded data removed]",
            "text/plain": [
              "<Figure size 432x288 with 1 Axes>"
            ]
          },
          "metadata": {
            "tags": [],
            "needs_background": "light"
          }
        }
      ]
    },
    {
      "cell_type": "code",
      "metadata": {
        "id": "JLP2jXXrXm2T",
        "colab_type": "code",
        "colab": {}
      },
      "source": [
        "np.random.seed(42)\n",
        "\n",
        "n_steps = 50\n",
        "series = generate_time_series(10000, n_steps + 10)\n",
        "X_train, Y_train = series[:7000, :n_steps], series[:7000, -10:, 0]\n",
        "X_valid, Y_valid = series[7000:9000, :n_steps], series[7000:9000, -10:, 0]\n",
        "X_test, Y_test = series[9000:, :n_steps], series[9000:, -10:, 0]\n"
      ],
      "execution_count": 18,
      "outputs": []
    },
    {
      "cell_type": "code",
      "metadata": {
        "id": "jDO7kIGobcNz",
        "colab_type": "code",
        "colab": {}
      },
      "source": [
        "model = keras.models.Sequential([\n",
        "    keras.layers.SimpleRNN(20, return_sequences=True, input_shape=[None, 1]),\n",
        "    keras.layers.SimpleRNN(20),\n",
        "    keras.layers.Dense(10)\n",
        "])\n"
      ],
      "execution_count": 19,
      "outputs": []
    },
    {
      "cell_type": "code",
      "metadata": {
        "id": "ZyN3tZZ6biLw",
        "colab_type": "code",
        "colab": {
          "base_uri": "https://localhost:8080/",
          "height": 712
        },
        "outputId": "612f003d-e992-44c1-8b48-cf3b067d73bb"
      },
      "source": [
        "model.compile(loss=\"mse\", optimizer=\"adam\")\n",
        "history = model.fit(X_train, Y_train, epochs=20,\n",
        "                    validation_data=(X_valid, Y_valid))"
      ],
      "execution_count": 20,
      "outputs": [
        {
          "output_type": "stream",
          "text": [
            "Epoch 1/20\n",
            "219/219 [==============================] - 13s 58ms/step - loss: 0.0591 - val_loss: 0.0336\n",
            "Epoch 2/20\n",
            "219/219 [==============================] - 13s 58ms/step - loss: 0.0304 - val_loss: 0.0250\n",
            "Epoch 3/20\n",
            "219/219 [==============================] - 13s 57ms/step - loss: 0.0216 - val_loss: 0.0171\n",
            "Epoch 4/20\n",
            "219/219 [==============================] - 13s 58ms/step - loss: 0.0156 - val_loss: 0.0141\n",
            "Epoch 5/20\n",
            "219/219 [==============================] - 13s 60ms/step - loss: 0.0130 - val_loss: 0.0115\n",
            "Epoch 6/20\n",
            "219/219 [==============================] - 13s 58ms/step - loss: 0.0124 - val_loss: 0.0108\n",
            "Epoch 7/20\n",
            "219/219 [==============================] - 12s 57ms/step - loss: 0.0111 - val_loss: 0.0105\n",
            "Epoch 8/20\n",
            "219/219 [==============================] - 13s 57ms/step - loss: 0.0108 - val_loss: 0.0094\n",
            "Epoch 9/20\n",
            "219/219 [==============================] - 12s 57ms/step - loss: 0.0100 - val_loss: 0.0110\n",
            "Epoch 10/20\n",
            "219/219 [==============================] - 12s 57ms/step - loss: 0.0099 - val_loss: 0.0095\n",
            "Epoch 11/20\n",
            "219/219 [==============================] - 13s 58ms/step - loss: 0.0093 - val_loss: 0.0093\n",
            "Epoch 12/20\n",
            "219/219 [==============================] - 12s 57ms/step - loss: 0.0095 - val_loss: 0.0087\n",
            "Epoch 13/20\n",
            "219/219 [==============================] - 13s 57ms/step - loss: 0.0090 - val_loss: 0.0087\n",
            "Epoch 14/20\n",
            "219/219 [==============================] - 12s 57ms/step - loss: 0.0088 - val_loss: 0.0085\n",
            "Epoch 15/20\n",
            "219/219 [==============================] - 13s 58ms/step - loss: 0.0085 - val_loss: 0.0088\n",
            "Epoch 16/20\n",
            "219/219 [==============================] - 13s 57ms/step - loss: 0.0087 - val_loss: 0.0088\n",
            "Epoch 17/20\n",
            "219/219 [==============================] - 13s 58ms/step - loss: 0.0086 - val_loss: 0.0113\n",
            "Epoch 18/20\n",
            "219/219 [==============================] - 13s 57ms/step - loss: 0.0088 - val_loss: 0.0082\n",
            "Epoch 19/20\n",
            "219/219 [==============================] - 13s 58ms/step - loss: 0.0085 - val_loss: 0.0082\n",
            "Epoch 20/20\n",
            "219/219 [==============================] - 12s 57ms/step - loss: 0.0086 - val_loss: 0.0088\n"
          ],
          "name": "stdout"
        }
      ]
    },
    {
      "cell_type": "code",
      "metadata": {
        "id": "VWhcs4xWcI-1",
        "colab_type": "code",
        "colab": {}
      },
      "source": [
        "Y_pred = model.predict(X_new)"
      ],
      "execution_count": 21,
      "outputs": []
    },
    {
      "cell_type": "code",
      "metadata": {
        "id": "TsnbKx2phQQF",
        "colab_type": "code",
        "colab": {
          "base_uri": "https://localhost:8080/",
          "height": 69
        },
        "outputId": "716ab846-1d1e-4d6e-9b81-739594045abf"
      },
      "source": [
        "Y_new.reshape(1,10)"
      ],
      "execution_count": 22,
      "outputs": [
        {
          "output_type": "execute_result",
          "data": {
            "text/plain": [
              "array([[ 0.4540791 ,  0.36484516,  0.20194076,  0.19345327,  0.20350602,\n",
              "         0.25884628,  0.24583101,  0.13509367,  0.01122888, -0.26238245]],\n",
              "      dtype=float32)"
            ]
          },
          "metadata": {
            "tags": []
          },
          "execution_count": 22
        }
      ]
    },
    {
      "cell_type": "code",
      "metadata": {
        "id": "QHDWTiPXhMCT",
        "colab_type": "code",
        "colab": {
          "base_uri": "https://localhost:8080/",
          "height": 69
        },
        "outputId": "2896e3c7-2203-4735-ec39-91192ddabdad"
      },
      "source": [
        "Y_pred"
      ],
      "execution_count": 23,
      "outputs": [
        {
          "output_type": "execute_result",
          "data": {
            "text/plain": [
              "array([[ 0.4780925 ,  0.3061157 ,  0.19369315,  0.11212197,  0.13127159,\n",
              "         0.16462283,  0.21366712,  0.1617378 ,  0.05838498, -0.13156432]],\n",
              "      dtype=float32)"
            ]
          },
          "metadata": {
            "tags": []
          },
          "execution_count": 23
        }
      ]
    },
    {
      "cell_type": "code",
      "metadata": {
        "id": "4oaC4dnxhEmG",
        "colab_type": "code",
        "colab": {
          "base_uri": "https://localhost:8080/",
          "height": 34
        },
        "outputId": "617ec111-9072-440f-aa2c-1afb4ea80dd7"
      },
      "source": [
        "np.mean(keras.metrics.mean_squared_error(Y_new.reshape(1,10), Y_pred))"
      ],
      "execution_count": 24,
      "outputs": [
        {
          "output_type": "execute_result",
          "data": {
            "text/plain": [
              "0.0045885975"
            ]
          },
          "metadata": {
            "tags": []
          },
          "execution_count": 24
        }
      ]
    },
    {
      "cell_type": "code",
      "metadata": {
        "id": "mO2HH9fPgj5D",
        "colab_type": "code",
        "colab": {}
      },
      "source": [
        "Y = np.empty((10000, n_steps, 10))\n",
        "for step_ahead in range(1, 10 + 1):\n",
        "    Y[..., step_ahead - 1] = series[..., step_ahead:step_ahead + n_steps, 0]\n",
        "Y_train = Y[:7000]\n",
        "Y_valid = Y[7000:9000]\n",
        "Y_test = Y[9000:]"
      ],
      "execution_count": 25,
      "outputs": []
    },
    {
      "cell_type": "code",
      "metadata": {
        "id": "iE1fiyD2l4oF",
        "colab_type": "code",
        "colab": {}
      },
      "source": [
        "model = keras.models.Sequential([\n",
        "    keras.layers.SimpleRNN(20, return_sequences=True, input_shape=[None, 1]),\n",
        "    keras.layers.SimpleRNN(20, return_sequences=True),\n",
        "    keras.layers.TimeDistributed(keras.layers.Dense(10))\n",
        "])"
      ],
      "execution_count": 26,
      "outputs": []
    },
    {
      "cell_type": "code",
      "metadata": {
        "id": "bsEgQXfhmi94",
        "colab_type": "code",
        "colab": {
          "base_uri": "https://localhost:8080/",
          "height": 732
        },
        "outputId": "de4b8f47-8319-4881-b69e-0ff3cdab2f34"
      },
      "source": [
        "def last_time_step_mse(Y_true, Y_pred):\n",
        "    return keras.metrics.mean_squared_error(Y_true[:, -1], Y_pred[:, -1])\n",
        "\n",
        "model.compile(loss=\"mse\", optimizer=keras.optimizers.Adam(lr=0.01), metrics=[last_time_step_mse])\n",
        "history = model.fit(X_train, Y_train, epochs=20,\n",
        "                    validation_data=(X_valid, Y_valid))"
      ],
      "execution_count": 27,
      "outputs": [
        {
          "output_type": "stream",
          "text": [
            "Epoch 1/20\n",
            "219/219 [==============================] - 13s 60ms/step - loss: 0.0523 - last_time_step_mse: 0.0413 - val_loss: 0.0426 - val_last_time_step_mse: 0.0312\n",
            "Epoch 2/20\n",
            "219/219 [==============================] - 13s 59ms/step - loss: 0.0400 - last_time_step_mse: 0.0286 - val_loss: 0.0368 - val_last_time_step_mse: 0.0270\n",
            "Epoch 3/20\n",
            "219/219 [==============================] - 13s 58ms/step - loss: 0.0324 - last_time_step_mse: 0.0208 - val_loss: 0.0292 - val_last_time_step_mse: 0.0171\n",
            "Epoch 4/20\n",
            "219/219 [==============================] - 13s 58ms/step - loss: 0.0297 - last_time_step_mse: 0.0182 - val_loss: 0.0277 - val_last_time_step_mse: 0.0167\n",
            "Epoch 5/20\n",
            "219/219 [==============================] - 13s 59ms/step - loss: 0.0277 - last_time_step_mse: 0.0164 - val_loss: 0.0301 - val_last_time_step_mse: 0.0201\n",
            "Epoch 6/20\n",
            "219/219 [==============================] - 13s 58ms/step - loss: 0.0256 - last_time_step_mse: 0.0136 - val_loss: 0.0228 - val_last_time_step_mse: 0.0108\n",
            "Epoch 7/20\n",
            "219/219 [==============================] - 13s 59ms/step - loss: 0.0235 - last_time_step_mse: 0.0114 - val_loss: 0.0217 - val_last_time_step_mse: 0.0099\n",
            "Epoch 8/20\n",
            "219/219 [==============================] - 13s 57ms/step - loss: 0.0219 - last_time_step_mse: 0.0098 - val_loss: 0.0226 - val_last_time_step_mse: 0.0111\n",
            "Epoch 9/20\n",
            "219/219 [==============================] - 13s 60ms/step - loss: 0.0212 - last_time_step_mse: 0.0093 - val_loss: 0.0203 - val_last_time_step_mse: 0.0081\n",
            "Epoch 10/20\n",
            "219/219 [==============================] - 13s 59ms/step - loss: 0.0208 - last_time_step_mse: 0.0089 - val_loss: 0.0209 - val_last_time_step_mse: 0.0109\n",
            "Epoch 11/20\n",
            "219/219 [==============================] - 13s 58ms/step - loss: 0.0200 - last_time_step_mse: 0.0083 - val_loss: 0.0198 - val_last_time_step_mse: 0.0080\n",
            "Epoch 12/20\n",
            "219/219 [==============================] - 13s 58ms/step - loss: 0.0200 - last_time_step_mse: 0.0082 - val_loss: 0.0191 - val_last_time_step_mse: 0.0072\n",
            "Epoch 13/20\n",
            "219/219 [==============================] - 13s 57ms/step - loss: 0.0197 - last_time_step_mse: 0.0080 - val_loss: 0.0205 - val_last_time_step_mse: 0.0097\n",
            "Epoch 14/20\n",
            "219/219 [==============================] - 13s 58ms/step - loss: 0.0192 - last_time_step_mse: 0.0074 - val_loss: 0.0183 - val_last_time_step_mse: 0.0064\n",
            "Epoch 15/20\n",
            "219/219 [==============================] - 13s 58ms/step - loss: 0.0191 - last_time_step_mse: 0.0073 - val_loss: 0.0207 - val_last_time_step_mse: 0.0107\n",
            "Epoch 16/20\n",
            "219/219 [==============================] - 13s 58ms/step - loss: 0.0191 - last_time_step_mse: 0.0074 - val_loss: 0.0189 - val_last_time_step_mse: 0.0080\n",
            "Epoch 17/20\n",
            "219/219 [==============================] - 13s 58ms/step - loss: 0.0191 - last_time_step_mse: 0.0075 - val_loss: 0.0178 - val_last_time_step_mse: 0.0063\n",
            "Epoch 18/20\n",
            "219/219 [==============================] - 12s 57ms/step - loss: 0.0186 - last_time_step_mse: 0.0069 - val_loss: 0.0183 - val_last_time_step_mse: 0.0068\n",
            "Epoch 19/20\n",
            "219/219 [==============================] - 12s 57ms/step - loss: 0.0186 - last_time_step_mse: 0.0071 - val_loss: 0.0178 - val_last_time_step_mse: 0.0063\n",
            "Epoch 20/20\n",
            "219/219 [==============================] - 13s 58ms/step - loss: 0.0185 - last_time_step_mse: 0.0072 - val_loss: 0.0176 - val_last_time_step_mse: 0.0062\n"
          ],
          "name": "stdout"
        }
      ]
    },
    {
      "cell_type": "code",
      "metadata": {
        "id": "65BgqD6tm01B",
        "colab_type": "code",
        "colab": {}
      },
      "source": [
        "Y_pred1 = model.predict(X_new)"
      ],
      "execution_count": 28,
      "outputs": []
    },
    {
      "cell_type": "code",
      "metadata": {
        "id": "0zwnWXBIoXB0",
        "colab_type": "code",
        "colab": {
          "base_uri": "https://localhost:8080/",
          "height": 69
        },
        "outputId": "8c3aea7f-90d6-47d3-b898-391efbfa8ad7"
      },
      "source": [
        "Y_pred1[:,-1,:]"
      ],
      "execution_count": 29,
      "outputs": [
        {
          "output_type": "execute_result",
          "data": {
            "text/plain": [
              "array([[ 0.4646397 ,  0.30996835,  0.18490548,  0.1267254 ,  0.13503191,\n",
              "         0.1698383 ,  0.19049147,  0.16189313,  0.06310359, -0.09679893]],\n",
              "      dtype=float32)"
            ]
          },
          "metadata": {
            "tags": []
          },
          "execution_count": 29
        }
      ]
    },
    {
      "cell_type": "code",
      "metadata": {
        "id": "T3ngjW47oZwm",
        "colab_type": "code",
        "colab": {
          "base_uri": "https://localhost:8080/",
          "height": 34
        },
        "outputId": "2443b426-69aa-40d7-c70c-f332c8b8c716"
      },
      "source": [
        "np.mean(keras.metrics.mean_squared_error(Y_new.reshape(1,10), Y_pred1[:,-1,:]))"
      ],
      "execution_count": 30,
      "outputs": [
        {
          "output_type": "execute_result",
          "data": {
            "text/plain": [
              "0.0054366486"
            ]
          },
          "metadata": {
            "tags": []
          },
          "execution_count": 30
        }
      ]
    },
    {
      "cell_type": "code",
      "metadata": {
        "id": "-EuUfYzQRt5t",
        "colab_type": "code",
        "colab": {}
      },
      "source": [
        "# Fighting the Unstable Gradients Problem"
      ],
      "execution_count": 31,
      "outputs": []
    },
    {
      "cell_type": "code",
      "metadata": {
        "id": "gZh5ZLfAouhV",
        "colab_type": "code",
        "colab": {}
      },
      "source": [
        "\n",
        "class LNSimpleRNNCell(keras.layers.Layer):\n",
        "    def __init__(self, units, activation=\"tanh\", **kwargs):\n",
        "        super().__init__(**kwargs)\n",
        "        self.state_size = units\n",
        "        self.output_size = units\n",
        "        self.simple_rnn_cell = keras.layers.SimpleRNNCell(units,activation=None)\n",
        "        self.layer_norm = keras.layers.LayerNormalization()\n",
        "        self.activation = keras.activations.get(activation)\n",
        "    def call(self, inputs, states):\n",
        "        outputs, new_states = self.simple_rnn_cell(inputs, states)\n",
        "        norm_outputs = self.activation(self.layer_norm(outputs))\n",
        "        return norm_outputs, [norm_outputs]"
      ],
      "execution_count": 32,
      "outputs": []
    }
  ]
}