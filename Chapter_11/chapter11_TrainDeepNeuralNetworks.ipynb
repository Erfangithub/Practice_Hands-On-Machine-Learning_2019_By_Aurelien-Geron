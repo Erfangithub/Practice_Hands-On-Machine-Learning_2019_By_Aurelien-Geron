{
  "nbformat": 4,
  "nbformat_minor": 0,
  "metadata": {
    "colab": {
      "name": "Ch11trdeepneu.ipynb",
      "provenance": [],
      "collapsed_sections": []
    },
    "kernelspec": {
      "name": "python3",
      "display_name": "Python 3"
    }
  },
  "cells": [
    {
      "cell_type": "code",
      "metadata": {
        "id": "z_NidU5e5DbE",
        "colab_type": "code",
        "colab": {
          "base_uri": "https://localhost:8080/",
          "height": 228
        },
        "outputId": "d98c983d-61fd-4004-9008-ab6ce984d909"
      },
      "source": [
        "pip install scikit-learn==0.21.2"
      ],
      "execution_count": 1,
      "outputs": [
        {
          "output_type": "stream",
          "text": [
            "Collecting scikit-learn==0.21.2\n",
            "\u001b[?25l  Downloading https://files.pythonhosted.org/packages/85/04/49633f490f726da6e454fddc8e938bbb5bfed2001681118d3814c219b723/scikit_learn-0.21.2-cp36-cp36m-manylinux1_x86_64.whl (6.7MB)\n",
            "\u001b[K     |████████████████████████████████| 6.7MB 2.5MB/s \n",
            "\u001b[?25hRequirement already satisfied: scipy>=0.17.0 in /usr/local/lib/python3.6/dist-packages (from scikit-learn==0.21.2) (1.4.1)\n",
            "Requirement already satisfied: joblib>=0.11 in /usr/local/lib/python3.6/dist-packages (from scikit-learn==0.21.2) (0.15.1)\n",
            "Requirement already satisfied: numpy>=1.11.0 in /usr/local/lib/python3.6/dist-packages (from scikit-learn==0.21.2) (1.18.5)\n",
            "Installing collected packages: scikit-learn\n",
            "  Found existing installation: scikit-learn 0.22.2.post1\n",
            "    Uninstalling scikit-learn-0.22.2.post1:\n",
            "      Successfully uninstalled scikit-learn-0.22.2.post1\n",
            "Successfully installed scikit-learn-0.21.2\n"
          ],
          "name": "stdout"
        }
      ]
    },
    {
      "cell_type": "code",
      "metadata": {
        "id": "6FGtSwUMKm8y",
        "colab_type": "code",
        "colab": {}
      },
      "source": [
        "# Python ≥3.5 is required\n",
        "import sys\n",
        "assert sys.version_info >= (3, 5)\n",
        "\n",
        "# Scikit-Learn ≥0.20 is required\n",
        "import sklearn\n",
        "assert sklearn.__version__ >= \"0.20\"\n",
        "\n",
        "try:\n",
        "    # %tensorflow_version only exists in Colab.\n",
        "    %tensorflow_version 2.x\n",
        "except Exception:\n",
        "    pass\n",
        "\n",
        "# TensorFlow ≥2.0 is required\n",
        "import tensorflow as tf\n",
        "from tensorflow import keras\n",
        "assert tf.__version__ >= \"2.0\"\n",
        "\n",
        "%load_ext tensorboard\n",
        "\n",
        "# Common imports\n",
        "import numpy as np\n",
        "import os\n",
        "\n",
        "# to make this notebook's output stable across runs\n",
        "np.random.seed(42)\n",
        "\n",
        "# To plot pretty figures\n",
        "%matplotlib inline\n",
        "import matplotlib as mpl\n",
        "import matplotlib.pyplot as plt\n",
        "mpl.rc('axes', labelsize=14)\n",
        "mpl.rc('xtick', labelsize=12)\n",
        "mpl.rc('ytick', labelsize=12)\n",
        "\n",
        "# Where to save the figures\n",
        "PROJECT_ROOT_DIR = \".\"\n",
        "CHAPTER_ID = \"deep\"\n",
        "IMAGES_PATH = os.path.join(PROJECT_ROOT_DIR, \"images\", CHAPTER_ID)\n",
        "os.makedirs(IMAGES_PATH, exist_ok=True)\n",
        "\n",
        "def save_fig(fig_id, tight_layout=True, fig_extension=\"png\", resolution=300):\n",
        "    path = os.path.join(IMAGES_PATH, fig_id + \".\" + fig_extension)\n",
        "    print(\"Saving figure\", fig_id)\n",
        "    if tight_layout:\n",
        "        plt.tight_layout()\n",
        "    plt.savefig(path, format=fig_extension, dpi=resolution)"
      ],
      "execution_count": 2,
      "outputs": []
    },
    {
      "cell_type": "code",
      "metadata": {
        "id": "plGkKCcJcra4",
        "colab_type": "code",
        "colab": {}
      },
      "source": [
        "# Vanishing/Exploding gradients problem\n",
        "\n",
        "model = keras.models.Sequential([\n",
        "    keras.layers.Flatten(input_shape=[28, 28]),\n",
        "    keras.layers.BatchNormalization(),\n",
        "    keras.layers.Dense(300, activation=\"relu\"),\n",
        "    keras.layers.BatchNormalization(),\n",
        "    keras.layers.Dense(100, activation=\"relu\"),\n",
        "    keras.layers.BatchNormalization(),\n",
        "    keras.layers.Dense(10, activation=\"softmax\")\n",
        "])"
      ],
      "execution_count": 3,
      "outputs": []
    },
    {
      "cell_type": "code",
      "metadata": {
        "id": "0TS8sruVKdXT",
        "colab_type": "code",
        "colab": {
          "base_uri": "https://localhost:8080/",
          "height": 399
        },
        "outputId": "46344ffd-b3ec-4414-dfce-501d3878c8b4"
      },
      "source": [
        "model.summary()\n"
      ],
      "execution_count": 4,
      "outputs": [
        {
          "output_type": "stream",
          "text": [
            "Model: \"sequential\"\n",
            "_________________________________________________________________\n",
            "Layer (type)                 Output Shape              Param #   \n",
            "=================================================================\n",
            "flatten (Flatten)            (None, 784)               0         \n",
            "_________________________________________________________________\n",
            "batch_normalization (BatchNo (None, 784)               3136      \n",
            "_________________________________________________________________\n",
            "dense (Dense)                (None, 300)               235500    \n",
            "_________________________________________________________________\n",
            "batch_normalization_1 (Batch (None, 300)               1200      \n",
            "_________________________________________________________________\n",
            "dense_1 (Dense)              (None, 100)               30100     \n",
            "_________________________________________________________________\n",
            "batch_normalization_2 (Batch (None, 100)               400       \n",
            "_________________________________________________________________\n",
            "dense_2 (Dense)              (None, 10)                1010      \n",
            "=================================================================\n",
            "Total params: 271,346\n",
            "Trainable params: 268,978\n",
            "Non-trainable params: 2,368\n",
            "_________________________________________________________________\n"
          ],
          "name": "stdout"
        }
      ]
    },
    {
      "cell_type": "code",
      "metadata": {
        "id": "rrLXn_UsKwgN",
        "colab_type": "code",
        "colab": {
          "base_uri": "https://localhost:8080/",
          "height": 86
        },
        "outputId": "1d6e7c79-82b8-4eb5-f2d9-7a67c487c557"
      },
      "source": [
        "bn1 = model.layers[1]\n",
        "[(var.name, var.trainable) for var in bn1.variables]"
      ],
      "execution_count": 5,
      "outputs": [
        {
          "output_type": "execute_result",
          "data": {
            "text/plain": [
              "[('batch_normalization/gamma:0', True),\n",
              " ('batch_normalization/beta:0', True),\n",
              " ('batch_normalization/moving_mean:0', False),\n",
              " ('batch_normalization/moving_variance:0', False)]"
            ]
          },
          "metadata": {
            "tags": []
          },
          "execution_count": 5
        }
      ]
    },
    {
      "cell_type": "code",
      "metadata": {
        "id": "OpJRI5VGLeuD",
        "colab_type": "code",
        "colab": {
          "base_uri": "https://localhost:8080/",
          "height": 52
        },
        "outputId": "2278affc-73cc-4880-a4cc-40a6506cab78"
      },
      "source": [
        "model.layers[1].updates"
      ],
      "execution_count": 6,
      "outputs": [
        {
          "output_type": "execute_result",
          "data": {
            "text/plain": [
              "[<tf.Operation 'cond/Identity' type=Identity>,\n",
              " <tf.Operation 'cond_1/Identity' type=Identity>]"
            ]
          },
          "metadata": {
            "tags": []
          },
          "execution_count": 6
        }
      ]
    },
    {
      "cell_type": "code",
      "metadata": {
        "id": "AgabZHswLynZ",
        "colab_type": "code",
        "colab": {}
      },
      "source": [
        "# Using batch normalization before the activation function layers\n",
        "\n",
        "model = keras.models.Sequential([\n",
        "    keras.layers.Flatten(input_shape=[28, 28]),\n",
        "    keras.layers.BatchNormalization(),\n",
        "    keras.layers.Dense(300, use_bias=False),\n",
        "    keras.layers.BatchNormalization(),\n",
        "    keras.layers.Activation(\"relu\"),\n",
        "    keras.layers.Dense(100, use_bias=False),\n",
        "    keras.layers.BatchNormalization(),\n",
        "    keras.layers.Activation(\"relu\"),\n",
        "    keras.layers.Dense(10, activation=\"softmax\")\n",
        "])"
      ],
      "execution_count": 7,
      "outputs": []
    },
    {
      "cell_type": "code",
      "metadata": {
        "id": "ogp4SUHRhkhp",
        "colab_type": "code",
        "colab": {
          "base_uri": "https://localhost:8080/",
          "height": 156
        },
        "outputId": "bd66a5a7-6c7d-4c78-f22a-7632d365dad8"
      },
      "source": [
        "(X_train_full, y_train_full), (X_test, y_test) = keras.datasets.fashion_mnist.load_data()\n",
        "X_train_full = X_train_full / 255.0\n",
        "X_test = X_test / 255.0\n",
        "X_valid, X_train = X_train_full[:5000], X_train_full[5000:]\n",
        "y_valid, y_train = y_train_full[:5000], y_train_full[5000:]"
      ],
      "execution_count": 8,
      "outputs": [
        {
          "output_type": "stream",
          "text": [
            "Downloading data from https://storage.googleapis.com/tensorflow/tf-keras-datasets/train-labels-idx1-ubyte.gz\n",
            "32768/29515 [=================================] - 0s 0us/step\n",
            "Downloading data from https://storage.googleapis.com/tensorflow/tf-keras-datasets/train-images-idx3-ubyte.gz\n",
            "26427392/26421880 [==============================] - 0s 0us/step\n",
            "Downloading data from https://storage.googleapis.com/tensorflow/tf-keras-datasets/t10k-labels-idx1-ubyte.gz\n",
            "8192/5148 [===============================================] - 0s 0us/step\n",
            "Downloading data from https://storage.googleapis.com/tensorflow/tf-keras-datasets/t10k-images-idx3-ubyte.gz\n",
            "4423680/4422102 [==============================] - 0s 0us/step\n"
          ],
          "name": "stdout"
        }
      ]
    },
    {
      "cell_type": "code",
      "metadata": {
        "id": "va1rgsrDNCg9",
        "colab_type": "code",
        "colab": {}
      },
      "source": [
        "# Reusing pretrained layers\n",
        "\n",
        "def split_dataset(X, y):\n",
        "    y_5_or_6 = (y == 5) | (y == 6) # sandals or shirts\n",
        "    y_A = y[~y_5_or_6]\n",
        "    y_A[y_A > 6] -= 2 # class indices 7, 8, 9 should be moved to 5, 6, 7\n",
        "    y_B = (y[y_5_or_6] == 6).astype(np.float32) # binary classification task: is it a shirt (class 6)?\n",
        "    return ((X[~y_5_or_6], y_A),\n",
        "            (X[y_5_or_6], y_B))\n",
        "\n",
        "(X_train_A, y_train_A), (X_train_B, y_train_B) = split_dataset(X_train, y_train)\n",
        "(X_valid_A, y_valid_A), (X_valid_B, y_valid_B) = split_dataset(X_valid, y_valid)\n",
        "(X_test_A, y_test_A), (X_test_B, y_test_B) = split_dataset(X_test, y_test)\n",
        "X_train_B = X_train_B[:200]\n",
        "y_train_B = y_train_B[:200]\n"
      ],
      "execution_count": 9,
      "outputs": []
    },
    {
      "cell_type": "code",
      "metadata": {
        "id": "K6_fzS6thMlF",
        "colab_type": "code",
        "colab": {
          "base_uri": "https://localhost:8080/",
          "height": 34
        },
        "outputId": "7062c556-a511-4da0-963d-3b8defd9fedd"
      },
      "source": [
        "X_train_A.shape"
      ],
      "execution_count": 10,
      "outputs": [
        {
          "output_type": "execute_result",
          "data": {
            "text/plain": [
              "(43986, 28, 28)"
            ]
          },
          "metadata": {
            "tags": []
          },
          "execution_count": 10
        }
      ]
    },
    {
      "cell_type": "code",
      "metadata": {
        "id": "Or5-CJPkhtyo",
        "colab_type": "code",
        "colab": {
          "base_uri": "https://localhost:8080/",
          "height": 34
        },
        "outputId": "81a9a0b6-7eb0-48d3-8f02-66183534fbf0"
      },
      "source": [
        "X_train_B.shape\n"
      ],
      "execution_count": 11,
      "outputs": [
        {
          "output_type": "execute_result",
          "data": {
            "text/plain": [
              "(200, 28, 28)"
            ]
          },
          "metadata": {
            "tags": []
          },
          "execution_count": 11
        }
      ]
    },
    {
      "cell_type": "code",
      "metadata": {
        "id": "oXSfcbmrhwJo",
        "colab_type": "code",
        "colab": {
          "base_uri": "https://localhost:8080/",
          "height": 52
        },
        "outputId": "00ff2065-b117-4a9b-b963-7138d63a18ad"
      },
      "source": [
        "y_train_A[:30]"
      ],
      "execution_count": 12,
      "outputs": [
        {
          "output_type": "execute_result",
          "data": {
            "text/plain": [
              "array([4, 0, 5, 7, 7, 7, 4, 4, 3, 4, 0, 1, 6, 3, 4, 3, 2, 6, 5, 3, 4, 5,\n",
              "       1, 3, 4, 2, 0, 6, 7, 1], dtype=uint8)"
            ]
          },
          "metadata": {
            "tags": []
          },
          "execution_count": 12
        }
      ]
    },
    {
      "cell_type": "code",
      "metadata": {
        "id": "bVCRJQKkhyFY",
        "colab_type": "code",
        "colab": {
          "base_uri": "https://localhost:8080/",
          "height": 52
        },
        "outputId": "85ecdd44-a705-4e7c-ba6c-52f3a4f97319"
      },
      "source": [
        "y_train_B[:30]"
      ],
      "execution_count": 13,
      "outputs": [
        {
          "output_type": "execute_result",
          "data": {
            "text/plain": [
              "array([1., 1., 0., 0., 0., 0., 1., 1., 1., 0., 0., 1., 1., 0., 0., 0., 0.,\n",
              "       0., 0., 1., 1., 0., 0., 1., 1., 0., 1., 1., 1., 1.], dtype=float32)"
            ]
          },
          "metadata": {
            "tags": []
          },
          "execution_count": 13
        }
      ]
    },
    {
      "cell_type": "code",
      "metadata": {
        "id": "jXeBwE29h0sR",
        "colab_type": "code",
        "colab": {}
      },
      "source": [
        "model_A = keras.models.Sequential()\n",
        "model_A.add(keras.layers.Flatten(input_shape=[28, 28]))\n",
        "for n_hidden in (300, 100, 50, 50, 50):\n",
        "    model_A.add(keras.layers.Dense(n_hidden, activation=\"selu\"))\n",
        "model_A.add(keras.layers.Dense(8, activation=\"softmax\"))"
      ],
      "execution_count": 14,
      "outputs": []
    },
    {
      "cell_type": "code",
      "metadata": {
        "id": "IF7wx8J-h4hH",
        "colab_type": "code",
        "colab": {}
      },
      "source": [
        "model_A.compile(loss=\"sparse_categorical_crossentropy\",\n",
        "                optimizer=keras.optimizers.SGD(lr=1e-3),\n",
        "                metrics=[\"accuracy\"])"
      ],
      "execution_count": 15,
      "outputs": []
    },
    {
      "cell_type": "code",
      "metadata": {
        "id": "mmx7JS0jiN0d",
        "colab_type": "code",
        "colab": {
          "base_uri": "https://localhost:8080/",
          "height": 732
        },
        "outputId": "a2eb298f-9195-426d-be27-4a641ba99a01"
      },
      "source": [
        "history = model_A.fit(X_train_A, y_train_A, epochs=20,\n",
        "                    validation_data=(X_valid_A, y_valid_A))"
      ],
      "execution_count": 16,
      "outputs": [
        {
          "output_type": "stream",
          "text": [
            "Epoch 1/20\n",
            "1375/1375 [==============================] - 5s 3ms/step - loss: 0.5555 - accuracy: 0.8214 - val_loss: 0.3772 - val_accuracy: 0.8697\n",
            "Epoch 2/20\n",
            "1375/1375 [==============================] - 4s 3ms/step - loss: 0.3460 - accuracy: 0.8811 - val_loss: 0.3304 - val_accuracy: 0.8852\n",
            "Epoch 3/20\n",
            "1375/1375 [==============================] - 5s 3ms/step - loss: 0.3119 - accuracy: 0.8922 - val_loss: 0.3089 - val_accuracy: 0.8931\n",
            "Epoch 4/20\n",
            "1375/1375 [==============================] - 5s 3ms/step - loss: 0.2931 - accuracy: 0.8985 - val_loss: 0.2908 - val_accuracy: 0.8984\n",
            "Epoch 5/20\n",
            "1375/1375 [==============================] - 4s 3ms/step - loss: 0.2808 - accuracy: 0.9025 - val_loss: 0.2797 - val_accuracy: 0.9001\n",
            "Epoch 6/20\n",
            "1375/1375 [==============================] - 4s 3ms/step - loss: 0.2713 - accuracy: 0.9061 - val_loss: 0.2746 - val_accuracy: 0.9058\n",
            "Epoch 7/20\n",
            "1375/1375 [==============================] - 4s 3ms/step - loss: 0.2637 - accuracy: 0.9093 - val_loss: 0.2680 - val_accuracy: 0.9078\n",
            "Epoch 8/20\n",
            "1375/1375 [==============================] - 4s 3ms/step - loss: 0.2571 - accuracy: 0.9128 - val_loss: 0.2602 - val_accuracy: 0.9093\n",
            "Epoch 9/20\n",
            "1375/1375 [==============================] - 4s 3ms/step - loss: 0.2520 - accuracy: 0.9141 - val_loss: 0.2604 - val_accuracy: 0.9103\n",
            "Epoch 10/20\n",
            "1375/1375 [==============================] - 4s 3ms/step - loss: 0.2476 - accuracy: 0.9170 - val_loss: 0.2530 - val_accuracy: 0.9111\n",
            "Epoch 11/20\n",
            "1375/1375 [==============================] - 4s 3ms/step - loss: 0.2433 - accuracy: 0.9169 - val_loss: 0.2519 - val_accuracy: 0.9123\n",
            "Epoch 12/20\n",
            "1375/1375 [==============================] - 4s 3ms/step - loss: 0.2394 - accuracy: 0.9185 - val_loss: 0.2526 - val_accuracy: 0.9111\n",
            "Epoch 13/20\n",
            "1375/1375 [==============================] - 4s 3ms/step - loss: 0.2356 - accuracy: 0.9203 - val_loss: 0.2515 - val_accuracy: 0.9133\n",
            "Epoch 14/20\n",
            "1375/1375 [==============================] - 4s 3ms/step - loss: 0.2327 - accuracy: 0.9210 - val_loss: 0.2422 - val_accuracy: 0.9155\n",
            "Epoch 15/20\n",
            "1375/1375 [==============================] - 4s 3ms/step - loss: 0.2290 - accuracy: 0.9213 - val_loss: 0.2437 - val_accuracy: 0.9170\n",
            "Epoch 16/20\n",
            "1375/1375 [==============================] - 4s 3ms/step - loss: 0.2264 - accuracy: 0.9222 - val_loss: 0.2391 - val_accuracy: 0.9168\n",
            "Epoch 17/20\n",
            "1375/1375 [==============================] - 4s 3ms/step - loss: 0.2245 - accuracy: 0.9231 - val_loss: 0.2497 - val_accuracy: 0.9123\n",
            "Epoch 18/20\n",
            "1375/1375 [==============================] - 4s 3ms/step - loss: 0.2217 - accuracy: 0.9244 - val_loss: 0.2368 - val_accuracy: 0.9155\n",
            "Epoch 19/20\n",
            "1375/1375 [==============================] - 4s 3ms/step - loss: 0.2189 - accuracy: 0.9248 - val_loss: 0.2460 - val_accuracy: 0.9160\n",
            "Epoch 20/20\n",
            "1375/1375 [==============================] - 4s 3ms/step - loss: 0.2167 - accuracy: 0.9256 - val_loss: 0.2369 - val_accuracy: 0.9183\n"
          ],
          "name": "stdout"
        }
      ]
    },
    {
      "cell_type": "code",
      "metadata": {
        "id": "mItjAfu4iQlw",
        "colab_type": "code",
        "colab": {}
      },
      "source": [
        "model_A.save(\"my_model_A.h5\")\n",
        "\n"
      ],
      "execution_count": 17,
      "outputs": []
    },
    {
      "cell_type": "code",
      "metadata": {
        "id": "YNftk8PtijjN",
        "colab_type": "code",
        "colab": {}
      },
      "source": [
        "model_B = keras.models.Sequential()\n",
        "model_B.add(keras.layers.Flatten(input_shape=[28, 28]))\n",
        "for n_hidden in (300, 100, 50, 50, 50):\n",
        "    model_B.add(keras.layers.Dense(n_hidden, activation=\"selu\"))\n",
        "model_B.add(keras.layers.Dense(1, activation=\"sigmoid\"))"
      ],
      "execution_count": 18,
      "outputs": []
    },
    {
      "cell_type": "code",
      "metadata": {
        "id": "FU3ZZJyaimGa",
        "colab_type": "code",
        "colab": {}
      },
      "source": [
        "model_B.compile(loss=\"binary_crossentropy\",\n",
        "                optimizer=keras.optimizers.SGD(lr=1e-3),\n",
        "                metrics=[\"accuracy\"])"
      ],
      "execution_count": 19,
      "outputs": []
    },
    {
      "cell_type": "code",
      "metadata": {
        "id": "CwuGgBHVipP_",
        "colab_type": "code",
        "colab": {
          "base_uri": "https://localhost:8080/",
          "height": 712
        },
        "outputId": "d10937be-3d86-43ce-991e-949730a40100"
      },
      "source": [
        "history = model_B.fit(X_train_B, y_train_B, epochs=20,\n",
        "                      validation_data=(X_valid_B, y_valid_B))"
      ],
      "execution_count": 20,
      "outputs": [
        {
          "output_type": "stream",
          "text": [
            "Epoch 1/20\n",
            "7/7 [==============================] - 0s 28ms/step - loss: 0.6698 - accuracy: 0.6150 - val_loss: 0.4986 - val_accuracy: 0.7921\n",
            "Epoch 2/20\n",
            "7/7 [==============================] - 0s 16ms/step - loss: 0.4683 - accuracy: 0.8100 - val_loss: 0.3956 - val_accuracy: 0.8844\n",
            "Epoch 3/20\n",
            "7/7 [==============================] - 0s 14ms/step - loss: 0.3731 - accuracy: 0.8950 - val_loss: 0.3261 - val_accuracy: 0.9168\n",
            "Epoch 4/20\n",
            "7/7 [==============================] - 0s 14ms/step - loss: 0.3056 - accuracy: 0.9250 - val_loss: 0.2791 - val_accuracy: 0.9391\n",
            "Epoch 5/20\n",
            "7/7 [==============================] - 0s 16ms/step - loss: 0.2605 - accuracy: 0.9600 - val_loss: 0.2449 - val_accuracy: 0.9625\n",
            "Epoch 6/20\n",
            "7/7 [==============================] - 0s 15ms/step - loss: 0.2273 - accuracy: 0.9750 - val_loss: 0.2188 - val_accuracy: 0.9736\n",
            "Epoch 7/20\n",
            "7/7 [==============================] - 0s 14ms/step - loss: 0.2017 - accuracy: 0.9750 - val_loss: 0.1970 - val_accuracy: 0.9757\n",
            "Epoch 8/20\n",
            "7/7 [==============================] - 0s 15ms/step - loss: 0.1807 - accuracy: 0.9800 - val_loss: 0.1799 - val_accuracy: 0.9787\n",
            "Epoch 9/20\n",
            "7/7 [==============================] - 0s 15ms/step - loss: 0.1640 - accuracy: 0.9850 - val_loss: 0.1660 - val_accuracy: 0.9807\n",
            "Epoch 10/20\n",
            "7/7 [==============================] - 0s 15ms/step - loss: 0.1504 - accuracy: 0.9850 - val_loss: 0.1540 - val_accuracy: 0.9828\n",
            "Epoch 11/20\n",
            "7/7 [==============================] - 0s 15ms/step - loss: 0.1388 - accuracy: 0.9900 - val_loss: 0.1439 - val_accuracy: 0.9828\n",
            "Epoch 12/20\n",
            "7/7 [==============================] - 0s 14ms/step - loss: 0.1289 - accuracy: 0.9950 - val_loss: 0.1351 - val_accuracy: 0.9838\n",
            "Epoch 13/20\n",
            "7/7 [==============================] - 0s 14ms/step - loss: 0.1200 - accuracy: 0.9950 - val_loss: 0.1271 - val_accuracy: 0.9848\n",
            "Epoch 14/20\n",
            "7/7 [==============================] - 0s 16ms/step - loss: 0.1124 - accuracy: 0.9950 - val_loss: 0.1201 - val_accuracy: 0.9868\n",
            "Epoch 15/20\n",
            "7/7 [==============================] - 0s 15ms/step - loss: 0.1056 - accuracy: 0.9950 - val_loss: 0.1145 - val_accuracy: 0.9878\n",
            "Epoch 16/20\n",
            "7/7 [==============================] - 0s 15ms/step - loss: 0.0998 - accuracy: 0.9950 - val_loss: 0.1094 - val_accuracy: 0.9868\n",
            "Epoch 17/20\n",
            "7/7 [==============================] - 0s 14ms/step - loss: 0.0945 - accuracy: 0.9950 - val_loss: 0.1050 - val_accuracy: 0.9878\n",
            "Epoch 18/20\n",
            "7/7 [==============================] - 0s 16ms/step - loss: 0.0901 - accuracy: 0.9950 - val_loss: 0.1010 - val_accuracy: 0.9868\n",
            "Epoch 19/20\n",
            "7/7 [==============================] - 0s 15ms/step - loss: 0.0860 - accuracy: 0.9950 - val_loss: 0.0974 - val_accuracy: 0.9868\n",
            "Epoch 20/20\n",
            "7/7 [==============================] - 0s 14ms/step - loss: 0.0825 - accuracy: 0.9950 - val_loss: 0.0942 - val_accuracy: 0.9888\n"
          ],
          "name": "stdout"
        }
      ]
    },
    {
      "cell_type": "code",
      "metadata": {
        "id": "-ov6KI9jpPmM",
        "colab_type": "code",
        "colab": {
          "base_uri": "https://localhost:8080/",
          "height": 139
        },
        "outputId": "0ab345f7-fc39-4d6f-faa3-2d0658578cbd"
      },
      "source": [
        "model_A.layers"
      ],
      "execution_count": 21,
      "outputs": [
        {
          "output_type": "execute_result",
          "data": {
            "text/plain": [
              "[<tensorflow.python.keras.layers.core.Flatten at 0x7f6a857293c8>,\n",
              " <tensorflow.python.keras.layers.core.Dense at 0x7f6a8b52d978>,\n",
              " <tensorflow.python.keras.layers.core.Dense at 0x7f6a85729710>,\n",
              " <tensorflow.python.keras.layers.core.Dense at 0x7f6a85729908>,\n",
              " <tensorflow.python.keras.layers.core.Dense at 0x7f6a85729630>,\n",
              " <tensorflow.python.keras.layers.core.Dense at 0x7f6ad033e5c0>,\n",
              " <tensorflow.python.keras.layers.core.Dense at 0x7f6a852a9eb8>]"
            ]
          },
          "metadata": {
            "tags": []
          },
          "execution_count": 21
        }
      ]
    },
    {
      "cell_type": "code",
      "metadata": {
        "id": "Wnm7epCEpoBz",
        "colab_type": "code",
        "colab": {}
      },
      "source": [
        "model_A = keras.models.load_model(\"my_model_A.h5\")\n",
        "model_B_on_A = keras.models.Sequential(model_A.layers[:-1])\n",
        "model_B_on_A.add(keras.layers.Dense(1, activation=\"sigmoid\"))"
      ],
      "execution_count": 22,
      "outputs": []
    },
    {
      "cell_type": "code",
      "metadata": {
        "id": "7oncnYTjqFH_",
        "colab_type": "code",
        "colab": {}
      },
      "source": [
        "model_A_clone = keras.models.clone_model(model_A)\n",
        "model_A_clone.set_weights(model_A.get_weights())"
      ],
      "execution_count": 23,
      "outputs": []
    },
    {
      "cell_type": "code",
      "metadata": {
        "id": "SC82YaXYqMyc",
        "colab_type": "code",
        "colab": {}
      },
      "source": [
        "for layer in model_B_on_A.layers[:-1]:\n",
        "  layer.trainable = False\n",
        "model_B_on_A.compile(loss=\"binary_crossentropy\", optimizer=\"sgd\",\n",
        "metrics=[\"accuracy\"])"
      ],
      "execution_count": 24,
      "outputs": []
    },
    {
      "cell_type": "code",
      "metadata": {
        "id": "NPLAfs8lq5Bv",
        "colab_type": "code",
        "colab": {
          "base_uri": "https://localhost:8080/",
          "height": 712
        },
        "outputId": "08527093-156a-4e9a-cf4b-eeedbb16fad3"
      },
      "source": [
        "history = model_B_on_A.fit(X_train_B, y_train_B, epochs=4,\n",
        "                           validation_data=(X_valid_B, y_valid_B))\n",
        "\n",
        "for layer in model_B_on_A.layers[:-1]:\n",
        "    layer.trainable = True\n",
        "\n",
        "optimizer = keras.optimizers.SGD(lr=1e-4)\n",
        "model_B_on_A.compile(loss=\"binary_crossentropy\",\n",
        "                     optimizer=optimizer,\n",
        "                     metrics=[\"accuracy\"])\n",
        "history = model_B_on_A.fit(X_train_B, y_train_B, epochs=16,\n",
        "                           validation_data=(X_valid_B, y_valid_B))"
      ],
      "execution_count": 25,
      "outputs": [
        {
          "output_type": "stream",
          "text": [
            "Epoch 1/4\n",
            "7/7 [==============================] - 0s 28ms/step - loss: 1.4115 - accuracy: 0.1900 - val_loss: 0.7492 - val_accuracy: 0.4990\n",
            "Epoch 2/4\n",
            "7/7 [==============================] - 0s 13ms/step - loss: 0.5293 - accuracy: 0.7400 - val_loss: 0.3556 - val_accuracy: 0.9249\n",
            "Epoch 3/4\n",
            "7/7 [==============================] - 0s 13ms/step - loss: 0.2758 - accuracy: 0.9500 - val_loss: 0.2294 - val_accuracy: 0.9726\n",
            "Epoch 4/4\n",
            "7/7 [==============================] - 0s 15ms/step - loss: 0.1857 - accuracy: 0.9850 - val_loss: 0.1703 - val_accuracy: 0.9817\n",
            "Epoch 1/16\n",
            "7/7 [==============================] - 0s 27ms/step - loss: 0.1522 - accuracy: 0.9950 - val_loss: 0.1670 - val_accuracy: 0.9828\n",
            "Epoch 2/16\n",
            "7/7 [==============================] - 0s 14ms/step - loss: 0.1491 - accuracy: 0.9950 - val_loss: 0.1642 - val_accuracy: 0.9828\n",
            "Epoch 3/16\n",
            "7/7 [==============================] - 0s 15ms/step - loss: 0.1464 - accuracy: 0.9950 - val_loss: 0.1616 - val_accuracy: 0.9828\n",
            "Epoch 4/16\n",
            "7/7 [==============================] - 0s 14ms/step - loss: 0.1439 - accuracy: 0.9950 - val_loss: 0.1589 - val_accuracy: 0.9848\n",
            "Epoch 5/16\n",
            "7/7 [==============================] - 0s 16ms/step - loss: 0.1414 - accuracy: 0.9950 - val_loss: 0.1564 - val_accuracy: 0.9858\n",
            "Epoch 6/16\n",
            "7/7 [==============================] - 0s 15ms/step - loss: 0.1390 - accuracy: 0.9950 - val_loss: 0.1540 - val_accuracy: 0.9868\n",
            "Epoch 7/16\n",
            "7/7 [==============================] - 0s 14ms/step - loss: 0.1367 - accuracy: 0.9950 - val_loss: 0.1516 - val_accuracy: 0.9868\n",
            "Epoch 8/16\n",
            "7/7 [==============================] - 0s 15ms/step - loss: 0.1344 - accuracy: 0.9950 - val_loss: 0.1493 - val_accuracy: 0.9868\n",
            "Epoch 9/16\n",
            "7/7 [==============================] - 0s 15ms/step - loss: 0.1321 - accuracy: 0.9950 - val_loss: 0.1470 - val_accuracy: 0.9868\n",
            "Epoch 10/16\n",
            "7/7 [==============================] - 0s 14ms/step - loss: 0.1300 - accuracy: 0.9950 - val_loss: 0.1449 - val_accuracy: 0.9868\n",
            "Epoch 11/16\n",
            "7/7 [==============================] - 0s 15ms/step - loss: 0.1280 - accuracy: 0.9950 - val_loss: 0.1428 - val_accuracy: 0.9868\n",
            "Epoch 12/16\n",
            "7/7 [==============================] - 0s 15ms/step - loss: 0.1260 - accuracy: 0.9950 - val_loss: 0.1409 - val_accuracy: 0.9868\n",
            "Epoch 13/16\n",
            "7/7 [==============================] - 0s 15ms/step - loss: 0.1242 - accuracy: 0.9950 - val_loss: 0.1390 - val_accuracy: 0.9878\n",
            "Epoch 14/16\n",
            "7/7 [==============================] - 0s 16ms/step - loss: 0.1223 - accuracy: 0.9950 - val_loss: 0.1372 - val_accuracy: 0.9878\n",
            "Epoch 15/16\n",
            "7/7 [==============================] - 0s 15ms/step - loss: 0.1206 - accuracy: 0.9950 - val_loss: 0.1356 - val_accuracy: 0.9878\n",
            "Epoch 16/16\n",
            "7/7 [==============================] - 0s 15ms/step - loss: 0.1190 - accuracy: 0.9950 - val_loss: 0.1339 - val_accuracy: 0.9878\n"
          ],
          "name": "stdout"
        }
      ]
    },
    {
      "cell_type": "code",
      "metadata": {
        "id": "3y_MFNv_sMiY",
        "colab_type": "code",
        "colab": {
          "base_uri": "https://localhost:8080/",
          "height": 52
        },
        "outputId": "411cb4eb-23e3-4f2e-8d13-432c1c69504e"
      },
      "source": [
        "model_B.evaluate(X_test_B, y_test_B)"
      ],
      "execution_count": 26,
      "outputs": [
        {
          "output_type": "stream",
          "text": [
            "63/63 [==============================] - 0s 2ms/step - loss: 0.0887 - accuracy: 0.9910\n"
          ],
          "name": "stdout"
        },
        {
          "output_type": "execute_result",
          "data": {
            "text/plain": [
              "[0.088662289083004, 0.9909999966621399]"
            ]
          },
          "metadata": {
            "tags": []
          },
          "execution_count": 26
        }
      ]
    },
    {
      "cell_type": "code",
      "metadata": {
        "id": "fij09hS1smXi",
        "colab_type": "code",
        "colab": {
          "base_uri": "https://localhost:8080/",
          "height": 52
        },
        "outputId": "965939bc-548a-402e-ab1d-dc6f189ed456"
      },
      "source": [
        "model_B_on_A.evaluate(X_test_B, y_test_B)\n",
        "\n"
      ],
      "execution_count": 27,
      "outputs": [
        {
          "output_type": "stream",
          "text": [
            "63/63 [==============================] - 0s 2ms/step - loss: 0.1324 - accuracy: 0.9895\n"
          ],
          "name": "stdout"
        },
        {
          "output_type": "execute_result",
          "data": {
            "text/plain": [
              "[0.1324496865272522, 0.9894999861717224]"
            ]
          },
          "metadata": {
            "tags": []
          },
          "execution_count": 27
        }
      ]
    },
    {
      "cell_type": "code",
      "metadata": {
        "id": "3YW3_TO2sq40",
        "colab_type": "code",
        "colab": {}
      },
      "source": [
        "# Faster Optmizers"
      ],
      "execution_count": 28,
      "outputs": []
    },
    {
      "cell_type": "code",
      "metadata": {
        "id": "HamGQHVeDTwS",
        "colab_type": "code",
        "colab": {}
      },
      "source": [
        "# Avoiding overfitting through regularization"
      ],
      "execution_count": 29,
      "outputs": []
    },
    {
      "cell_type": "code",
      "metadata": {
        "id": "6qzn_JVSDan8",
        "colab_type": "code",
        "colab": {}
      },
      "source": [
        "pixel_means = X_train.mean(axis=0, keepdims=True)\n",
        "pixel_stds = X_train.std(axis=0, keepdims=True)\n",
        "X_train_scaled = (X_train - pixel_means) / pixel_stds\n",
        "X_valid_scaled = (X_valid - pixel_means) / pixel_stds\n",
        "X_test_scaled = (X_test - pixel_means) / pixel_stds"
      ],
      "execution_count": 30,
      "outputs": []
    },
    {
      "cell_type": "code",
      "metadata": {
        "id": "8c2GTiN7Eje8",
        "colab_type": "code",
        "colab": {
          "base_uri": "https://localhost:8080/",
          "height": 106
        },
        "outputId": "96c773df-bce8-486c-920a-936439deb483"
      },
      "source": [
        "# Dropout\n",
        "\n",
        "model = keras.models.Sequential([\n",
        "    keras.layers.Flatten(input_shape=[28, 28]),\n",
        "    keras.layers.Dropout(rate=0.2),\n",
        "    keras.layers.Dense(300, activation=\"elu\", kernel_initializer=\"he_normal\"),\n",
        "    keras.layers.Dropout(rate=0.2),\n",
        "    keras.layers.Dense(100, activation=\"elu\", kernel_initializer=\"he_normal\"),\n",
        "    keras.layers.Dropout(rate=0.2),\n",
        "    keras.layers.Dense(10, activation=\"softmax\")\n",
        "])\n",
        "model.compile(loss=\"sparse_categorical_crossentropy\", optimizer=\"nadam\", metrics=[\"accuracy\"])\n",
        "n_epochs = 2\n",
        "history = model.fit(X_train_scaled, y_train, epochs=n_epochs,\n",
        "                    validation_data=(X_valid_scaled, y_valid))"
      ],
      "execution_count": 31,
      "outputs": [
        {
          "output_type": "stream",
          "text": [
            "Epoch 1/2\n",
            "1719/1719 [==============================] - 12s 7ms/step - loss: 0.5675 - accuracy: 0.8031 - val_loss: 0.3707 - val_accuracy: 0.8622\n",
            "Epoch 2/2\n",
            "1719/1719 [==============================] - 11s 7ms/step - loss: 0.4226 - accuracy: 0.8453 - val_loss: 0.3472 - val_accuracy: 0.8716\n"
          ],
          "name": "stdout"
        }
      ]
    },
    {
      "cell_type": "code",
      "metadata": {
        "id": "CB6I4n9HFBQA",
        "colab_type": "code",
        "colab": {}
      },
      "source": [
        "# Alpha Dropout\n",
        "\n",
        "tf.random.set_seed(42)\n",
        "np.random.seed(42)"
      ],
      "execution_count": 32,
      "outputs": []
    },
    {
      "cell_type": "code",
      "metadata": {
        "id": "bFtzcvkPH-IX",
        "colab_type": "code",
        "colab": {
          "base_uri": "https://localhost:8080/",
          "height": 732
        },
        "outputId": "43956da8-a87c-43b2-d573-39caa3bd516a"
      },
      "source": [
        "model = keras.models.Sequential([\n",
        "    keras.layers.Flatten(input_shape=[28, 28]),\n",
        "    keras.layers.AlphaDropout(rate=0.2),\n",
        "    keras.layers.Dense(300, activation=\"selu\", kernel_initializer=\"lecun_normal\"),\n",
        "    keras.layers.AlphaDropout(rate=0.2),\n",
        "    keras.layers.Dense(100, activation=\"selu\", kernel_initializer=\"lecun_normal\"),\n",
        "    keras.layers.AlphaDropout(rate=0.2),\n",
        "    keras.layers.Dense(10, activation=\"softmax\")\n",
        "])\n",
        "optimizer = keras.optimizers.SGD(lr=0.01, momentum=0.9, nesterov=True)\n",
        "model.compile(loss=\"sparse_categorical_crossentropy\", optimizer=optimizer, metrics=[\"accuracy\"])\n",
        "n_epochs = 20\n",
        "history = model.fit(X_train_scaled, y_train, epochs=n_epochs,\n",
        "                    validation_data=(X_valid_scaled, y_valid))\n"
      ],
      "execution_count": 33,
      "outputs": [
        {
          "output_type": "stream",
          "text": [
            "Epoch 1/20\n",
            "1719/1719 [==============================] - 7s 4ms/step - loss: 0.6654 - accuracy: 0.7594 - val_loss: 0.5934 - val_accuracy: 0.8412\n",
            "Epoch 2/20\n",
            "1719/1719 [==============================] - 7s 4ms/step - loss: 0.5605 - accuracy: 0.7939 - val_loss: 0.5519 - val_accuracy: 0.8396\n",
            "Epoch 3/20\n",
            "1719/1719 [==============================] - 8s 4ms/step - loss: 0.5283 - accuracy: 0.8051 - val_loss: 0.4866 - val_accuracy: 0.8590\n",
            "Epoch 4/20\n",
            "1719/1719 [==============================] - 7s 4ms/step - loss: 0.5072 - accuracy: 0.8117 - val_loss: 0.4633 - val_accuracy: 0.8592\n",
            "Epoch 5/20\n",
            "1719/1719 [==============================] - 7s 4ms/step - loss: 0.4922 - accuracy: 0.8187 - val_loss: 0.4641 - val_accuracy: 0.8586\n",
            "Epoch 6/20\n",
            "1719/1719 [==============================] - 7s 4ms/step - loss: 0.4865 - accuracy: 0.8195 - val_loss: 0.4724 - val_accuracy: 0.8596\n",
            "Epoch 7/20\n",
            "1719/1719 [==============================] - 7s 4ms/step - loss: 0.4727 - accuracy: 0.8240 - val_loss: 0.4590 - val_accuracy: 0.8690\n",
            "Epoch 8/20\n",
            "1719/1719 [==============================] - 7s 4ms/step - loss: 0.4636 - accuracy: 0.8274 - val_loss: 0.4690 - val_accuracy: 0.8646\n",
            "Epoch 9/20\n",
            "1719/1719 [==============================] - 7s 4ms/step - loss: 0.4583 - accuracy: 0.8299 - val_loss: 0.4093 - val_accuracy: 0.8728\n",
            "Epoch 10/20\n",
            "1719/1719 [==============================] - 7s 4ms/step - loss: 0.4523 - accuracy: 0.8327 - val_loss: 0.4627 - val_accuracy: 0.8662\n",
            "Epoch 11/20\n",
            "1719/1719 [==============================] - 7s 4ms/step - loss: 0.4487 - accuracy: 0.8321 - val_loss: 0.4168 - val_accuracy: 0.8706\n",
            "Epoch 12/20\n",
            "1719/1719 [==============================] - 7s 4ms/step - loss: 0.4467 - accuracy: 0.8345 - val_loss: 0.5469 - val_accuracy: 0.8504\n",
            "Epoch 13/20\n",
            "1719/1719 [==============================] - 7s 4ms/step - loss: 0.4422 - accuracy: 0.8362 - val_loss: 0.4507 - val_accuracy: 0.8698\n",
            "Epoch 14/20\n",
            "1719/1719 [==============================] - 7s 4ms/step - loss: 0.4316 - accuracy: 0.8395 - val_loss: 0.4614 - val_accuracy: 0.8692\n",
            "Epoch 15/20\n",
            "1719/1719 [==============================] - 7s 4ms/step - loss: 0.4334 - accuracy: 0.8359 - val_loss: 0.4363 - val_accuracy: 0.8658\n",
            "Epoch 16/20\n",
            "1719/1719 [==============================] - 7s 4ms/step - loss: 0.4305 - accuracy: 0.8414 - val_loss: 0.4152 - val_accuracy: 0.8772\n",
            "Epoch 17/20\n",
            "1719/1719 [==============================] - 7s 4ms/step - loss: 0.4259 - accuracy: 0.8416 - val_loss: 0.5510 - val_accuracy: 0.8586\n",
            "Epoch 18/20\n",
            "1719/1719 [==============================] - 7s 4ms/step - loss: 0.4247 - accuracy: 0.8418 - val_loss: 0.4940 - val_accuracy: 0.8754\n",
            "Epoch 19/20\n",
            "1719/1719 [==============================] - 7s 4ms/step - loss: 0.4219 - accuracy: 0.8448 - val_loss: 0.4910 - val_accuracy: 0.8718\n",
            "Epoch 20/20\n",
            "1719/1719 [==============================] - 7s 4ms/step - loss: 0.4246 - accuracy: 0.8432 - val_loss: 0.4068 - val_accuracy: 0.8770\n"
          ],
          "name": "stdout"
        }
      ]
    },
    {
      "cell_type": "code",
      "metadata": {
        "id": "tYPW3ppiIAhj",
        "colab_type": "code",
        "colab": {
          "base_uri": "https://localhost:8080/",
          "height": 52
        },
        "outputId": "6b78f34d-68c1-45b8-b00c-7d55f456adfd"
      },
      "source": [
        "model.evaluate(X_test_scaled, y_test)"
      ],
      "execution_count": 34,
      "outputs": [
        {
          "output_type": "stream",
          "text": [
            "313/313 [==============================] - 1s 2ms/step - loss: 0.4467 - accuracy: 0.8648\n"
          ],
          "name": "stdout"
        },
        {
          "output_type": "execute_result",
          "data": {
            "text/plain": [
              "[0.44666436314582825, 0.864799976348877]"
            ]
          },
          "metadata": {
            "tags": []
          },
          "execution_count": 34
        }
      ]
    },
    {
      "cell_type": "code",
      "metadata": {
        "id": "a84Cg6HUIILE",
        "colab_type": "code",
        "colab": {
          "base_uri": "https://localhost:8080/",
          "height": 52
        },
        "outputId": "c8998924-67ec-4b77-b4bc-c53a9ddd124e"
      },
      "source": [
        "model.evaluate(X_train_scaled, y_train)\n"
      ],
      "execution_count": 35,
      "outputs": [
        {
          "output_type": "stream",
          "text": [
            "1719/1719 [==============================] - 3s 2ms/step - loss: 0.3318 - accuracy: 0.8873\n"
          ],
          "name": "stdout"
        },
        {
          "output_type": "execute_result",
          "data": {
            "text/plain": [
              "[0.33179745078086853, 0.8873090744018555]"
            ]
          },
          "metadata": {
            "tags": []
          },
          "execution_count": 35
        }
      ]
    },
    {
      "cell_type": "code",
      "metadata": {
        "id": "RuHCv6g-I0zN",
        "colab_type": "code",
        "colab": {}
      },
      "source": [
        "# MC Dropout\n",
        "\n",
        "tf.random.set_seed(42)\n",
        "np.random.seed(42)\n"
      ],
      "execution_count": 36,
      "outputs": []
    },
    {
      "cell_type": "code",
      "metadata": {
        "id": "ISc2D1eJJQdL",
        "colab_type": "code",
        "colab": {}
      },
      "source": [
        "y_probas = np.stack([model(X_test_scaled, training=True)\n",
        "                     for sample in range(100)])\n",
        "y_proba = y_probas.mean(axis=0)\n",
        "y_std = y_probas.std(axis=0)\n"
      ],
      "execution_count": 37,
      "outputs": []
    },
    {
      "cell_type": "code",
      "metadata": {
        "id": "xBG7qYElJWld",
        "colab_type": "code",
        "colab": {
          "base_uri": "https://localhost:8080/",
          "height": 34
        },
        "outputId": "437c43a3-9de7-4703-af30-3347b8eef6b1"
      },
      "source": [
        "y_probas.shape"
      ],
      "execution_count": 38,
      "outputs": [
        {
          "output_type": "execute_result",
          "data": {
            "text/plain": [
              "(100, 10000, 10)"
            ]
          },
          "metadata": {
            "tags": []
          },
          "execution_count": 38
        }
      ]
    },
    {
      "cell_type": "code",
      "metadata": {
        "id": "kGfjrLr8N-75",
        "colab_type": "code",
        "colab": {
          "base_uri": "https://localhost:8080/",
          "height": 52
        },
        "outputId": "382e10b2-27f8-4d7f-9e53-795824c62f8d"
      },
      "source": [
        "np.round(model.predict(X_test_scaled[:1]), 2)"
      ],
      "execution_count": 39,
      "outputs": [
        {
          "output_type": "execute_result",
          "data": {
            "text/plain": [
              "array([[0.  , 0.  , 0.  , 0.  , 0.  , 0.02, 0.  , 0.01, 0.  , 0.97]],\n",
              "      dtype=float32)"
            ]
          },
          "metadata": {
            "tags": []
          },
          "execution_count": 39
        }
      ]
    },
    {
      "cell_type": "code",
      "metadata": {
        "id": "AZh1fH1LN_fo",
        "colab_type": "code",
        "colab": {
          "base_uri": "https://localhost:8080/",
          "height": 52
        },
        "outputId": "2af7db4c-98d6-4714-b1dc-aa0b3558a365"
      },
      "source": [
        "np.round(y_proba[:1], 2)"
      ],
      "execution_count": 40,
      "outputs": [
        {
          "output_type": "execute_result",
          "data": {
            "text/plain": [
              "array([[0.  , 0.  , 0.  , 0.  , 0.  , 0.3 , 0.  , 0.18, 0.  , 0.52]],\n",
              "      dtype=float32)"
            ]
          },
          "metadata": {
            "tags": []
          },
          "execution_count": 40
        }
      ]
    },
    {
      "cell_type": "code",
      "metadata": {
        "id": "YYjncVhaOD_y",
        "colab_type": "code",
        "colab": {
          "base_uri": "https://localhost:8080/",
          "height": 52
        },
        "outputId": "93c3d7cf-1358-4a62-88cf-cd7f47ab6707"
      },
      "source": [
        "np.round(y_std[:1], 2)"
      ],
      "execution_count": 41,
      "outputs": [
        {
          "output_type": "execute_result",
          "data": {
            "text/plain": [
              "array([[0.  , 0.  , 0.  , 0.  , 0.  , 0.27, 0.  , 0.16, 0.  , 0.29]],\n",
              "      dtype=float32)"
            ]
          },
          "metadata": {
            "tags": []
          },
          "execution_count": 41
        }
      ]
    },
    {
      "cell_type": "code",
      "metadata": {
        "id": "1F27R8MOOMlh",
        "colab_type": "code",
        "colab": {}
      },
      "source": [
        "y_pred = np.argmax(y_proba, axis=1)"
      ],
      "execution_count": 42,
      "outputs": []
    },
    {
      "cell_type": "code",
      "metadata": {
        "id": "0fyqVzP_Oc1w",
        "colab_type": "code",
        "colab": {
          "base_uri": "https://localhost:8080/",
          "height": 34
        },
        "outputId": "ebef5820-5594-4442-a6ea-5568a6023498"
      },
      "source": [
        "accuracy = np.sum(y_pred == y_test) / len(y_test)\n",
        "accuracy"
      ],
      "execution_count": 43,
      "outputs": [
        {
          "output_type": "execute_result",
          "data": {
            "text/plain": [
              "0.8646"
            ]
          },
          "metadata": {
            "tags": []
          },
          "execution_count": 43
        }
      ]
    },
    {
      "cell_type": "code",
      "metadata": {
        "id": "W1D5r7-SOm1s",
        "colab_type": "code",
        "colab": {}
      },
      "source": [
        ""
      ],
      "execution_count": 43,
      "outputs": []
    }
  ]
}