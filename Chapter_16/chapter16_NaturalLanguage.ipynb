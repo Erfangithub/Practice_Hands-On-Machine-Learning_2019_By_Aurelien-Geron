{
  "nbformat": 4,
  "nbformat_minor": 0,
  "metadata": {
    "colab": {
      "name": "Ch16.ipynb",
      "provenance": [],
      "collapsed_sections": []
    },
    "kernelspec": {
      "name": "python3",
      "display_name": "Python 3"
    },
    "accelerator": "GPU",
    "widgets": {
      "application/vnd.jupyter.widget-state+json": {
        "9ac6cf7e024e48f78ca10d3a00b1f8c8": {
          "model_module": "@jupyter-widgets/controls",
          "model_name": "HBoxModel",
          "state": {
            "_view_name": "HBoxView",
            "_dom_classes": [],
            "_model_name": "HBoxModel",
            "_view_module": "@jupyter-widgets/controls",
            "_model_module_version": "1.5.0",
            "_view_count": null,
            "_view_module_version": "1.5.0",
            "box_style": "",
            "layout": "IPY_MODEL_efefbe9239a34057b2be40cf78e52b9e",
            "_model_module": "@jupyter-widgets/controls",
            "children": [
              "IPY_MODEL_262578fcef6a4f8db86876d5b973e41f",
              "IPY_MODEL_062ede3f2045462481cec64010dd1119"
            ]
          }
        },
        "efefbe9239a34057b2be40cf78e52b9e": {
          "model_module": "@jupyter-widgets/base",
          "model_name": "LayoutModel",
          "state": {
            "_view_name": "LayoutView",
            "grid_template_rows": null,
            "right": null,
            "justify_content": null,
            "_view_module": "@jupyter-widgets/base",
            "overflow": null,
            "_model_module_version": "1.2.0",
            "_view_count": null,
            "flex_flow": null,
            "width": null,
            "min_width": null,
            "border": null,
            "align_items": null,
            "bottom": null,
            "_model_module": "@jupyter-widgets/base",
            "top": null,
            "grid_column": null,
            "overflow_y": null,
            "overflow_x": null,
            "grid_auto_flow": null,
            "grid_area": null,
            "grid_template_columns": null,
            "flex": null,
            "_model_name": "LayoutModel",
            "justify_items": null,
            "grid_row": null,
            "max_height": null,
            "align_content": null,
            "visibility": null,
            "align_self": null,
            "height": null,
            "min_height": null,
            "padding": null,
            "grid_auto_rows": null,
            "grid_gap": null,
            "max_width": null,
            "order": null,
            "_view_module_version": "1.2.0",
            "grid_template_areas": null,
            "object_position": null,
            "object_fit": null,
            "grid_auto_columns": null,
            "margin": null,
            "display": null,
            "left": null
          }
        },
        "262578fcef6a4f8db86876d5b973e41f": {
          "model_module": "@jupyter-widgets/controls",
          "model_name": "FloatProgressModel",
          "state": {
            "_view_name": "ProgressView",
            "style": "IPY_MODEL_0878e011e59b42e290750934f356544b",
            "_dom_classes": [],
            "description": "Dl Completed...: 100%",
            "_model_name": "FloatProgressModel",
            "bar_style": "success",
            "max": 1,
            "_view_module": "@jupyter-widgets/controls",
            "_model_module_version": "1.5.0",
            "value": 1,
            "_view_count": null,
            "_view_module_version": "1.5.0",
            "orientation": "horizontal",
            "min": 0,
            "description_tooltip": null,
            "_model_module": "@jupyter-widgets/controls",
            "layout": "IPY_MODEL_f8d76529b76f4869b823893dbe0e6e45"
          }
        },
        "062ede3f2045462481cec64010dd1119": {
          "model_module": "@jupyter-widgets/controls",
          "model_name": "HTMLModel",
          "state": {
            "_view_name": "HTMLView",
            "style": "IPY_MODEL_4118caca377c47c7a9e24de3433293d6",
            "_dom_classes": [],
            "description": "",
            "_model_name": "HTMLModel",
            "placeholder": "​",
            "_view_module": "@jupyter-widgets/controls",
            "_model_module_version": "1.5.0",
            "value": " 1/1 [00:08&lt;00:00,  8.38s/ url]",
            "_view_count": null,
            "_view_module_version": "1.5.0",
            "description_tooltip": null,
            "_model_module": "@jupyter-widgets/controls",
            "layout": "IPY_MODEL_f180c5a0ca054028856da311945a17ab"
          }
        },
        "0878e011e59b42e290750934f356544b": {
          "model_module": "@jupyter-widgets/controls",
          "model_name": "ProgressStyleModel",
          "state": {
            "_view_name": "StyleView",
            "_model_name": "ProgressStyleModel",
            "description_width": "initial",
            "_view_module": "@jupyter-widgets/base",
            "_model_module_version": "1.5.0",
            "_view_count": null,
            "_view_module_version": "1.2.0",
            "bar_color": null,
            "_model_module": "@jupyter-widgets/controls"
          }
        },
        "f8d76529b76f4869b823893dbe0e6e45": {
          "model_module": "@jupyter-widgets/base",
          "model_name": "LayoutModel",
          "state": {
            "_view_name": "LayoutView",
            "grid_template_rows": null,
            "right": null,
            "justify_content": null,
            "_view_module": "@jupyter-widgets/base",
            "overflow": null,
            "_model_module_version": "1.2.0",
            "_view_count": null,
            "flex_flow": null,
            "width": null,
            "min_width": null,
            "border": null,
            "align_items": null,
            "bottom": null,
            "_model_module": "@jupyter-widgets/base",
            "top": null,
            "grid_column": null,
            "overflow_y": null,
            "overflow_x": null,
            "grid_auto_flow": null,
            "grid_area": null,
            "grid_template_columns": null,
            "flex": null,
            "_model_name": "LayoutModel",
            "justify_items": null,
            "grid_row": null,
            "max_height": null,
            "align_content": null,
            "visibility": null,
            "align_self": null,
            "height": null,
            "min_height": null,
            "padding": null,
            "grid_auto_rows": null,
            "grid_gap": null,
            "max_width": null,
            "order": null,
            "_view_module_version": "1.2.0",
            "grid_template_areas": null,
            "object_position": null,
            "object_fit": null,
            "grid_auto_columns": null,
            "margin": null,
            "display": null,
            "left": null
          }
        },
        "4118caca377c47c7a9e24de3433293d6": {
          "model_module": "@jupyter-widgets/controls",
          "model_name": "DescriptionStyleModel",
          "state": {
            "_view_name": "StyleView",
            "_model_name": "DescriptionStyleModel",
            "description_width": "",
            "_view_module": "@jupyter-widgets/base",
            "_model_module_version": "1.5.0",
            "_view_count": null,
            "_view_module_version": "1.2.0",
            "_model_module": "@jupyter-widgets/controls"
          }
        },
        "f180c5a0ca054028856da311945a17ab": {
          "model_module": "@jupyter-widgets/base",
          "model_name": "LayoutModel",
          "state": {
            "_view_name": "LayoutView",
            "grid_template_rows": null,
            "right": null,
            "justify_content": null,
            "_view_module": "@jupyter-widgets/base",
            "overflow": null,
            "_model_module_version": "1.2.0",
            "_view_count": null,
            "flex_flow": null,
            "width": null,
            "min_width": null,
            "border": null,
            "align_items": null,
            "bottom": null,
            "_model_module": "@jupyter-widgets/base",
            "top": null,
            "grid_column": null,
            "overflow_y": null,
            "overflow_x": null,
            "grid_auto_flow": null,
            "grid_area": null,
            "grid_template_columns": null,
            "flex": null,
            "_model_name": "LayoutModel",
            "justify_items": null,
            "grid_row": null,
            "max_height": null,
            "align_content": null,
            "visibility": null,
            "align_self": null,
            "height": null,
            "min_height": null,
            "padding": null,
            "grid_auto_rows": null,
            "grid_gap": null,
            "max_width": null,
            "order": null,
            "_view_module_version": "1.2.0",
            "grid_template_areas": null,
            "object_position": null,
            "object_fit": null,
            "grid_auto_columns": null,
            "margin": null,
            "display": null,
            "left": null
          }
        },
        "6d4396b2e7a645269ade700c23a27343": {
          "model_module": "@jupyter-widgets/controls",
          "model_name": "HBoxModel",
          "state": {
            "_view_name": "HBoxView",
            "_dom_classes": [],
            "_model_name": "HBoxModel",
            "_view_module": "@jupyter-widgets/controls",
            "_model_module_version": "1.5.0",
            "_view_count": null,
            "_view_module_version": "1.5.0",
            "box_style": "",
            "layout": "IPY_MODEL_ab40f7fb2d0240e08659800c7ad3456f",
            "_model_module": "@jupyter-widgets/controls",
            "children": [
              "IPY_MODEL_8031c4446ea04cb7b00f49572573123c",
              "IPY_MODEL_c106ba7e7f1d4b248a4f7c1715d0c324"
            ]
          }
        },
        "ab40f7fb2d0240e08659800c7ad3456f": {
          "model_module": "@jupyter-widgets/base",
          "model_name": "LayoutModel",
          "state": {
            "_view_name": "LayoutView",
            "grid_template_rows": null,
            "right": null,
            "justify_content": null,
            "_view_module": "@jupyter-widgets/base",
            "overflow": null,
            "_model_module_version": "1.2.0",
            "_view_count": null,
            "flex_flow": null,
            "width": null,
            "min_width": null,
            "border": null,
            "align_items": null,
            "bottom": null,
            "_model_module": "@jupyter-widgets/base",
            "top": null,
            "grid_column": null,
            "overflow_y": null,
            "overflow_x": null,
            "grid_auto_flow": null,
            "grid_area": null,
            "grid_template_columns": null,
            "flex": null,
            "_model_name": "LayoutModel",
            "justify_items": null,
            "grid_row": null,
            "max_height": null,
            "align_content": null,
            "visibility": null,
            "align_self": null,
            "height": null,
            "min_height": null,
            "padding": null,
            "grid_auto_rows": null,
            "grid_gap": null,
            "max_width": null,
            "order": null,
            "_view_module_version": "1.2.0",
            "grid_template_areas": null,
            "object_position": null,
            "object_fit": null,
            "grid_auto_columns": null,
            "margin": null,
            "display": null,
            "left": null
          }
        },
        "8031c4446ea04cb7b00f49572573123c": {
          "model_module": "@jupyter-widgets/controls",
          "model_name": "FloatProgressModel",
          "state": {
            "_view_name": "ProgressView",
            "style": "IPY_MODEL_94e0f6cb9f7941878539d84f962a216d",
            "_dom_classes": [],
            "description": "Dl Size...: 100%",
            "_model_name": "FloatProgressModel",
            "bar_style": "success",
            "max": 1,
            "_view_module": "@jupyter-widgets/controls",
            "_model_module_version": "1.5.0",
            "value": 1,
            "_view_count": null,
            "_view_module_version": "1.5.0",
            "orientation": "horizontal",
            "min": 0,
            "description_tooltip": null,
            "_model_module": "@jupyter-widgets/controls",
            "layout": "IPY_MODEL_cbf610837663410891e80df65157ba6b"
          }
        },
        "c106ba7e7f1d4b248a4f7c1715d0c324": {
          "model_module": "@jupyter-widgets/controls",
          "model_name": "HTMLModel",
          "state": {
            "_view_name": "HTMLView",
            "style": "IPY_MODEL_e3d2c6a913ec4f959f18deef74ed9fbd",
            "_dom_classes": [],
            "description": "",
            "_model_name": "HTMLModel",
            "placeholder": "​",
            "_view_module": "@jupyter-widgets/controls",
            "_model_module_version": "1.5.0",
            "value": " 80/80 [00:08&lt;00:00,  9.58 MiB/s]",
            "_view_count": null,
            "_view_module_version": "1.5.0",
            "description_tooltip": null,
            "_model_module": "@jupyter-widgets/controls",
            "layout": "IPY_MODEL_4912833c899040e0b1d5dc99a491455f"
          }
        },
        "94e0f6cb9f7941878539d84f962a216d": {
          "model_module": "@jupyter-widgets/controls",
          "model_name": "ProgressStyleModel",
          "state": {
            "_view_name": "StyleView",
            "_model_name": "ProgressStyleModel",
            "description_width": "initial",
            "_view_module": "@jupyter-widgets/base",
            "_model_module_version": "1.5.0",
            "_view_count": null,
            "_view_module_version": "1.2.0",
            "bar_color": null,
            "_model_module": "@jupyter-widgets/controls"
          }
        },
        "cbf610837663410891e80df65157ba6b": {
          "model_module": "@jupyter-widgets/base",
          "model_name": "LayoutModel",
          "state": {
            "_view_name": "LayoutView",
            "grid_template_rows": null,
            "right": null,
            "justify_content": null,
            "_view_module": "@jupyter-widgets/base",
            "overflow": null,
            "_model_module_version": "1.2.0",
            "_view_count": null,
            "flex_flow": null,
            "width": null,
            "min_width": null,
            "border": null,
            "align_items": null,
            "bottom": null,
            "_model_module": "@jupyter-widgets/base",
            "top": null,
            "grid_column": null,
            "overflow_y": null,
            "overflow_x": null,
            "grid_auto_flow": null,
            "grid_area": null,
            "grid_template_columns": null,
            "flex": null,
            "_model_name": "LayoutModel",
            "justify_items": null,
            "grid_row": null,
            "max_height": null,
            "align_content": null,
            "visibility": null,
            "align_self": null,
            "height": null,
            "min_height": null,
            "padding": null,
            "grid_auto_rows": null,
            "grid_gap": null,
            "max_width": null,
            "order": null,
            "_view_module_version": "1.2.0",
            "grid_template_areas": null,
            "object_position": null,
            "object_fit": null,
            "grid_auto_columns": null,
            "margin": null,
            "display": null,
            "left": null
          }
        },
        "e3d2c6a913ec4f959f18deef74ed9fbd": {
          "model_module": "@jupyter-widgets/controls",
          "model_name": "DescriptionStyleModel",
          "state": {
            "_view_name": "StyleView",
            "_model_name": "DescriptionStyleModel",
            "description_width": "",
            "_view_module": "@jupyter-widgets/base",
            "_model_module_version": "1.5.0",
            "_view_count": null,
            "_view_module_version": "1.2.0",
            "_model_module": "@jupyter-widgets/controls"
          }
        },
        "4912833c899040e0b1d5dc99a491455f": {
          "model_module": "@jupyter-widgets/base",
          "model_name": "LayoutModel",
          "state": {
            "_view_name": "LayoutView",
            "grid_template_rows": null,
            "right": null,
            "justify_content": null,
            "_view_module": "@jupyter-widgets/base",
            "overflow": null,
            "_model_module_version": "1.2.0",
            "_view_count": null,
            "flex_flow": null,
            "width": null,
            "min_width": null,
            "border": null,
            "align_items": null,
            "bottom": null,
            "_model_module": "@jupyter-widgets/base",
            "top": null,
            "grid_column": null,
            "overflow_y": null,
            "overflow_x": null,
            "grid_auto_flow": null,
            "grid_area": null,
            "grid_template_columns": null,
            "flex": null,
            "_model_name": "LayoutModel",
            "justify_items": null,
            "grid_row": null,
            "max_height": null,
            "align_content": null,
            "visibility": null,
            "align_self": null,
            "height": null,
            "min_height": null,
            "padding": null,
            "grid_auto_rows": null,
            "grid_gap": null,
            "max_width": null,
            "order": null,
            "_view_module_version": "1.2.0",
            "grid_template_areas": null,
            "object_position": null,
            "object_fit": null,
            "grid_auto_columns": null,
            "margin": null,
            "display": null,
            "left": null
          }
        },
        "895114c67b884271ad1673c24258cc00": {
          "model_module": "@jupyter-widgets/controls",
          "model_name": "HBoxModel",
          "state": {
            "_view_name": "HBoxView",
            "_dom_classes": [],
            "_model_name": "HBoxModel",
            "_view_module": "@jupyter-widgets/controls",
            "_model_module_version": "1.5.0",
            "_view_count": null,
            "_view_module_version": "1.5.0",
            "box_style": "",
            "layout": "IPY_MODEL_8372552215604f28a23c0eccd88abbe3",
            "_model_module": "@jupyter-widgets/controls",
            "children": [
              "IPY_MODEL_4fb0bb230f714f84826de15d30741e54",
              "IPY_MODEL_d8e1e124cccf4c979c14f7f0d07f5e16"
            ]
          }
        },
        "8372552215604f28a23c0eccd88abbe3": {
          "model_module": "@jupyter-widgets/base",
          "model_name": "LayoutModel",
          "state": {
            "_view_name": "LayoutView",
            "grid_template_rows": null,
            "right": null,
            "justify_content": null,
            "_view_module": "@jupyter-widgets/base",
            "overflow": null,
            "_model_module_version": "1.2.0",
            "_view_count": null,
            "flex_flow": null,
            "width": null,
            "min_width": null,
            "border": null,
            "align_items": null,
            "bottom": null,
            "_model_module": "@jupyter-widgets/base",
            "top": null,
            "grid_column": null,
            "overflow_y": null,
            "overflow_x": null,
            "grid_auto_flow": null,
            "grid_area": null,
            "grid_template_columns": null,
            "flex": null,
            "_model_name": "LayoutModel",
            "justify_items": null,
            "grid_row": null,
            "max_height": null,
            "align_content": null,
            "visibility": null,
            "align_self": null,
            "height": null,
            "min_height": null,
            "padding": null,
            "grid_auto_rows": null,
            "grid_gap": null,
            "max_width": null,
            "order": null,
            "_view_module_version": "1.2.0",
            "grid_template_areas": null,
            "object_position": null,
            "object_fit": null,
            "grid_auto_columns": null,
            "margin": null,
            "display": null,
            "left": null
          }
        },
        "4fb0bb230f714f84826de15d30741e54": {
          "model_module": "@jupyter-widgets/controls",
          "model_name": "FloatProgressModel",
          "state": {
            "_view_name": "ProgressView",
            "style": "IPY_MODEL_60694a0da43147408f6901dfafd1cd2e",
            "_dom_classes": [],
            "description": "",
            "_model_name": "FloatProgressModel",
            "bar_style": "info",
            "max": 1,
            "_view_module": "@jupyter-widgets/controls",
            "_model_module_version": "1.5.0",
            "value": 1,
            "_view_count": null,
            "_view_module_version": "1.5.0",
            "orientation": "horizontal",
            "min": 0,
            "description_tooltip": null,
            "_model_module": "@jupyter-widgets/controls",
            "layout": "IPY_MODEL_d27da7207c3748a4b6a4095585966c06"
          }
        },
        "d8e1e124cccf4c979c14f7f0d07f5e16": {
          "model_module": "@jupyter-widgets/controls",
          "model_name": "HTMLModel",
          "state": {
            "_view_name": "HTMLView",
            "style": "IPY_MODEL_1d9d9ad1936d4dc3be5987b75437499d",
            "_dom_classes": [],
            "description": "",
            "_model_name": "HTMLModel",
            "placeholder": "​",
            "_view_module": "@jupyter-widgets/controls",
            "_model_module_version": "1.5.0",
            "value": " 25000/0 [00:12&lt;00:00, 2008.66 examples/s]",
            "_view_count": null,
            "_view_module_version": "1.5.0",
            "description_tooltip": null,
            "_model_module": "@jupyter-widgets/controls",
            "layout": "IPY_MODEL_521b988b90f645d99ef0788a4dc2c3b1"
          }
        },
        "60694a0da43147408f6901dfafd1cd2e": {
          "model_module": "@jupyter-widgets/controls",
          "model_name": "ProgressStyleModel",
          "state": {
            "_view_name": "StyleView",
            "_model_name": "ProgressStyleModel",
            "description_width": "initial",
            "_view_module": "@jupyter-widgets/base",
            "_model_module_version": "1.5.0",
            "_view_count": null,
            "_view_module_version": "1.2.0",
            "bar_color": null,
            "_model_module": "@jupyter-widgets/controls"
          }
        },
        "d27da7207c3748a4b6a4095585966c06": {
          "model_module": "@jupyter-widgets/base",
          "model_name": "LayoutModel",
          "state": {
            "_view_name": "LayoutView",
            "grid_template_rows": null,
            "right": null,
            "justify_content": null,
            "_view_module": "@jupyter-widgets/base",
            "overflow": null,
            "_model_module_version": "1.2.0",
            "_view_count": null,
            "flex_flow": null,
            "width": null,
            "min_width": null,
            "border": null,
            "align_items": null,
            "bottom": null,
            "_model_module": "@jupyter-widgets/base",
            "top": null,
            "grid_column": null,
            "overflow_y": null,
            "overflow_x": null,
            "grid_auto_flow": null,
            "grid_area": null,
            "grid_template_columns": null,
            "flex": null,
            "_model_name": "LayoutModel",
            "justify_items": null,
            "grid_row": null,
            "max_height": null,
            "align_content": null,
            "visibility": null,
            "align_self": null,
            "height": null,
            "min_height": null,
            "padding": null,
            "grid_auto_rows": null,
            "grid_gap": null,
            "max_width": null,
            "order": null,
            "_view_module_version": "1.2.0",
            "grid_template_areas": null,
            "object_position": null,
            "object_fit": null,
            "grid_auto_columns": null,
            "margin": null,
            "display": null,
            "left": null
          }
        },
        "1d9d9ad1936d4dc3be5987b75437499d": {
          "model_module": "@jupyter-widgets/controls",
          "model_name": "DescriptionStyleModel",
          "state": {
            "_view_name": "StyleView",
            "_model_name": "DescriptionStyleModel",
            "description_width": "",
            "_view_module": "@jupyter-widgets/base",
            "_model_module_version": "1.5.0",
            "_view_count": null,
            "_view_module_version": "1.2.0",
            "_model_module": "@jupyter-widgets/controls"
          }
        },
        "521b988b90f645d99ef0788a4dc2c3b1": {
          "model_module": "@jupyter-widgets/base",
          "model_name": "LayoutModel",
          "state": {
            "_view_name": "LayoutView",
            "grid_template_rows": null,
            "right": null,
            "justify_content": null,
            "_view_module": "@jupyter-widgets/base",
            "overflow": null,
            "_model_module_version": "1.2.0",
            "_view_count": null,
            "flex_flow": null,
            "width": null,
            "min_width": null,
            "border": null,
            "align_items": null,
            "bottom": null,
            "_model_module": "@jupyter-widgets/base",
            "top": null,
            "grid_column": null,
            "overflow_y": null,
            "overflow_x": null,
            "grid_auto_flow": null,
            "grid_area": null,
            "grid_template_columns": null,
            "flex": null,
            "_model_name": "LayoutModel",
            "justify_items": null,
            "grid_row": null,
            "max_height": null,
            "align_content": null,
            "visibility": null,
            "align_self": null,
            "height": null,
            "min_height": null,
            "padding": null,
            "grid_auto_rows": null,
            "grid_gap": null,
            "max_width": null,
            "order": null,
            "_view_module_version": "1.2.0",
            "grid_template_areas": null,
            "object_position": null,
            "object_fit": null,
            "grid_auto_columns": null,
            "margin": null,
            "display": null,
            "left": null
          }
        },
        "8e3045afd8144784aaf00a504b4b5a71": {
          "model_module": "@jupyter-widgets/controls",
          "model_name": "HBoxModel",
          "state": {
            "_view_name": "HBoxView",
            "_dom_classes": [],
            "_model_name": "HBoxModel",
            "_view_module": "@jupyter-widgets/controls",
            "_model_module_version": "1.5.0",
            "_view_count": null,
            "_view_module_version": "1.5.0",
            "box_style": "",
            "layout": "IPY_MODEL_94f6b40951ec46c2a279f4fe7d8e8cbe",
            "_model_module": "@jupyter-widgets/controls",
            "children": [
              "IPY_MODEL_0689468ff580448cafe5f4d9372805a8",
              "IPY_MODEL_18eb66d83d6d4112916b43603ac55476"
            ]
          }
        },
        "94f6b40951ec46c2a279f4fe7d8e8cbe": {
          "model_module": "@jupyter-widgets/base",
          "model_name": "LayoutModel",
          "state": {
            "_view_name": "LayoutView",
            "grid_template_rows": null,
            "right": null,
            "justify_content": null,
            "_view_module": "@jupyter-widgets/base",
            "overflow": null,
            "_model_module_version": "1.2.0",
            "_view_count": null,
            "flex_flow": null,
            "width": null,
            "min_width": null,
            "border": null,
            "align_items": null,
            "bottom": null,
            "_model_module": "@jupyter-widgets/base",
            "top": null,
            "grid_column": null,
            "overflow_y": null,
            "overflow_x": null,
            "grid_auto_flow": null,
            "grid_area": null,
            "grid_template_columns": null,
            "flex": null,
            "_model_name": "LayoutModel",
            "justify_items": null,
            "grid_row": null,
            "max_height": null,
            "align_content": null,
            "visibility": null,
            "align_self": null,
            "height": null,
            "min_height": null,
            "padding": null,
            "grid_auto_rows": null,
            "grid_gap": null,
            "max_width": null,
            "order": null,
            "_view_module_version": "1.2.0",
            "grid_template_areas": null,
            "object_position": null,
            "object_fit": null,
            "grid_auto_columns": null,
            "margin": null,
            "display": null,
            "left": null
          }
        },
        "0689468ff580448cafe5f4d9372805a8": {
          "model_module": "@jupyter-widgets/controls",
          "model_name": "FloatProgressModel",
          "state": {
            "_view_name": "ProgressView",
            "style": "IPY_MODEL_511931d8c47c4d2cbb44d6159a3bf5aa",
            "_dom_classes": [],
            "description": " 57%",
            "_model_name": "FloatProgressModel",
            "bar_style": "danger",
            "max": 25000,
            "_view_module": "@jupyter-widgets/controls",
            "_model_module_version": "1.5.0",
            "value": 14345,
            "_view_count": null,
            "_view_module_version": "1.5.0",
            "orientation": "horizontal",
            "min": 0,
            "description_tooltip": null,
            "_model_module": "@jupyter-widgets/controls",
            "layout": "IPY_MODEL_028d079b798f4e728825ce593a0b9527"
          }
        },
        "18eb66d83d6d4112916b43603ac55476": {
          "model_module": "@jupyter-widgets/controls",
          "model_name": "HTMLModel",
          "state": {
            "_view_name": "HTMLView",
            "style": "IPY_MODEL_d41d77c6dda5462dad96cc6006f92fd9",
            "_dom_classes": [],
            "description": "",
            "_model_name": "HTMLModel",
            "placeholder": "​",
            "_view_module": "@jupyter-widgets/controls",
            "_model_module_version": "1.5.0",
            "value": " 14345/25000 [00:00&lt;00:00, 143448.77 examples/s]",
            "_view_count": null,
            "_view_module_version": "1.5.0",
            "description_tooltip": null,
            "_model_module": "@jupyter-widgets/controls",
            "layout": "IPY_MODEL_5c20ec98c3934ae0b5dfe87938a745e3"
          }
        },
        "511931d8c47c4d2cbb44d6159a3bf5aa": {
          "model_module": "@jupyter-widgets/controls",
          "model_name": "ProgressStyleModel",
          "state": {
            "_view_name": "StyleView",
            "_model_name": "ProgressStyleModel",
            "description_width": "initial",
            "_view_module": "@jupyter-widgets/base",
            "_model_module_version": "1.5.0",
            "_view_count": null,
            "_view_module_version": "1.2.0",
            "bar_color": null,
            "_model_module": "@jupyter-widgets/controls"
          }
        },
        "028d079b798f4e728825ce593a0b9527": {
          "model_module": "@jupyter-widgets/base",
          "model_name": "LayoutModel",
          "state": {
            "_view_name": "LayoutView",
            "grid_template_rows": null,
            "right": null,
            "justify_content": null,
            "_view_module": "@jupyter-widgets/base",
            "overflow": null,
            "_model_module_version": "1.2.0",
            "_view_count": null,
            "flex_flow": null,
            "width": null,
            "min_width": null,
            "border": null,
            "align_items": null,
            "bottom": null,
            "_model_module": "@jupyter-widgets/base",
            "top": null,
            "grid_column": null,
            "overflow_y": null,
            "overflow_x": null,
            "grid_auto_flow": null,
            "grid_area": null,
            "grid_template_columns": null,
            "flex": null,
            "_model_name": "LayoutModel",
            "justify_items": null,
            "grid_row": null,
            "max_height": null,
            "align_content": null,
            "visibility": null,
            "align_self": null,
            "height": null,
            "min_height": null,
            "padding": null,
            "grid_auto_rows": null,
            "grid_gap": null,
            "max_width": null,
            "order": null,
            "_view_module_version": "1.2.0",
            "grid_template_areas": null,
            "object_position": null,
            "object_fit": null,
            "grid_auto_columns": null,
            "margin": null,
            "display": null,
            "left": null
          }
        },
        "d41d77c6dda5462dad96cc6006f92fd9": {
          "model_module": "@jupyter-widgets/controls",
          "model_name": "DescriptionStyleModel",
          "state": {
            "_view_name": "StyleView",
            "_model_name": "DescriptionStyleModel",
            "description_width": "",
            "_view_module": "@jupyter-widgets/base",
            "_model_module_version": "1.5.0",
            "_view_count": null,
            "_view_module_version": "1.2.0",
            "_model_module": "@jupyter-widgets/controls"
          }
        },
        "5c20ec98c3934ae0b5dfe87938a745e3": {
          "model_module": "@jupyter-widgets/base",
          "model_name": "LayoutModel",
          "state": {
            "_view_name": "LayoutView",
            "grid_template_rows": null,
            "right": null,
            "justify_content": null,
            "_view_module": "@jupyter-widgets/base",
            "overflow": null,
            "_model_module_version": "1.2.0",
            "_view_count": null,
            "flex_flow": null,
            "width": null,
            "min_width": null,
            "border": null,
            "align_items": null,
            "bottom": null,
            "_model_module": "@jupyter-widgets/base",
            "top": null,
            "grid_column": null,
            "overflow_y": null,
            "overflow_x": null,
            "grid_auto_flow": null,
            "grid_area": null,
            "grid_template_columns": null,
            "flex": null,
            "_model_name": "LayoutModel",
            "justify_items": null,
            "grid_row": null,
            "max_height": null,
            "align_content": null,
            "visibility": null,
            "align_self": null,
            "height": null,
            "min_height": null,
            "padding": null,
            "grid_auto_rows": null,
            "grid_gap": null,
            "max_width": null,
            "order": null,
            "_view_module_version": "1.2.0",
            "grid_template_areas": null,
            "object_position": null,
            "object_fit": null,
            "grid_auto_columns": null,
            "margin": null,
            "display": null,
            "left": null
          }
        },
        "6f07396ea5eb48deb379589baec82328": {
          "model_module": "@jupyter-widgets/controls",
          "model_name": "HBoxModel",
          "state": {
            "_view_name": "HBoxView",
            "_dom_classes": [],
            "_model_name": "HBoxModel",
            "_view_module": "@jupyter-widgets/controls",
            "_model_module_version": "1.5.0",
            "_view_count": null,
            "_view_module_version": "1.5.0",
            "box_style": "",
            "layout": "IPY_MODEL_6a1cc03a24cc4c8ab1dc58325d5150be",
            "_model_module": "@jupyter-widgets/controls",
            "children": [
              "IPY_MODEL_35bd1257919842fc9f6164b66463c5ea",
              "IPY_MODEL_c819340979a5471db53d56906b21f22c"
            ]
          }
        },
        "6a1cc03a24cc4c8ab1dc58325d5150be": {
          "model_module": "@jupyter-widgets/base",
          "model_name": "LayoutModel",
          "state": {
            "_view_name": "LayoutView",
            "grid_template_rows": null,
            "right": null,
            "justify_content": null,
            "_view_module": "@jupyter-widgets/base",
            "overflow": null,
            "_model_module_version": "1.2.0",
            "_view_count": null,
            "flex_flow": null,
            "width": null,
            "min_width": null,
            "border": null,
            "align_items": null,
            "bottom": null,
            "_model_module": "@jupyter-widgets/base",
            "top": null,
            "grid_column": null,
            "overflow_y": null,
            "overflow_x": null,
            "grid_auto_flow": null,
            "grid_area": null,
            "grid_template_columns": null,
            "flex": null,
            "_model_name": "LayoutModel",
            "justify_items": null,
            "grid_row": null,
            "max_height": null,
            "align_content": null,
            "visibility": null,
            "align_self": null,
            "height": null,
            "min_height": null,
            "padding": null,
            "grid_auto_rows": null,
            "grid_gap": null,
            "max_width": null,
            "order": null,
            "_view_module_version": "1.2.0",
            "grid_template_areas": null,
            "object_position": null,
            "object_fit": null,
            "grid_auto_columns": null,
            "margin": null,
            "display": null,
            "left": null
          }
        },
        "35bd1257919842fc9f6164b66463c5ea": {
          "model_module": "@jupyter-widgets/controls",
          "model_name": "FloatProgressModel",
          "state": {
            "_view_name": "ProgressView",
            "style": "IPY_MODEL_bb3ad6e24b90415ab4ad91c2ea28d341",
            "_dom_classes": [],
            "description": "",
            "_model_name": "FloatProgressModel",
            "bar_style": "info",
            "max": 1,
            "_view_module": "@jupyter-widgets/controls",
            "_model_module_version": "1.5.0",
            "value": 1,
            "_view_count": null,
            "_view_module_version": "1.5.0",
            "orientation": "horizontal",
            "min": 0,
            "description_tooltip": null,
            "_model_module": "@jupyter-widgets/controls",
            "layout": "IPY_MODEL_97e622551a294c3a924c587ab3ea1245"
          }
        },
        "c819340979a5471db53d56906b21f22c": {
          "model_module": "@jupyter-widgets/controls",
          "model_name": "HTMLModel",
          "state": {
            "_view_name": "HTMLView",
            "style": "IPY_MODEL_8e1cd27f6e7e435eaf9fdc810a0992a6",
            "_dom_classes": [],
            "description": "",
            "_model_name": "HTMLModel",
            "placeholder": "​",
            "_view_module": "@jupyter-widgets/controls",
            "_model_module_version": "1.5.0",
            "value": " 25000/0 [00:12&lt;00:00, 3413.83 examples/s]",
            "_view_count": null,
            "_view_module_version": "1.5.0",
            "description_tooltip": null,
            "_model_module": "@jupyter-widgets/controls",
            "layout": "IPY_MODEL_e0ba84360b7c437296fd3f9ac9f5fae6"
          }
        },
        "bb3ad6e24b90415ab4ad91c2ea28d341": {
          "model_module": "@jupyter-widgets/controls",
          "model_name": "ProgressStyleModel",
          "state": {
            "_view_name": "StyleView",
            "_model_name": "ProgressStyleModel",
            "description_width": "initial",
            "_view_module": "@jupyter-widgets/base",
            "_model_module_version": "1.5.0",
            "_view_count": null,
            "_view_module_version": "1.2.0",
            "bar_color": null,
            "_model_module": "@jupyter-widgets/controls"
          }
        },
        "97e622551a294c3a924c587ab3ea1245": {
          "model_module": "@jupyter-widgets/base",
          "model_name": "LayoutModel",
          "state": {
            "_view_name": "LayoutView",
            "grid_template_rows": null,
            "right": null,
            "justify_content": null,
            "_view_module": "@jupyter-widgets/base",
            "overflow": null,
            "_model_module_version": "1.2.0",
            "_view_count": null,
            "flex_flow": null,
            "width": null,
            "min_width": null,
            "border": null,
            "align_items": null,
            "bottom": null,
            "_model_module": "@jupyter-widgets/base",
            "top": null,
            "grid_column": null,
            "overflow_y": null,
            "overflow_x": null,
            "grid_auto_flow": null,
            "grid_area": null,
            "grid_template_columns": null,
            "flex": null,
            "_model_name": "LayoutModel",
            "justify_items": null,
            "grid_row": null,
            "max_height": null,
            "align_content": null,
            "visibility": null,
            "align_self": null,
            "height": null,
            "min_height": null,
            "padding": null,
            "grid_auto_rows": null,
            "grid_gap": null,
            "max_width": null,
            "order": null,
            "_view_module_version": "1.2.0",
            "grid_template_areas": null,
            "object_position": null,
            "object_fit": null,
            "grid_auto_columns": null,
            "margin": null,
            "display": null,
            "left": null
          }
        },
        "8e1cd27f6e7e435eaf9fdc810a0992a6": {
          "model_module": "@jupyter-widgets/controls",
          "model_name": "DescriptionStyleModel",
          "state": {
            "_view_name": "StyleView",
            "_model_name": "DescriptionStyleModel",
            "description_width": "",
            "_view_module": "@jupyter-widgets/base",
            "_model_module_version": "1.5.0",
            "_view_count": null,
            "_view_module_version": "1.2.0",
            "_model_module": "@jupyter-widgets/controls"
          }
        },
        "e0ba84360b7c437296fd3f9ac9f5fae6": {
          "model_module": "@jupyter-widgets/base",
          "model_name": "LayoutModel",
          "state": {
            "_view_name": "LayoutView",
            "grid_template_rows": null,
            "right": null,
            "justify_content": null,
            "_view_module": "@jupyter-widgets/base",
            "overflow": null,
            "_model_module_version": "1.2.0",
            "_view_count": null,
            "flex_flow": null,
            "width": null,
            "min_width": null,
            "border": null,
            "align_items": null,
            "bottom": null,
            "_model_module": "@jupyter-widgets/base",
            "top": null,
            "grid_column": null,
            "overflow_y": null,
            "overflow_x": null,
            "grid_auto_flow": null,
            "grid_area": null,
            "grid_template_columns": null,
            "flex": null,
            "_model_name": "LayoutModel",
            "justify_items": null,
            "grid_row": null,
            "max_height": null,
            "align_content": null,
            "visibility": null,
            "align_self": null,
            "height": null,
            "min_height": null,
            "padding": null,
            "grid_auto_rows": null,
            "grid_gap": null,
            "max_width": null,
            "order": null,
            "_view_module_version": "1.2.0",
            "grid_template_areas": null,
            "object_position": null,
            "object_fit": null,
            "grid_auto_columns": null,
            "margin": null,
            "display": null,
            "left": null
          }
        },
        "0e28f76f838b44e0a25072fd316371ce": {
          "model_module": "@jupyter-widgets/controls",
          "model_name": "HBoxModel",
          "state": {
            "_view_name": "HBoxView",
            "_dom_classes": [],
            "_model_name": "HBoxModel",
            "_view_module": "@jupyter-widgets/controls",
            "_model_module_version": "1.5.0",
            "_view_count": null,
            "_view_module_version": "1.5.0",
            "box_style": "",
            "layout": "IPY_MODEL_fb3de03d6c414283a253a75ab3937e66",
            "_model_module": "@jupyter-widgets/controls",
            "children": [
              "IPY_MODEL_842812cbe16c4d979f528cfc32545a09",
              "IPY_MODEL_a6773ef2d2cc476fab42928cb5c59412"
            ]
          }
        },
        "fb3de03d6c414283a253a75ab3937e66": {
          "model_module": "@jupyter-widgets/base",
          "model_name": "LayoutModel",
          "state": {
            "_view_name": "LayoutView",
            "grid_template_rows": null,
            "right": null,
            "justify_content": null,
            "_view_module": "@jupyter-widgets/base",
            "overflow": null,
            "_model_module_version": "1.2.0",
            "_view_count": null,
            "flex_flow": null,
            "width": null,
            "min_width": null,
            "border": null,
            "align_items": null,
            "bottom": null,
            "_model_module": "@jupyter-widgets/base",
            "top": null,
            "grid_column": null,
            "overflow_y": null,
            "overflow_x": null,
            "grid_auto_flow": null,
            "grid_area": null,
            "grid_template_columns": null,
            "flex": null,
            "_model_name": "LayoutModel",
            "justify_items": null,
            "grid_row": null,
            "max_height": null,
            "align_content": null,
            "visibility": null,
            "align_self": null,
            "height": null,
            "min_height": null,
            "padding": null,
            "grid_auto_rows": null,
            "grid_gap": null,
            "max_width": null,
            "order": null,
            "_view_module_version": "1.2.0",
            "grid_template_areas": null,
            "object_position": null,
            "object_fit": null,
            "grid_auto_columns": null,
            "margin": null,
            "display": null,
            "left": null
          }
        },
        "842812cbe16c4d979f528cfc32545a09": {
          "model_module": "@jupyter-widgets/controls",
          "model_name": "FloatProgressModel",
          "state": {
            "_view_name": "ProgressView",
            "style": "IPY_MODEL_5d969fcb6da84e6faf5951c646da098e",
            "_dom_classes": [],
            "description": " 52%",
            "_model_name": "FloatProgressModel",
            "bar_style": "danger",
            "max": 25000,
            "_view_module": "@jupyter-widgets/controls",
            "_model_module_version": "1.5.0",
            "value": 13098,
            "_view_count": null,
            "_view_module_version": "1.5.0",
            "orientation": "horizontal",
            "min": 0,
            "description_tooltip": null,
            "_model_module": "@jupyter-widgets/controls",
            "layout": "IPY_MODEL_5f93951f23a8423487ed99f9bbd5c5f2"
          }
        },
        "a6773ef2d2cc476fab42928cb5c59412": {
          "model_module": "@jupyter-widgets/controls",
          "model_name": "HTMLModel",
          "state": {
            "_view_name": "HTMLView",
            "style": "IPY_MODEL_de02fae6f3134ad084cfd711ed6f3486",
            "_dom_classes": [],
            "description": "",
            "_model_name": "HTMLModel",
            "placeholder": "​",
            "_view_module": "@jupyter-widgets/controls",
            "_model_module_version": "1.5.0",
            "value": " 13098/25000 [00:00&lt;00:00, 130977.00 examples/s]",
            "_view_count": null,
            "_view_module_version": "1.5.0",
            "description_tooltip": null,
            "_model_module": "@jupyter-widgets/controls",
            "layout": "IPY_MODEL_7895badd610e4ff49ceda796e3851b9b"
          }
        },
        "5d969fcb6da84e6faf5951c646da098e": {
          "model_module": "@jupyter-widgets/controls",
          "model_name": "ProgressStyleModel",
          "state": {
            "_view_name": "StyleView",
            "_model_name": "ProgressStyleModel",
            "description_width": "initial",
            "_view_module": "@jupyter-widgets/base",
            "_model_module_version": "1.5.0",
            "_view_count": null,
            "_view_module_version": "1.2.0",
            "bar_color": null,
            "_model_module": "@jupyter-widgets/controls"
          }
        },
        "5f93951f23a8423487ed99f9bbd5c5f2": {
          "model_module": "@jupyter-widgets/base",
          "model_name": "LayoutModel",
          "state": {
            "_view_name": "LayoutView",
            "grid_template_rows": null,
            "right": null,
            "justify_content": null,
            "_view_module": "@jupyter-widgets/base",
            "overflow": null,
            "_model_module_version": "1.2.0",
            "_view_count": null,
            "flex_flow": null,
            "width": null,
            "min_width": null,
            "border": null,
            "align_items": null,
            "bottom": null,
            "_model_module": "@jupyter-widgets/base",
            "top": null,
            "grid_column": null,
            "overflow_y": null,
            "overflow_x": null,
            "grid_auto_flow": null,
            "grid_area": null,
            "grid_template_columns": null,
            "flex": null,
            "_model_name": "LayoutModel",
            "justify_items": null,
            "grid_row": null,
            "max_height": null,
            "align_content": null,
            "visibility": null,
            "align_self": null,
            "height": null,
            "min_height": null,
            "padding": null,
            "grid_auto_rows": null,
            "grid_gap": null,
            "max_width": null,
            "order": null,
            "_view_module_version": "1.2.0",
            "grid_template_areas": null,
            "object_position": null,
            "object_fit": null,
            "grid_auto_columns": null,
            "margin": null,
            "display": null,
            "left": null
          }
        },
        "de02fae6f3134ad084cfd711ed6f3486": {
          "model_module": "@jupyter-widgets/controls",
          "model_name": "DescriptionStyleModel",
          "state": {
            "_view_name": "StyleView",
            "_model_name": "DescriptionStyleModel",
            "description_width": "",
            "_view_module": "@jupyter-widgets/base",
            "_model_module_version": "1.5.0",
            "_view_count": null,
            "_view_module_version": "1.2.0",
            "_model_module": "@jupyter-widgets/controls"
          }
        },
        "7895badd610e4ff49ceda796e3851b9b": {
          "model_module": "@jupyter-widgets/base",
          "model_name": "LayoutModel",
          "state": {
            "_view_name": "LayoutView",
            "grid_template_rows": null,
            "right": null,
            "justify_content": null,
            "_view_module": "@jupyter-widgets/base",
            "overflow": null,
            "_model_module_version": "1.2.0",
            "_view_count": null,
            "flex_flow": null,
            "width": null,
            "min_width": null,
            "border": null,
            "align_items": null,
            "bottom": null,
            "_model_module": "@jupyter-widgets/base",
            "top": null,
            "grid_column": null,
            "overflow_y": null,
            "overflow_x": null,
            "grid_auto_flow": null,
            "grid_area": null,
            "grid_template_columns": null,
            "flex": null,
            "_model_name": "LayoutModel",
            "justify_items": null,
            "grid_row": null,
            "max_height": null,
            "align_content": null,
            "visibility": null,
            "align_self": null,
            "height": null,
            "min_height": null,
            "padding": null,
            "grid_auto_rows": null,
            "grid_gap": null,
            "max_width": null,
            "order": null,
            "_view_module_version": "1.2.0",
            "grid_template_areas": null,
            "object_position": null,
            "object_fit": null,
            "grid_auto_columns": null,
            "margin": null,
            "display": null,
            "left": null
          }
        },
        "57c25cf1ffde47398645a8ac5505fc81": {
          "model_module": "@jupyter-widgets/controls",
          "model_name": "HBoxModel",
          "state": {
            "_view_name": "HBoxView",
            "_dom_classes": [],
            "_model_name": "HBoxModel",
            "_view_module": "@jupyter-widgets/controls",
            "_model_module_version": "1.5.0",
            "_view_count": null,
            "_view_module_version": "1.5.0",
            "box_style": "",
            "layout": "IPY_MODEL_d9a1199fc90e4720b1c2b4c488822530",
            "_model_module": "@jupyter-widgets/controls",
            "children": [
              "IPY_MODEL_15d45ea214494f5488d41d2cf3db9ac5",
              "IPY_MODEL_4d59bd95f01b4b12a3133a07660d870a"
            ]
          }
        },
        "d9a1199fc90e4720b1c2b4c488822530": {
          "model_module": "@jupyter-widgets/base",
          "model_name": "LayoutModel",
          "state": {
            "_view_name": "LayoutView",
            "grid_template_rows": null,
            "right": null,
            "justify_content": null,
            "_view_module": "@jupyter-widgets/base",
            "overflow": null,
            "_model_module_version": "1.2.0",
            "_view_count": null,
            "flex_flow": null,
            "width": null,
            "min_width": null,
            "border": null,
            "align_items": null,
            "bottom": null,
            "_model_module": "@jupyter-widgets/base",
            "top": null,
            "grid_column": null,
            "overflow_y": null,
            "overflow_x": null,
            "grid_auto_flow": null,
            "grid_area": null,
            "grid_template_columns": null,
            "flex": null,
            "_model_name": "LayoutModel",
            "justify_items": null,
            "grid_row": null,
            "max_height": null,
            "align_content": null,
            "visibility": null,
            "align_self": null,
            "height": null,
            "min_height": null,
            "padding": null,
            "grid_auto_rows": null,
            "grid_gap": null,
            "max_width": null,
            "order": null,
            "_view_module_version": "1.2.0",
            "grid_template_areas": null,
            "object_position": null,
            "object_fit": null,
            "grid_auto_columns": null,
            "margin": null,
            "display": null,
            "left": null
          }
        },
        "15d45ea214494f5488d41d2cf3db9ac5": {
          "model_module": "@jupyter-widgets/controls",
          "model_name": "FloatProgressModel",
          "state": {
            "_view_name": "ProgressView",
            "style": "IPY_MODEL_5d690572edd541ae8c7ee8b1e3b5c83c",
            "_dom_classes": [],
            "description": "",
            "_model_name": "FloatProgressModel",
            "bar_style": "info",
            "max": 1,
            "_view_module": "@jupyter-widgets/controls",
            "_model_module_version": "1.5.0",
            "value": 1,
            "_view_count": null,
            "_view_module_version": "1.5.0",
            "orientation": "horizontal",
            "min": 0,
            "description_tooltip": null,
            "_model_module": "@jupyter-widgets/controls",
            "layout": "IPY_MODEL_eb28f85c50c640caa1f446a52e9328a2"
          }
        },
        "4d59bd95f01b4b12a3133a07660d870a": {
          "model_module": "@jupyter-widgets/controls",
          "model_name": "HTMLModel",
          "state": {
            "_view_name": "HTMLView",
            "style": "IPY_MODEL_57ab307baabf4fe4a170ba7d5bd02a45",
            "_dom_classes": [],
            "description": "",
            "_model_name": "HTMLModel",
            "placeholder": "​",
            "_view_module": "@jupyter-widgets/controls",
            "_model_module_version": "1.5.0",
            "value": " 50000/0 [00:17&lt;00:00, 3561.47 examples/s]",
            "_view_count": null,
            "_view_module_version": "1.5.0",
            "description_tooltip": null,
            "_model_module": "@jupyter-widgets/controls",
            "layout": "IPY_MODEL_be4019ee0e1e4b13a460fad6cded60c9"
          }
        },
        "5d690572edd541ae8c7ee8b1e3b5c83c": {
          "model_module": "@jupyter-widgets/controls",
          "model_name": "ProgressStyleModel",
          "state": {
            "_view_name": "StyleView",
            "_model_name": "ProgressStyleModel",
            "description_width": "initial",
            "_view_module": "@jupyter-widgets/base",
            "_model_module_version": "1.5.0",
            "_view_count": null,
            "_view_module_version": "1.2.0",
            "bar_color": null,
            "_model_module": "@jupyter-widgets/controls"
          }
        },
        "eb28f85c50c640caa1f446a52e9328a2": {
          "model_module": "@jupyter-widgets/base",
          "model_name": "LayoutModel",
          "state": {
            "_view_name": "LayoutView",
            "grid_template_rows": null,
            "right": null,
            "justify_content": null,
            "_view_module": "@jupyter-widgets/base",
            "overflow": null,
            "_model_module_version": "1.2.0",
            "_view_count": null,
            "flex_flow": null,
            "width": null,
            "min_width": null,
            "border": null,
            "align_items": null,
            "bottom": null,
            "_model_module": "@jupyter-widgets/base",
            "top": null,
            "grid_column": null,
            "overflow_y": null,
            "overflow_x": null,
            "grid_auto_flow": null,
            "grid_area": null,
            "grid_template_columns": null,
            "flex": null,
            "_model_name": "LayoutModel",
            "justify_items": null,
            "grid_row": null,
            "max_height": null,
            "align_content": null,
            "visibility": null,
            "align_self": null,
            "height": null,
            "min_height": null,
            "padding": null,
            "grid_auto_rows": null,
            "grid_gap": null,
            "max_width": null,
            "order": null,
            "_view_module_version": "1.2.0",
            "grid_template_areas": null,
            "object_position": null,
            "object_fit": null,
            "grid_auto_columns": null,
            "margin": null,
            "display": null,
            "left": null
          }
        },
        "57ab307baabf4fe4a170ba7d5bd02a45": {
          "model_module": "@jupyter-widgets/controls",
          "model_name": "DescriptionStyleModel",
          "state": {
            "_view_name": "StyleView",
            "_model_name": "DescriptionStyleModel",
            "description_width": "",
            "_view_module": "@jupyter-widgets/base",
            "_model_module_version": "1.5.0",
            "_view_count": null,
            "_view_module_version": "1.2.0",
            "_model_module": "@jupyter-widgets/controls"
          }
        },
        "be4019ee0e1e4b13a460fad6cded60c9": {
          "model_module": "@jupyter-widgets/base",
          "model_name": "LayoutModel",
          "state": {
            "_view_name": "LayoutView",
            "grid_template_rows": null,
            "right": null,
            "justify_content": null,
            "_view_module": "@jupyter-widgets/base",
            "overflow": null,
            "_model_module_version": "1.2.0",
            "_view_count": null,
            "flex_flow": null,
            "width": null,
            "min_width": null,
            "border": null,
            "align_items": null,
            "bottom": null,
            "_model_module": "@jupyter-widgets/base",
            "top": null,
            "grid_column": null,
            "overflow_y": null,
            "overflow_x": null,
            "grid_auto_flow": null,
            "grid_area": null,
            "grid_template_columns": null,
            "flex": null,
            "_model_name": "LayoutModel",
            "justify_items": null,
            "grid_row": null,
            "max_height": null,
            "align_content": null,
            "visibility": null,
            "align_self": null,
            "height": null,
            "min_height": null,
            "padding": null,
            "grid_auto_rows": null,
            "grid_gap": null,
            "max_width": null,
            "order": null,
            "_view_module_version": "1.2.0",
            "grid_template_areas": null,
            "object_position": null,
            "object_fit": null,
            "grid_auto_columns": null,
            "margin": null,
            "display": null,
            "left": null
          }
        },
        "48bf219e90fe4adc9d1ec73029f8e18d": {
          "model_module": "@jupyter-widgets/controls",
          "model_name": "HBoxModel",
          "state": {
            "_view_name": "HBoxView",
            "_dom_classes": [],
            "_model_name": "HBoxModel",
            "_view_module": "@jupyter-widgets/controls",
            "_model_module_version": "1.5.0",
            "_view_count": null,
            "_view_module_version": "1.5.0",
            "box_style": "",
            "layout": "IPY_MODEL_b194af9bdefc4aeba06183c4590000c8",
            "_model_module": "@jupyter-widgets/controls",
            "children": [
              "IPY_MODEL_a70a3d915479448b845aa478d6cb5ffb",
              "IPY_MODEL_c74a3a5bc028412792c0b8f3017373ae"
            ]
          }
        },
        "b194af9bdefc4aeba06183c4590000c8": {
          "model_module": "@jupyter-widgets/base",
          "model_name": "LayoutModel",
          "state": {
            "_view_name": "LayoutView",
            "grid_template_rows": null,
            "right": null,
            "justify_content": null,
            "_view_module": "@jupyter-widgets/base",
            "overflow": null,
            "_model_module_version": "1.2.0",
            "_view_count": null,
            "flex_flow": null,
            "width": null,
            "min_width": null,
            "border": null,
            "align_items": null,
            "bottom": null,
            "_model_module": "@jupyter-widgets/base",
            "top": null,
            "grid_column": null,
            "overflow_y": null,
            "overflow_x": null,
            "grid_auto_flow": null,
            "grid_area": null,
            "grid_template_columns": null,
            "flex": null,
            "_model_name": "LayoutModel",
            "justify_items": null,
            "grid_row": null,
            "max_height": null,
            "align_content": null,
            "visibility": null,
            "align_self": null,
            "height": null,
            "min_height": null,
            "padding": null,
            "grid_auto_rows": null,
            "grid_gap": null,
            "max_width": null,
            "order": null,
            "_view_module_version": "1.2.0",
            "grid_template_areas": null,
            "object_position": null,
            "object_fit": null,
            "grid_auto_columns": null,
            "margin": null,
            "display": null,
            "left": null
          }
        },
        "a70a3d915479448b845aa478d6cb5ffb": {
          "model_module": "@jupyter-widgets/controls",
          "model_name": "FloatProgressModel",
          "state": {
            "_view_name": "ProgressView",
            "style": "IPY_MODEL_00b669ac9d2a480b8fb72f3afe6d1ac9",
            "_dom_classes": [],
            "description": " 80%",
            "_model_name": "FloatProgressModel",
            "bar_style": "danger",
            "max": 50000,
            "_view_module": "@jupyter-widgets/controls",
            "_model_module_version": "1.5.0",
            "value": 40105,
            "_view_count": null,
            "_view_module_version": "1.5.0",
            "orientation": "horizontal",
            "min": 0,
            "description_tooltip": null,
            "_model_module": "@jupyter-widgets/controls",
            "layout": "IPY_MODEL_39914fbc3a6245eea12292b7e988de9a"
          }
        },
        "c74a3a5bc028412792c0b8f3017373ae": {
          "model_module": "@jupyter-widgets/controls",
          "model_name": "HTMLModel",
          "state": {
            "_view_name": "HTMLView",
            "style": "IPY_MODEL_64613f510c4f4ee6a9f24c2153b0e31f",
            "_dom_classes": [],
            "description": "",
            "_model_name": "HTMLModel",
            "placeholder": "​",
            "_view_module": "@jupyter-widgets/controls",
            "_model_module_version": "1.5.0",
            "value": " 40105/50000 [00:00&lt;00:00, 126737.41 examples/s]",
            "_view_count": null,
            "_view_module_version": "1.5.0",
            "description_tooltip": null,
            "_model_module": "@jupyter-widgets/controls",
            "layout": "IPY_MODEL_1995eb0e8be045549dddf6e126368844"
          }
        },
        "00b669ac9d2a480b8fb72f3afe6d1ac9": {
          "model_module": "@jupyter-widgets/controls",
          "model_name": "ProgressStyleModel",
          "state": {
            "_view_name": "StyleView",
            "_model_name": "ProgressStyleModel",
            "description_width": "initial",
            "_view_module": "@jupyter-widgets/base",
            "_model_module_version": "1.5.0",
            "_view_count": null,
            "_view_module_version": "1.2.0",
            "bar_color": null,
            "_model_module": "@jupyter-widgets/controls"
          }
        },
        "39914fbc3a6245eea12292b7e988de9a": {
          "model_module": "@jupyter-widgets/base",
          "model_name": "LayoutModel",
          "state": {
            "_view_name": "LayoutView",
            "grid_template_rows": null,
            "right": null,
            "justify_content": null,
            "_view_module": "@jupyter-widgets/base",
            "overflow": null,
            "_model_module_version": "1.2.0",
            "_view_count": null,
            "flex_flow": null,
            "width": null,
            "min_width": null,
            "border": null,
            "align_items": null,
            "bottom": null,
            "_model_module": "@jupyter-widgets/base",
            "top": null,
            "grid_column": null,
            "overflow_y": null,
            "overflow_x": null,
            "grid_auto_flow": null,
            "grid_area": null,
            "grid_template_columns": null,
            "flex": null,
            "_model_name": "LayoutModel",
            "justify_items": null,
            "grid_row": null,
            "max_height": null,
            "align_content": null,
            "visibility": null,
            "align_self": null,
            "height": null,
            "min_height": null,
            "padding": null,
            "grid_auto_rows": null,
            "grid_gap": null,
            "max_width": null,
            "order": null,
            "_view_module_version": "1.2.0",
            "grid_template_areas": null,
            "object_position": null,
            "object_fit": null,
            "grid_auto_columns": null,
            "margin": null,
            "display": null,
            "left": null
          }
        },
        "64613f510c4f4ee6a9f24c2153b0e31f": {
          "model_module": "@jupyter-widgets/controls",
          "model_name": "DescriptionStyleModel",
          "state": {
            "_view_name": "StyleView",
            "_model_name": "DescriptionStyleModel",
            "description_width": "",
            "_view_module": "@jupyter-widgets/base",
            "_model_module_version": "1.5.0",
            "_view_count": null,
            "_view_module_version": "1.2.0",
            "_model_module": "@jupyter-widgets/controls"
          }
        },
        "1995eb0e8be045549dddf6e126368844": {
          "model_module": "@jupyter-widgets/base",
          "model_name": "LayoutModel",
          "state": {
            "_view_name": "LayoutView",
            "grid_template_rows": null,
            "right": null,
            "justify_content": null,
            "_view_module": "@jupyter-widgets/base",
            "overflow": null,
            "_model_module_version": "1.2.0",
            "_view_count": null,
            "flex_flow": null,
            "width": null,
            "min_width": null,
            "border": null,
            "align_items": null,
            "bottom": null,
            "_model_module": "@jupyter-widgets/base",
            "top": null,
            "grid_column": null,
            "overflow_y": null,
            "overflow_x": null,
            "grid_auto_flow": null,
            "grid_area": null,
            "grid_template_columns": null,
            "flex": null,
            "_model_name": "LayoutModel",
            "justify_items": null,
            "grid_row": null,
            "max_height": null,
            "align_content": null,
            "visibility": null,
            "align_self": null,
            "height": null,
            "min_height": null,
            "padding": null,
            "grid_auto_rows": null,
            "grid_gap": null,
            "max_width": null,
            "order": null,
            "_view_module_version": "1.2.0",
            "grid_template_areas": null,
            "object_position": null,
            "object_fit": null,
            "grid_auto_columns": null,
            "margin": null,
            "display": null,
            "left": null
          }
        }
      }
    }
  },
  "cells": [
    {
      "cell_type": "code",
      "metadata": {
        "id": "vA_XozuXoo5k",
        "colab_type": "code",
        "colab": {
          "base_uri": "https://localhost:8080/",
          "height": 106
        },
        "outputId": "7fdb9870-c300-4085-b383-87608416ad81"
      },
      "source": [
        "# Python ≥3.5 is required\n",
        "import sys\n",
        "assert sys.version_info >= (3, 5)\n",
        "\n",
        "# Scikit-Learn ≥0.20 is required\n",
        "import sklearn\n",
        "assert sklearn.__version__ >= \"0.20\"\n",
        "\n",
        "try:\n",
        "    # %tensorflow_version only exists in Colab.\n",
        "    %tensorflow_version 2.x\n",
        "    !pip install -q -U tensorflow-addons\n",
        "    IS_COLAB = True\n",
        "except Exception:\n",
        "    IS_COLAB = False\n",
        "\n",
        "# TensorFlow ≥2.0 is required\n",
        "import tensorflow as tf\n",
        "from tensorflow import keras\n",
        "assert tf.__version__ >= \"2.0\"\n",
        "\n",
        "if not tf.test.is_gpu_available():\n",
        "    print(\"No GPU was detected. LSTMs and CNNs can be very slow without a GPU.\")\n",
        "    if IS_COLAB:\n",
        "        print(\"Go to Runtime > Change runtime and select a GPU hardware accelerator.\")\n",
        "\n",
        "# Common imports\n",
        "import numpy as np\n",
        "import os\n",
        "\n",
        "# to make this notebook's output stable across runs\n",
        "np.random.seed(42)\n",
        "tf.random.set_seed(42)\n",
        "\n",
        "# To plot pretty figures\n",
        "%matplotlib inline\n",
        "import matplotlib as mpl\n",
        "import matplotlib.pyplot as plt\n",
        "mpl.rc('axes', labelsize=14)\n",
        "mpl.rc('xtick', labelsize=12)\n",
        "mpl.rc('ytick', labelsize=12)\n",
        "\n",
        "# Where to save the figures\n",
        "PROJECT_ROOT_DIR = \".\"\n",
        "CHAPTER_ID = \"nlp\"\n",
        "IMAGES_PATH = os.path.join(PROJECT_ROOT_DIR, \"images\", CHAPTER_ID)\n",
        "os.makedirs(IMAGES_PATH, exist_ok=True)\n",
        "\n",
        "def save_fig(fig_id, tight_layout=True, fig_extension=\"png\", resolution=300):\n",
        "    path = os.path.join(IMAGES_PATH, fig_id + \".\" + fig_extension)\n",
        "    print(\"Saving figure\", fig_id)\n",
        "    if tight_layout:\n",
        "        plt.tight_layout()\n",
        "    plt.savefig(path, format=fig_extension, dpi=resolution)\n"
      ],
      "execution_count": 1,
      "outputs": [
        {
          "output_type": "stream",
          "text": [
            "\u001b[?25l\r\u001b[K     |▎                               | 10kB 28.1MB/s eta 0:00:01\r\u001b[K     |▋                               | 20kB 6.5MB/s eta 0:00:01\r\u001b[K     |█                               | 30kB 7.7MB/s eta 0:00:01\r\u001b[K     |█▎                              | 40kB 8.4MB/s eta 0:00:01\r\u001b[K     |█▋                              | 51kB 6.7MB/s eta 0:00:01\r\u001b[K     |█▉                              | 61kB 7.3MB/s eta 0:00:01\r\u001b[K     |██▏                             | 71kB 8.3MB/s eta 0:00:01\r\u001b[K     |██▌                             | 81kB 8.6MB/s eta 0:00:01\r\u001b[K     |██▉                             | 92kB 8.7MB/s eta 0:00:01\r\u001b[K     |███▏                            | 102kB 9.4MB/s eta 0:00:01\r\u001b[K     |███▌                            | 112kB 9.4MB/s eta 0:00:01\r\u001b[K     |███▊                            | 122kB 9.4MB/s eta 0:00:01\r\u001b[K     |████                            | 133kB 9.4MB/s eta 0:00:01\r\u001b[K     |████▍                           | 143kB 9.4MB/s eta 0:00:01\r\u001b[K     |████▊                           | 153kB 9.4MB/s eta 0:00:01\r\u001b[K     |█████                           | 163kB 9.4MB/s eta 0:00:01\r\u001b[K     |█████▎                          | 174kB 9.4MB/s eta 0:00:01\r\u001b[K     |█████▋                          | 184kB 9.4MB/s eta 0:00:01\r\u001b[K     |██████                          | 194kB 9.4MB/s eta 0:00:01\r\u001b[K     |██████▎                         | 204kB 9.4MB/s eta 0:00:01\r\u001b[K     |██████▋                         | 215kB 9.4MB/s eta 0:00:01\r\u001b[K     |███████                         | 225kB 9.4MB/s eta 0:00:01\r\u001b[K     |███████▏                        | 235kB 9.4MB/s eta 0:00:01\r\u001b[K     |███████▌                        | 245kB 9.4MB/s eta 0:00:01\r\u001b[K     |███████▉                        | 256kB 9.4MB/s eta 0:00:01\r\u001b[K     |████████▏                       | 266kB 9.4MB/s eta 0:00:01\r\u001b[K     |████████▌                       | 276kB 9.4MB/s eta 0:00:01\r\u001b[K     |████████▊                       | 286kB 9.4MB/s eta 0:00:01\r\u001b[K     |█████████                       | 296kB 9.4MB/s eta 0:00:01\r\u001b[K     |█████████▍                      | 307kB 9.4MB/s eta 0:00:01\r\u001b[K     |█████████▊                      | 317kB 9.4MB/s eta 0:00:01\r\u001b[K     |██████████                      | 327kB 9.4MB/s eta 0:00:01\r\u001b[K     |██████████▍                     | 337kB 9.4MB/s eta 0:00:01\r\u001b[K     |██████████▋                     | 348kB 9.4MB/s eta 0:00:01\r\u001b[K     |███████████                     | 358kB 9.4MB/s eta 0:00:01\r\u001b[K     |███████████▎                    | 368kB 9.4MB/s eta 0:00:01\r\u001b[K     |███████████▋                    | 378kB 9.4MB/s eta 0:00:01\r\u001b[K     |████████████                    | 389kB 9.4MB/s eta 0:00:01\r\u001b[K     |████████████▎                   | 399kB 9.4MB/s eta 0:00:01\r\u001b[K     |████████████▌                   | 409kB 9.4MB/s eta 0:00:01\r\u001b[K     |████████████▉                   | 419kB 9.4MB/s eta 0:00:01\r\u001b[K     |█████████████▏                  | 430kB 9.4MB/s eta 0:00:01\r\u001b[K     |█████████████▌                  | 440kB 9.4MB/s eta 0:00:01\r\u001b[K     |█████████████▉                  | 450kB 9.4MB/s eta 0:00:01\r\u001b[K     |██████████████                  | 460kB 9.4MB/s eta 0:00:01\r\u001b[K     |██████████████▍                 | 471kB 9.4MB/s eta 0:00:01\r\u001b[K     |██████████████▊                 | 481kB 9.4MB/s eta 0:00:01\r\u001b[K     |███████████████                 | 491kB 9.4MB/s eta 0:00:01\r\u001b[K     |███████████████▍                | 501kB 9.4MB/s eta 0:00:01\r\u001b[K     |███████████████▊                | 512kB 9.4MB/s eta 0:00:01\r\u001b[K     |████████████████                | 522kB 9.4MB/s eta 0:00:01\r\u001b[K     |████████████████▎               | 532kB 9.4MB/s eta 0:00:01\r\u001b[K     |████████████████▋               | 542kB 9.4MB/s eta 0:00:01\r\u001b[K     |█████████████████               | 552kB 9.4MB/s eta 0:00:01\r\u001b[K     |█████████████████▎              | 563kB 9.4MB/s eta 0:00:01\r\u001b[K     |█████████████████▌              | 573kB 9.4MB/s eta 0:00:01\r\u001b[K     |█████████████████▉              | 583kB 9.4MB/s eta 0:00:01\r\u001b[K     |██████████████████▏             | 593kB 9.4MB/s eta 0:00:01\r\u001b[K     |██████████████████▌             | 604kB 9.4MB/s eta 0:00:01\r\u001b[K     |██████████████████▉             | 614kB 9.4MB/s eta 0:00:01\r\u001b[K     |███████████████████▏            | 624kB 9.4MB/s eta 0:00:01\r\u001b[K     |███████████████████▍            | 634kB 9.4MB/s eta 0:00:01\r\u001b[K     |███████████████████▊            | 645kB 9.4MB/s eta 0:00:01\r\u001b[K     |████████████████████            | 655kB 9.4MB/s eta 0:00:01\r\u001b[K     |████████████████████▍           | 665kB 9.4MB/s eta 0:00:01\r\u001b[K     |████████████████████▊           | 675kB 9.4MB/s eta 0:00:01\r\u001b[K     |█████████████████████           | 686kB 9.4MB/s eta 0:00:01\r\u001b[K     |█████████████████████▎          | 696kB 9.4MB/s eta 0:00:01\r\u001b[K     |█████████████████████▋          | 706kB 9.4MB/s eta 0:00:01\r\u001b[K     |██████████████████████          | 716kB 9.4MB/s eta 0:00:01\r\u001b[K     |██████████████████████▎         | 727kB 9.4MB/s eta 0:00:01\r\u001b[K     |██████████████████████▋         | 737kB 9.4MB/s eta 0:00:01\r\u001b[K     |██████████████████████▉         | 747kB 9.4MB/s eta 0:00:01\r\u001b[K     |███████████████████████▏        | 757kB 9.4MB/s eta 0:00:01\r\u001b[K     |███████████████████████▌        | 768kB 9.4MB/s eta 0:00:01\r\u001b[K     |███████████████████████▉        | 778kB 9.4MB/s eta 0:00:01\r\u001b[K     |████████████████████████▏       | 788kB 9.4MB/s eta 0:00:01\r\u001b[K     |████████████████████████▌       | 798kB 9.4MB/s eta 0:00:01\r\u001b[K     |████████████████████████▊       | 808kB 9.4MB/s eta 0:00:01\r\u001b[K     |█████████████████████████       | 819kB 9.4MB/s eta 0:00:01\r\u001b[K     |█████████████████████████▍      | 829kB 9.4MB/s eta 0:00:01\r\u001b[K     |█████████████████████████▊      | 839kB 9.4MB/s eta 0:00:01\r\u001b[K     |██████████████████████████      | 849kB 9.4MB/s eta 0:00:01\r\u001b[K     |██████████████████████████▎     | 860kB 9.4MB/s eta 0:00:01\r\u001b[K     |██████████████████████████▋     | 870kB 9.4MB/s eta 0:00:01\r\u001b[K     |███████████████████████████     | 880kB 9.4MB/s eta 0:00:01\r\u001b[K     |███████████████████████████▎    | 890kB 9.4MB/s eta 0:00:01\r\u001b[K     |███████████████████████████▋    | 901kB 9.4MB/s eta 0:00:01\r\u001b[K     |████████████████████████████    | 911kB 9.4MB/s eta 0:00:01\r\u001b[K     |████████████████████████████▏   | 921kB 9.4MB/s eta 0:00:01\r\u001b[K     |████████████████████████████▌   | 931kB 9.4MB/s eta 0:00:01\r\u001b[K     |████████████████████████████▉   | 942kB 9.4MB/s eta 0:00:01\r\u001b[K     |█████████████████████████████▏  | 952kB 9.4MB/s eta 0:00:01\r\u001b[K     |█████████████████████████████▌  | 962kB 9.4MB/s eta 0:00:01\r\u001b[K     |█████████████████████████████▉  | 972kB 9.4MB/s eta 0:00:01\r\u001b[K     |██████████████████████████████  | 983kB 9.4MB/s eta 0:00:01\r\u001b[K     |██████████████████████████████▍ | 993kB 9.4MB/s eta 0:00:01\r\u001b[K     |██████████████████████████████▊ | 1.0MB 9.4MB/s eta 0:00:01\r\u001b[K     |███████████████████████████████ | 1.0MB 9.4MB/s eta 0:00:01\r\u001b[K     |███████████████████████████████▍| 1.0MB 9.4MB/s eta 0:00:01\r\u001b[K     |███████████████████████████████▋| 1.0MB 9.4MB/s eta 0:00:01\r\u001b[K     |████████████████████████████████| 1.0MB 9.4MB/s eta 0:00:01\r\u001b[K     |████████████████████████████████| 1.1MB 9.4MB/s \n",
            "\u001b[?25hWARNING:tensorflow:From <ipython-input-1-a71e2dbfd47b>:22: is_gpu_available (from tensorflow.python.framework.test_util) is deprecated and will be removed in a future version.\n",
            "Instructions for updating:\n",
            "Use `tf.config.list_physical_devices('GPU')` instead.\n"
          ],
          "name": "stdout"
        }
      ]
    },
    {
      "cell_type": "code",
      "metadata": {
        "id": "NU0usyZIn3iW",
        "colab_type": "code",
        "colab": {
          "base_uri": "https://localhost:8080/",
          "height": 52
        },
        "outputId": "d9511be2-4bff-47fb-a555-316ccbe69d1d"
      },
      "source": [
        "keras.backend.clear_session()\n",
        "shakespeare_url = \"https://homl.info/shakespeare\" # shortcut URL\n",
        "filepath = keras.utils.get_file(\"shakespeare.txt\", shakespeare_url)\n",
        "with open(filepath) as f:\n",
        "    shakespeare_text = f.read()"
      ],
      "execution_count": 2,
      "outputs": [
        {
          "output_type": "stream",
          "text": [
            "Downloading data from https://homl.info/shakespeare\n",
            "1122304/1115394 [==============================] - 0s 0us/step\n"
          ],
          "name": "stdout"
        }
      ]
    },
    {
      "cell_type": "code",
      "metadata": {
        "id": "jMy7Ln4E3TCJ",
        "colab_type": "code",
        "colab": {
          "base_uri": "https://localhost:8080/",
          "height": 34
        },
        "outputId": "645a3a49-2845-4e77-d088-0102dab37ada"
      },
      "source": [
        "len(shakespeare_text)"
      ],
      "execution_count": 3,
      "outputs": [
        {
          "output_type": "execute_result",
          "data": {
            "text/plain": [
              "1115394"
            ]
          },
          "metadata": {
            "tags": []
          },
          "execution_count": 3
        }
      ]
    },
    {
      "cell_type": "code",
      "metadata": {
        "id": "u4V6oLTR3jqA",
        "colab_type": "code",
        "colab": {}
      },
      "source": [
        "tokenizer = keras.preprocessing.text.Tokenizer(char_level=True)\n",
        "tokenizer.fit_on_texts([shakespeare_text])"
      ],
      "execution_count": 4,
      "outputs": []
    },
    {
      "cell_type": "code",
      "metadata": {
        "id": "mtiDYoEA6PmN",
        "colab_type": "code",
        "colab": {
          "base_uri": "https://localhost:8080/",
          "height": 34
        },
        "outputId": "d44720eb-4458-4226-cf32-a6b6bd80351d"
      },
      "source": [
        "tokenizer.texts_to_sequences([\"First\"])"
      ],
      "execution_count": 5,
      "outputs": [
        {
          "output_type": "execute_result",
          "data": {
            "text/plain": [
              "[[20, 6, 9, 8, 3]]"
            ]
          },
          "metadata": {
            "tags": []
          },
          "execution_count": 5
        }
      ]
    },
    {
      "cell_type": "code",
      "metadata": {
        "id": "hS1oDYbL7FGa",
        "colab_type": "code",
        "colab": {
          "base_uri": "https://localhost:8080/",
          "height": 34
        },
        "outputId": "1e08e390-2196-44a1-d144-85939902165b"
      },
      "source": [
        "tokenizer.sequences_to_texts([[20, 6, 9, 8, 3]])"
      ],
      "execution_count": 6,
      "outputs": [
        {
          "output_type": "execute_result",
          "data": {
            "text/plain": [
              "['f i r s t']"
            ]
          },
          "metadata": {
            "tags": []
          },
          "execution_count": 6
        }
      ]
    },
    {
      "cell_type": "code",
      "metadata": {
        "id": "ybxpIFzy7Hl6",
        "colab_type": "code",
        "colab": {}
      },
      "source": [
        "max_id = len(tokenizer.word_index)"
      ],
      "execution_count": 7,
      "outputs": []
    },
    {
      "cell_type": "code",
      "metadata": {
        "id": "wGT_38E57O7o",
        "colab_type": "code",
        "colab": {
          "base_uri": "https://localhost:8080/",
          "height": 34
        },
        "outputId": "a21584b1-a3ec-4da2-ce1c-b707b1ae9694"
      },
      "source": [
        "max_id"
      ],
      "execution_count": 8,
      "outputs": [
        {
          "output_type": "execute_result",
          "data": {
            "text/plain": [
              "39"
            ]
          },
          "metadata": {
            "tags": []
          },
          "execution_count": 8
        }
      ]
    },
    {
      "cell_type": "code",
      "metadata": {
        "id": "meDCChRq8xyq",
        "colab_type": "code",
        "colab": {
          "base_uri": "https://localhost:8080/",
          "height": 694
        },
        "outputId": "c92f9a41-33ad-4fc2-d8ca-09f9c53a1b4a"
      },
      "source": [
        "tokenizer.word_index"
      ],
      "execution_count": 9,
      "outputs": [
        {
          "output_type": "execute_result",
          "data": {
            "text/plain": [
              "{'\\n': 11,\n",
              " ' ': 1,\n",
              " '!': 31,\n",
              " '$': 39,\n",
              " '&': 38,\n",
              " \"'\": 28,\n",
              " ',': 18,\n",
              " '-': 32,\n",
              " '.': 27,\n",
              " '3': 37,\n",
              " ':': 24,\n",
              " ';': 29,\n",
              " '?': 30,\n",
              " 'a': 5,\n",
              " 'b': 22,\n",
              " 'c': 19,\n",
              " 'd': 13,\n",
              " 'e': 2,\n",
              " 'f': 20,\n",
              " 'g': 21,\n",
              " 'h': 7,\n",
              " 'i': 6,\n",
              " 'j': 33,\n",
              " 'k': 25,\n",
              " 'l': 12,\n",
              " 'm': 15,\n",
              " 'n': 10,\n",
              " 'o': 4,\n",
              " 'p': 23,\n",
              " 'q': 34,\n",
              " 'r': 9,\n",
              " 's': 8,\n",
              " 't': 3,\n",
              " 'u': 14,\n",
              " 'v': 26,\n",
              " 'w': 17,\n",
              " 'x': 35,\n",
              " 'y': 16,\n",
              " 'z': 36}"
            ]
          },
          "metadata": {
            "tags": []
          },
          "execution_count": 9
        }
      ]
    },
    {
      "cell_type": "code",
      "metadata": {
        "id": "X6ezGyLD7Q5R",
        "colab_type": "code",
        "colab": {}
      },
      "source": [
        "dataset_size = tokenizer.document_count"
      ],
      "execution_count": 10,
      "outputs": []
    },
    {
      "cell_type": "code",
      "metadata": {
        "id": "sAU_Eyvi7Sto",
        "colab_type": "code",
        "colab": {
          "base_uri": "https://localhost:8080/",
          "height": 34
        },
        "outputId": "fe1aee9d-55a4-41f1-d1d8-ca6f1ffddc1b"
      },
      "source": [
        "dataset_size"
      ],
      "execution_count": 11,
      "outputs": [
        {
          "output_type": "execute_result",
          "data": {
            "text/plain": [
              "1"
            ]
          },
          "metadata": {
            "tags": []
          },
          "execution_count": 11
        }
      ]
    },
    {
      "cell_type": "code",
      "metadata": {
        "id": "ta12CnqW8SkC",
        "colab_type": "code",
        "colab": {}
      },
      "source": [
        "[encoded] = np.array(tokenizer.texts_to_sequences([shakespeare_text])) - 1"
      ],
      "execution_count": 12,
      "outputs": []
    },
    {
      "cell_type": "code",
      "metadata": {
        "id": "rkhh_Wct8TCU",
        "colab_type": "code",
        "colab": {
          "base_uri": "https://localhost:8080/",
          "height": 34
        },
        "outputId": "980925ed-f5f9-4de3-e71a-62ffe9a8dff9"
      },
      "source": [
        "len(encoded)"
      ],
      "execution_count": 13,
      "outputs": [
        {
          "output_type": "execute_result",
          "data": {
            "text/plain": [
              "1115394"
            ]
          },
          "metadata": {
            "tags": []
          },
          "execution_count": 13
        }
      ]
    },
    {
      "cell_type": "code",
      "metadata": {
        "id": "6_1qdYJxOf5k",
        "colab_type": "code",
        "colab": {
          "base_uri": "https://localhost:8080/",
          "height": 34
        },
        "outputId": "2e5cc352-38ad-49a4-809f-695c4b70ea05"
      },
      "source": [
        "type(encoded)"
      ],
      "execution_count": 14,
      "outputs": [
        {
          "output_type": "execute_result",
          "data": {
            "text/plain": [
              "numpy.ndarray"
            ]
          },
          "metadata": {
            "tags": []
          },
          "execution_count": 14
        }
      ]
    },
    {
      "cell_type": "code",
      "metadata": {
        "id": "yQiZwjMH_DA8",
        "colab_type": "code",
        "colab": {}
      },
      "source": [
        "dataset_size = len(encoded)"
      ],
      "execution_count": 15,
      "outputs": []
    },
    {
      "cell_type": "code",
      "metadata": {
        "id": "loIxOuRM_SYl",
        "colab_type": "code",
        "colab": {}
      },
      "source": [
        "train_size = dataset_size * 90 // 100\n",
        "dataset = tf.data.Dataset.from_tensor_slices(encoded[:train_size])"
      ],
      "execution_count": 16,
      "outputs": []
    },
    {
      "cell_type": "code",
      "metadata": {
        "id": "_uiF_SM5IJDv",
        "colab_type": "code",
        "colab": {
          "base_uri": "https://localhost:8080/",
          "height": 34
        },
        "outputId": "babdccee-1c8c-496a-b7c1-1fe574c22455"
      },
      "source": [
        "dataset\n",
        "i = 0\n",
        "for item in dataset:\n",
        "  i += 1\n",
        "print(i)"
      ],
      "execution_count": 17,
      "outputs": [
        {
          "output_type": "stream",
          "text": [
            "1003854\n"
          ],
          "name": "stdout"
        }
      ]
    },
    {
      "cell_type": "code",
      "metadata": {
        "id": "vOwozFDD_WP_",
        "colab_type": "code",
        "colab": {}
      },
      "source": [
        "n_steps = 100\n",
        "window_length = n_steps + 1 # target = input shifted 1 character ahead\n",
        "dataset = dataset.window(window_length, shift=1, drop_remainder=True)"
      ],
      "execution_count": 18,
      "outputs": []
    },
    {
      "cell_type": "code",
      "metadata": {
        "id": "4nMg6_2JAXVd",
        "colab_type": "code",
        "colab": {
          "base_uri": "https://localhost:8080/",
          "height": 54
        },
        "outputId": "088dc4af-bb19-4bd4-d886-e774e8e5755b"
      },
      "source": [
        "dataset"
      ],
      "execution_count": 19,
      "outputs": [
        {
          "output_type": "execute_result",
          "data": {
            "text/plain": [
              "<WindowDataset shapes: DatasetSpec(TensorSpec(shape=(), dtype=tf.int64, name=None), TensorShape([])), types: DatasetSpec(TensorSpec(shape=(), dtype=tf.int64, name=None), TensorShape([]))>"
            ]
          },
          "metadata": {
            "tags": []
          },
          "execution_count": 19
        }
      ]
    },
    {
      "cell_type": "code",
      "metadata": {
        "id": "BCYT48ykEMXd",
        "colab_type": "code",
        "colab": {
          "base_uri": "https://localhost:8080/",
          "height": 69
        },
        "outputId": "9ee72a10-a563-4da4-bea6-e39e24f00e80"
      },
      "source": [
        "for item in dataset.take(3):\n",
        "  print(item)"
      ],
      "execution_count": 20,
      "outputs": [
        {
          "output_type": "stream",
          "text": [
            "<_VariantDataset shapes: (), types: tf.int64>\n",
            "<_VariantDataset shapes: (), types: tf.int64>\n",
            "<_VariantDataset shapes: (), types: tf.int64>\n"
          ],
          "name": "stdout"
        }
      ]
    },
    {
      "cell_type": "code",
      "metadata": {
        "id": "BDjxb1giG-T7",
        "colab_type": "code",
        "colab": {
          "base_uri": "https://localhost:8080/",
          "height": 1000
        },
        "outputId": "af33ea8f-1944-472f-9a41-a266c8ffc8d5"
      },
      "source": [
        "i = 0\n",
        "for item in dataset.take(1):\n",
        "  for item1 in item:\n",
        "    print(item1)"
      ],
      "execution_count": 21,
      "outputs": [
        {
          "output_type": "stream",
          "text": [
            "tf.Tensor(19, shape=(), dtype=int64)\n",
            "tf.Tensor(5, shape=(), dtype=int64)\n",
            "tf.Tensor(8, shape=(), dtype=int64)\n",
            "tf.Tensor(7, shape=(), dtype=int64)\n",
            "tf.Tensor(2, shape=(), dtype=int64)\n",
            "tf.Tensor(0, shape=(), dtype=int64)\n",
            "tf.Tensor(18, shape=(), dtype=int64)\n",
            "tf.Tensor(5, shape=(), dtype=int64)\n",
            "tf.Tensor(2, shape=(), dtype=int64)\n",
            "tf.Tensor(5, shape=(), dtype=int64)\n",
            "tf.Tensor(35, shape=(), dtype=int64)\n",
            "tf.Tensor(1, shape=(), dtype=int64)\n",
            "tf.Tensor(9, shape=(), dtype=int64)\n",
            "tf.Tensor(23, shape=(), dtype=int64)\n",
            "tf.Tensor(10, shape=(), dtype=int64)\n",
            "tf.Tensor(21, shape=(), dtype=int64)\n",
            "tf.Tensor(1, shape=(), dtype=int64)\n",
            "tf.Tensor(19, shape=(), dtype=int64)\n",
            "tf.Tensor(3, shape=(), dtype=int64)\n",
            "tf.Tensor(8, shape=(), dtype=int64)\n",
            "tf.Tensor(1, shape=(), dtype=int64)\n",
            "tf.Tensor(0, shape=(), dtype=int64)\n",
            "tf.Tensor(16, shape=(), dtype=int64)\n",
            "tf.Tensor(1, shape=(), dtype=int64)\n",
            "tf.Tensor(0, shape=(), dtype=int64)\n",
            "tf.Tensor(22, shape=(), dtype=int64)\n",
            "tf.Tensor(8, shape=(), dtype=int64)\n",
            "tf.Tensor(3, shape=(), dtype=int64)\n",
            "tf.Tensor(18, shape=(), dtype=int64)\n",
            "tf.Tensor(1, shape=(), dtype=int64)\n",
            "tf.Tensor(1, shape=(), dtype=int64)\n",
            "tf.Tensor(12, shape=(), dtype=int64)\n",
            "tf.Tensor(0, shape=(), dtype=int64)\n",
            "tf.Tensor(4, shape=(), dtype=int64)\n",
            "tf.Tensor(9, shape=(), dtype=int64)\n",
            "tf.Tensor(15, shape=(), dtype=int64)\n",
            "tf.Tensor(0, shape=(), dtype=int64)\n",
            "tf.Tensor(19, shape=(), dtype=int64)\n",
            "tf.Tensor(13, shape=(), dtype=int64)\n",
            "tf.Tensor(8, shape=(), dtype=int64)\n",
            "tf.Tensor(2, shape=(), dtype=int64)\n",
            "tf.Tensor(6, shape=(), dtype=int64)\n",
            "tf.Tensor(1, shape=(), dtype=int64)\n",
            "tf.Tensor(8, shape=(), dtype=int64)\n",
            "tf.Tensor(17, shape=(), dtype=int64)\n",
            "tf.Tensor(0, shape=(), dtype=int64)\n",
            "tf.Tensor(6, shape=(), dtype=int64)\n",
            "tf.Tensor(1, shape=(), dtype=int64)\n",
            "tf.Tensor(4, shape=(), dtype=int64)\n",
            "tf.Tensor(8, shape=(), dtype=int64)\n",
            "tf.Tensor(0, shape=(), dtype=int64)\n",
            "tf.Tensor(14, shape=(), dtype=int64)\n",
            "tf.Tensor(1, shape=(), dtype=int64)\n",
            "tf.Tensor(0, shape=(), dtype=int64)\n",
            "tf.Tensor(7, shape=(), dtype=int64)\n",
            "tf.Tensor(22, shape=(), dtype=int64)\n",
            "tf.Tensor(1, shape=(), dtype=int64)\n",
            "tf.Tensor(4, shape=(), dtype=int64)\n",
            "tf.Tensor(24, shape=(), dtype=int64)\n",
            "tf.Tensor(26, shape=(), dtype=int64)\n",
            "tf.Tensor(10, shape=(), dtype=int64)\n",
            "tf.Tensor(10, shape=(), dtype=int64)\n",
            "tf.Tensor(4, shape=(), dtype=int64)\n",
            "tf.Tensor(11, shape=(), dtype=int64)\n",
            "tf.Tensor(11, shape=(), dtype=int64)\n",
            "tf.Tensor(23, shape=(), dtype=int64)\n",
            "tf.Tensor(10, shape=(), dtype=int64)\n",
            "tf.Tensor(7, shape=(), dtype=int64)\n",
            "tf.Tensor(22, shape=(), dtype=int64)\n",
            "tf.Tensor(1, shape=(), dtype=int64)\n",
            "tf.Tensor(4, shape=(), dtype=int64)\n",
            "tf.Tensor(24, shape=(), dtype=int64)\n",
            "tf.Tensor(17, shape=(), dtype=int64)\n",
            "tf.Tensor(0, shape=(), dtype=int64)\n",
            "tf.Tensor(7, shape=(), dtype=int64)\n",
            "tf.Tensor(22, shape=(), dtype=int64)\n",
            "tf.Tensor(1, shape=(), dtype=int64)\n",
            "tf.Tensor(4, shape=(), dtype=int64)\n",
            "tf.Tensor(24, shape=(), dtype=int64)\n",
            "tf.Tensor(26, shape=(), dtype=int64)\n",
            "tf.Tensor(10, shape=(), dtype=int64)\n",
            "tf.Tensor(10, shape=(), dtype=int64)\n",
            "tf.Tensor(19, shape=(), dtype=int64)\n",
            "tf.Tensor(5, shape=(), dtype=int64)\n",
            "tf.Tensor(8, shape=(), dtype=int64)\n",
            "tf.Tensor(7, shape=(), dtype=int64)\n",
            "tf.Tensor(2, shape=(), dtype=int64)\n",
            "tf.Tensor(0, shape=(), dtype=int64)\n",
            "tf.Tensor(18, shape=(), dtype=int64)\n",
            "tf.Tensor(5, shape=(), dtype=int64)\n",
            "tf.Tensor(2, shape=(), dtype=int64)\n",
            "tf.Tensor(5, shape=(), dtype=int64)\n",
            "tf.Tensor(35, shape=(), dtype=int64)\n",
            "tf.Tensor(1, shape=(), dtype=int64)\n",
            "tf.Tensor(9, shape=(), dtype=int64)\n",
            "tf.Tensor(23, shape=(), dtype=int64)\n",
            "tf.Tensor(10, shape=(), dtype=int64)\n",
            "tf.Tensor(15, shape=(), dtype=int64)\n",
            "tf.Tensor(3, shape=(), dtype=int64)\n",
            "tf.Tensor(13, shape=(), dtype=int64)\n",
            "tf.Tensor(0, shape=(), dtype=int64)\n"
          ],
          "name": "stdout"
        }
      ]
    },
    {
      "cell_type": "code",
      "metadata": {
        "id": "e1EVkZwYETif",
        "colab_type": "code",
        "colab": {}
      },
      "source": [
        "dataset = dataset.flat_map(lambda window: window.batch(window_length))"
      ],
      "execution_count": 22,
      "outputs": []
    },
    {
      "cell_type": "code",
      "metadata": {
        "id": "BJAFLTJlFxN0",
        "colab_type": "code",
        "colab": {
          "base_uri": "https://localhost:8080/",
          "height": 34
        },
        "outputId": "af46b848-7463-4fad-8b02-1d88b9085413"
      },
      "source": [
        "dataset"
      ],
      "execution_count": 23,
      "outputs": [
        {
          "output_type": "execute_result",
          "data": {
            "text/plain": [
              "<FlatMapDataset shapes: (None,), types: tf.int64>"
            ]
          },
          "metadata": {
            "tags": []
          },
          "execution_count": 23
        }
      ]
    },
    {
      "cell_type": "code",
      "metadata": {
        "id": "wZQcn7s1QoWB",
        "colab_type": "code",
        "colab": {
          "base_uri": "https://localhost:8080/",
          "height": 330
        },
        "outputId": "6942993b-5ced-4da8-9d1c-624593e92a83"
      },
      "source": [
        "for item in dataset.take(3):\n",
        "  print(item)"
      ],
      "execution_count": 24,
      "outputs": [
        {
          "output_type": "stream",
          "text": [
            "tf.Tensor(\n",
            "[19  5  8  7  2  0 18  5  2  5 35  1  9 23 10 21  1 19  3  8  1  0 16  1\n",
            "  0 22  8  3 18  1  1 12  0  4  9 15  0 19 13  8  2  6  1  8 17  0  6  1\n",
            "  4  8  0 14  1  0  7 22  1  4 24 26 10 10  4 11 11 23 10  7 22  1  4 24\n",
            " 17  0  7 22  1  4 24 26 10 10 19  5  8  7  2  0 18  5  2  5 35  1  9 23\n",
            " 10 15  3 13  0], shape=(101,), dtype=int64)\n",
            "tf.Tensor(\n",
            "[ 5  8  7  2  0 18  5  2  5 35  1  9 23 10 21  1 19  3  8  1  0 16  1  0\n",
            " 22  8  3 18  1  1 12  0  4  9 15  0 19 13  8  2  6  1  8 17  0  6  1  4\n",
            "  8  0 14  1  0  7 22  1  4 24 26 10 10  4 11 11 23 10  7 22  1  4 24 17\n",
            "  0  7 22  1  4 24 26 10 10 19  5  8  7  2  0 18  5  2  5 35  1  9 23 10\n",
            " 15  3 13  0  4], shape=(101,), dtype=int64)\n",
            "tf.Tensor(\n",
            "[ 8  7  2  0 18  5  2  5 35  1  9 23 10 21  1 19  3  8  1  0 16  1  0 22\n",
            "  8  3 18  1  1 12  0  4  9 15  0 19 13  8  2  6  1  8 17  0  6  1  4  8\n",
            "  0 14  1  0  7 22  1  4 24 26 10 10  4 11 11 23 10  7 22  1  4 24 17  0\n",
            "  7 22  1  4 24 26 10 10 19  5  8  7  2  0 18  5  2  5 35  1  9 23 10 15\n",
            "  3 13  0  4  8], shape=(101,), dtype=int64)\n"
          ],
          "name": "stdout"
        }
      ]
    },
    {
      "cell_type": "code",
      "metadata": {
        "id": "-ifkaYjvQ4OJ",
        "colab_type": "code",
        "colab": {}
      },
      "source": [
        "batch_size = 32\n",
        "dataset = dataset.shuffle(10000).batch(batch_size)"
      ],
      "execution_count": 25,
      "outputs": []
    },
    {
      "cell_type": "code",
      "metadata": {
        "id": "agJF1ciaU7gt",
        "colab_type": "code",
        "colab": {
          "base_uri": "https://localhost:8080/",
          "height": 156
        },
        "outputId": "88cc4999-4d65-4b0e-8811-eea11212785d"
      },
      "source": [
        "for item in dataset.take(1):\n",
        "  print(item)"
      ],
      "execution_count": 26,
      "outputs": [
        {
          "output_type": "stream",
          "text": [
            "tf.Tensor(\n",
            "[[ 6  5  7 ...  0 18  4]\n",
            " [ 6  1  0 ...  0 11  1]\n",
            " [11 12  0 ... 29 10 10]\n",
            " ...\n",
            " [ 3 27  0 ...  7  3 19]\n",
            " [18  3  9 ...  4  9  7]\n",
            " [14  7  0 ...  8  1  0]], shape=(32, 101), dtype=int64)\n"
          ],
          "name": "stdout"
        }
      ]
    },
    {
      "cell_type": "code",
      "metadata": {
        "id": "F9aSetRTVAQu",
        "colab_type": "code",
        "colab": {}
      },
      "source": [
        "dataset = dataset.map(lambda windows: (windows[:, :-1], windows[:, 1:]))"
      ],
      "execution_count": 27,
      "outputs": []
    },
    {
      "cell_type": "code",
      "metadata": {
        "id": "60E4jCWeVjHx",
        "colab_type": "code",
        "colab": {
          "base_uri": "https://localhost:8080/",
          "height": 278
        },
        "outputId": "ba6ffae2-801e-40ed-fed2-b91840b552d0"
      },
      "source": [
        "for item in dataset.take(1):\n",
        "  print(item)"
      ],
      "execution_count": 28,
      "outputs": [
        {
          "output_type": "stream",
          "text": [
            "(<tf.Tensor: shape=(32, 100), dtype=int64, numpy=\n",
            "array([[13,  0,  2, ...,  4, 14,  5],\n",
            "       [ 0,  9,  1, ...,  9,  1,  9],\n",
            "       [ 3,  0,  2, ...,  0,  3, 13],\n",
            "       ...,\n",
            "       [19,  5,  9, ...,  8,  1,  0],\n",
            "       [ 0, 18,  5, ...,  0, 20,  3],\n",
            "       [ 6,  5,  7, ...,  2,  6,  5]])>, <tf.Tensor: shape=(32, 100), dtype=int64, numpy=\n",
            "array([[ 0,  2,  6, ..., 14,  5,  9],\n",
            "       [ 9,  1,  5, ...,  1,  9,  5],\n",
            "       [ 0,  2,  6, ...,  3, 13,  8],\n",
            "       ...,\n",
            "       [ 5,  9, 12, ...,  1,  0, 13],\n",
            "       [18,  5,  2, ..., 20,  3,  3],\n",
            "       [ 5,  7,  0, ...,  6,  5,  9]])>)\n"
          ],
          "name": "stdout"
        }
      ]
    },
    {
      "cell_type": "code",
      "metadata": {
        "id": "pk4ChNZvVrCf",
        "colab_type": "code",
        "colab": {}
      },
      "source": [
        "dataset = dataset.map(\n",
        "    lambda X_batch, Y_batch: (tf.one_hot(X_batch, depth=max_id), Y_batch))"
      ],
      "execution_count": 29,
      "outputs": []
    },
    {
      "cell_type": "code",
      "metadata": {
        "id": "qIVLAxOhZ-2T",
        "colab_type": "code",
        "colab": {
          "base_uri": "https://localhost:8080/",
          "height": 1000
        },
        "outputId": "ac225892-ec17-44cd-b378-bc5b7c6cc408"
      },
      "source": [
        "for item in dataset.take(1):\n",
        "  print(item)"
      ],
      "execution_count": 30,
      "outputs": [
        {
          "output_type": "stream",
          "text": [
            "(<tf.Tensor: shape=(32, 100, 39), dtype=float32, numpy=\n",
            "array([[[0., 0., 0., ..., 0., 0., 0.],\n",
            "        [0., 0., 0., ..., 0., 0., 0.],\n",
            "        [0., 0., 0., ..., 0., 0., 0.],\n",
            "        ...,\n",
            "        [1., 0., 0., ..., 0., 0., 0.],\n",
            "        [0., 0., 1., ..., 0., 0., 0.],\n",
            "        [0., 0., 0., ..., 0., 0., 0.]],\n",
            "\n",
            "       [[0., 0., 1., ..., 0., 0., 0.],\n",
            "        [0., 1., 0., ..., 0., 0., 0.],\n",
            "        [0., 0., 0., ..., 0., 0., 0.],\n",
            "        ...,\n",
            "        [0., 0., 0., ..., 0., 0., 0.],\n",
            "        [1., 0., 0., ..., 0., 0., 0.],\n",
            "        [0., 0., 0., ..., 0., 0., 0.]],\n",
            "\n",
            "       [[0., 0., 0., ..., 0., 0., 0.],\n",
            "        [0., 0., 0., ..., 0., 0., 0.],\n",
            "        [0., 0., 0., ..., 0., 0., 0.],\n",
            "        ...,\n",
            "        [0., 0., 0., ..., 0., 0., 0.],\n",
            "        [1., 0., 0., ..., 0., 0., 0.],\n",
            "        [0., 0., 0., ..., 0., 0., 0.]],\n",
            "\n",
            "       ...,\n",
            "\n",
            "       [[0., 0., 0., ..., 0., 0., 0.],\n",
            "        [0., 0., 0., ..., 0., 0., 0.],\n",
            "        [0., 1., 0., ..., 0., 0., 0.],\n",
            "        ...,\n",
            "        [0., 0., 0., ..., 0., 0., 0.],\n",
            "        [0., 0., 0., ..., 0., 0., 0.],\n",
            "        [1., 0., 0., ..., 0., 0., 0.]],\n",
            "\n",
            "       [[1., 0., 0., ..., 0., 0., 0.],\n",
            "        [0., 0., 0., ..., 0., 0., 0.],\n",
            "        [0., 0., 0., ..., 0., 0., 0.],\n",
            "        ...,\n",
            "        [0., 0., 1., ..., 0., 0., 0.],\n",
            "        [0., 0., 0., ..., 0., 0., 0.],\n",
            "        [0., 0., 0., ..., 0., 0., 0.]],\n",
            "\n",
            "       [[0., 0., 0., ..., 0., 0., 0.],\n",
            "        [0., 1., 0., ..., 0., 0., 0.],\n",
            "        [1., 0., 0., ..., 0., 0., 0.],\n",
            "        ...,\n",
            "        [0., 0., 0., ..., 0., 0., 0.],\n",
            "        [0., 0., 0., ..., 0., 0., 0.],\n",
            "        [0., 0., 0., ..., 0., 0., 0.]]], dtype=float32)>, <tf.Tensor: shape=(32, 100), dtype=int64, numpy=\n",
            "array([[10, 19,  5, ...,  2,  6,  1],\n",
            "       [ 1,  9, 18, ...,  0, 14,  4],\n",
            "       [ 4,  5,  9, ...,  0, 20,  1],\n",
            "       ...,\n",
            "       [22,  1,  4, ..., 20,  0,  2],\n",
            "       [20,  4,  5, ...,  6,  5,  7],\n",
            "       [ 1,  0,  7, ...,  9, 19,  1]])>)\n"
          ],
          "name": "stdout"
        }
      ]
    },
    {
      "cell_type": "code",
      "metadata": {
        "id": "Od9fo0flaUKR",
        "colab_type": "code",
        "colab": {}
      },
      "source": [
        "dataset = dataset.prefetch(1)"
      ],
      "execution_count": 31,
      "outputs": []
    },
    {
      "cell_type": "code",
      "metadata": {
        "id": "Khe-73wvah8f",
        "colab_type": "code",
        "colab": {
          "base_uri": "https://localhost:8080/",
          "height": 72
        },
        "outputId": "e3a0bb8f-9064-427e-83ad-f367b40ab4e0"
      },
      "source": [
        "model = keras.models.Sequential([\n",
        "    keras.layers.GRU(128, return_sequences=True, input_shape=[None, max_id],\n",
        "                     # no dropout in stateful RNN (https://github.com/ageron/handson-ml2/issues/32)\n",
        "                      dropout=0.2, recurrent_dropout=0.2,\n",
        "                     ),\n",
        "    keras.layers.GRU(128, return_sequences=True,\n",
        "                      dropout=0.2, recurrent_dropout=0.2\n",
        "                    ),\n",
        "    keras.layers.TimeDistributed(keras.layers.Dense(max_id,\n",
        "                                                    activation=\"softmax\"))\n",
        "])\n"
      ],
      "execution_count": 32,
      "outputs": [
        {
          "output_type": "stream",
          "text": [
            "WARNING:tensorflow:Layer gru will not use cuDNN kernel since it doesn't meet the cuDNN kernel criteria. It will use generic GPU kernel as fallback when running on GPU\n",
            "WARNING:tensorflow:Layer gru_1 will not use cuDNN kernel since it doesn't meet the cuDNN kernel criteria. It will use generic GPU kernel as fallback when running on GPU\n"
          ],
          "name": "stdout"
        }
      ]
    },
    {
      "cell_type": "code",
      "metadata": {
        "id": "sRPY0xZCfeqv",
        "colab_type": "code",
        "colab": {}
      },
      "source": [
        "model.compile(loss=\"sparse_categorical_crossentropy\", optimizer=\"adam\")\n"
      ],
      "execution_count": 33,
      "outputs": []
    },
    {
      "cell_type": "code",
      "metadata": {
        "id": "1p906kmrgD3w",
        "colab_type": "code",
        "colab": {}
      },
      "source": [
        "#history = model.fit(dataset,  steps_per_epoch=train_size // batch_size,\n",
        "#                    epochs=5)"
      ],
      "execution_count": 34,
      "outputs": []
    },
    {
      "cell_type": "code",
      "metadata": {
        "id": "st58f6kNWoCe",
        "colab_type": "code",
        "colab": {}
      },
      "source": [
        "tf.random.set_seed(42)\n",
        "batch_size = 1\n",
        "\n",
        "dataset = tf.data.Dataset.from_tensor_slices(encoded[:train_size])\n",
        "dataset = dataset.window(window_length, shift=n_steps, drop_remainder=True)\n",
        "dataset = dataset.flat_map(lambda window: window.batch(window_length))\n",
        "dataset = dataset.repeat().batch(1)\n",
        "dataset = dataset.map(lambda windows: (windows[:, :-1], windows[:, 1:]))\n",
        "dataset = dataset.map(\n",
        "    lambda X_batch, Y_batch: (tf.one_hot(X_batch, depth=max_id), Y_batch))\n",
        "dataset = dataset.prefetch(1)\n"
      ],
      "execution_count": 35,
      "outputs": []
    },
    {
      "cell_type": "code",
      "metadata": {
        "id": "bHcHLcloWrp2",
        "colab_type": "code",
        "colab": {
          "base_uri": "https://localhost:8080/",
          "height": 34
        },
        "outputId": "a8f75207-a820-455c-ee26-84aa43c8c09e"
      },
      "source": [
        "n_steps"
      ],
      "execution_count": 36,
      "outputs": [
        {
          "output_type": "execute_result",
          "data": {
            "text/plain": [
              "100"
            ]
          },
          "metadata": {
            "tags": []
          },
          "execution_count": 36
        }
      ]
    },
    {
      "cell_type": "code",
      "metadata": {
        "id": "TZnVHfkGXe4c",
        "colab_type": "code",
        "colab": {
          "base_uri": "https://localhost:8080/",
          "height": 72
        },
        "outputId": "88a653e1-5be4-4367-d250-18dcabd1b4c7"
      },
      "source": [
        "model = keras.models.Sequential([\n",
        "    keras.layers.GRU(128, return_sequences=True, stateful=True,\n",
        "                     dropout=0.2, recurrent_dropout=0.2,\n",
        "                     batch_input_shape=[batch_size, None, max_id]),\n",
        "    keras.layers.GRU(128, return_sequences=True, stateful=True,\n",
        "                     dropout=0.2, recurrent_dropout=0.2),\n",
        "    keras.layers.TimeDistributed(keras.layers.Dense(max_id,\n",
        "                                                    activation=\"softmax\"))\n",
        "])"
      ],
      "execution_count": 37,
      "outputs": [
        {
          "output_type": "stream",
          "text": [
            "WARNING:tensorflow:Layer gru_2 will not use cuDNN kernel since it doesn't meet the cuDNN kernel criteria. It will use generic GPU kernel as fallback when running on GPU\n",
            "WARNING:tensorflow:Layer gru_3 will not use cuDNN kernel since it doesn't meet the cuDNN kernel criteria. It will use generic GPU kernel as fallback when running on GPU\n"
          ],
          "name": "stdout"
        }
      ]
    },
    {
      "cell_type": "code",
      "metadata": {
        "id": "Xq32WTctbwWO",
        "colab_type": "code",
        "colab": {}
      },
      "source": [
        "class ResetStatesCallback(keras.callbacks.Callback):\n",
        "  def on_epoch_begin(self, epoch, logs):\n",
        "    self.model.reset_states()"
      ],
      "execution_count": 38,
      "outputs": []
    },
    {
      "cell_type": "code",
      "metadata": {
        "id": "gliHWqSCb4lN",
        "colab_type": "code",
        "colab": {}
      },
      "source": [
        "#model.compile(loss=\"sparse_categorical_crossentropy\", optimizer=\"adam\")\n",
        "#steps_per_epoch = train_size // batch_size // n_steps\n",
        "#model.fit(dataset, steps_per_epoch=steps_per_epoch, epochs=50,\n",
        "#                   callbacks=[ResetStatesCallback()])\n"
      ],
      "execution_count": 39,
      "outputs": []
    },
    {
      "cell_type": "code",
      "metadata": {
        "id": "XgUhVKfPb9LH",
        "colab_type": "code",
        "colab": {}
      },
      "source": [
        "# Sentiment Analysis"
      ],
      "execution_count": 40,
      "outputs": []
    },
    {
      "cell_type": "code",
      "metadata": {
        "id": "zfWpSGVyb-iU",
        "colab_type": "code",
        "colab": {
          "base_uri": "https://localhost:8080/",
          "height": 52
        },
        "outputId": "abb69404-168e-42dd-83bd-8bce5fb0a103"
      },
      "source": [
        "(X_train, y_train), (X_test, y_test) = keras.datasets.imdb.load_data()"
      ],
      "execution_count": 41,
      "outputs": [
        {
          "output_type": "stream",
          "text": [
            "Downloading data from https://storage.googleapis.com/tensorflow/tf-keras-datasets/imdb.npz\n",
            "17465344/17464789 [==============================] - 0s 0us/step\n"
          ],
          "name": "stdout"
        }
      ]
    },
    {
      "cell_type": "code",
      "metadata": {
        "id": "gMXcXwUjc2Ue",
        "colab_type": "code",
        "colab": {
          "base_uri": "https://localhost:8080/",
          "height": 34
        },
        "outputId": "f60445cd-77ce-481c-a80d-b1c69a1a5a6c"
      },
      "source": [
        "X_train[0][:10]"
      ],
      "execution_count": 42,
      "outputs": [
        {
          "output_type": "execute_result",
          "data": {
            "text/plain": [
              "[1, 14, 22, 16, 43, 530, 973, 1622, 1385, 65]"
            ]
          },
          "metadata": {
            "tags": []
          },
          "execution_count": 42
        }
      ]
    },
    {
      "cell_type": "code",
      "metadata": {
        "id": "mquvdRH5c4w1",
        "colab_type": "code",
        "colab": {
          "base_uri": "https://localhost:8080/",
          "height": 52
        },
        "outputId": "1c3ffbde-267d-4fdf-f560-5de280d46f25"
      },
      "source": [
        "word_index = keras.datasets.imdb.get_word_index()"
      ],
      "execution_count": 43,
      "outputs": [
        {
          "output_type": "stream",
          "text": [
            "Downloading data from https://storage.googleapis.com/tensorflow/tf-keras-datasets/imdb_word_index.json\n",
            "1646592/1641221 [==============================] - 0s 0us/step\n"
          ],
          "name": "stdout"
        }
      ]
    },
    {
      "cell_type": "code",
      "metadata": {
        "id": "V4O4j9OVdrJV",
        "colab_type": "code",
        "colab": {}
      },
      "source": [
        "id_to_word = {id_ + 3: word for word, id_ in word_index.items()}"
      ],
      "execution_count": 44,
      "outputs": []
    },
    {
      "cell_type": "code",
      "metadata": {
        "id": "3_g3dah9eu9d",
        "colab_type": "code",
        "colab": {}
      },
      "source": [
        "for id_, token in enumerate((\"<pad>\", \"<sos>\", \"<unk>\")):\n",
        "  id_to_word[id_] = token"
      ],
      "execution_count": 45,
      "outputs": []
    },
    {
      "cell_type": "code",
      "metadata": {
        "id": "zyMJ9Cbvg51-",
        "colab_type": "code",
        "colab": {
          "base_uri": "https://localhost:8080/",
          "height": 36
        },
        "outputId": "e98abb1f-dad4-4d88-a95b-e54a8a11bf75"
      },
      "source": [
        "\" \".join([id_to_word[id_] for id_ in X_train[0][:10]])"
      ],
      "execution_count": 46,
      "outputs": [
        {
          "output_type": "execute_result",
          "data": {
            "application/vnd.google.colaboratory.intrinsic": {
              "type": "string"
            },
            "text/plain": [
              "'<sos> this film was just brilliant casting location scenery story'"
            ]
          },
          "metadata": {
            "tags": []
          },
          "execution_count": 46
        }
      ]
    },
    {
      "cell_type": "code",
      "metadata": {
        "id": "izd35qkEhEgS",
        "colab_type": "code",
        "colab": {
          "base_uri": "https://localhost:8080/",
          "height": 353,
          "referenced_widgets": [
            "9ac6cf7e024e48f78ca10d3a00b1f8c8",
            "efefbe9239a34057b2be40cf78e52b9e",
            "262578fcef6a4f8db86876d5b973e41f",
            "062ede3f2045462481cec64010dd1119",
            "0878e011e59b42e290750934f356544b",
            "f8d76529b76f4869b823893dbe0e6e45",
            "4118caca377c47c7a9e24de3433293d6",
            "f180c5a0ca054028856da311945a17ab",
            "6d4396b2e7a645269ade700c23a27343",
            "ab40f7fb2d0240e08659800c7ad3456f",
            "8031c4446ea04cb7b00f49572573123c",
            "c106ba7e7f1d4b248a4f7c1715d0c324",
            "94e0f6cb9f7941878539d84f962a216d",
            "cbf610837663410891e80df65157ba6b",
            "e3d2c6a913ec4f959f18deef74ed9fbd",
            "4912833c899040e0b1d5dc99a491455f",
            "895114c67b884271ad1673c24258cc00",
            "8372552215604f28a23c0eccd88abbe3",
            "4fb0bb230f714f84826de15d30741e54",
            "d8e1e124cccf4c979c14f7f0d07f5e16",
            "60694a0da43147408f6901dfafd1cd2e",
            "d27da7207c3748a4b6a4095585966c06",
            "1d9d9ad1936d4dc3be5987b75437499d",
            "521b988b90f645d99ef0788a4dc2c3b1",
            "8e3045afd8144784aaf00a504b4b5a71",
            "94f6b40951ec46c2a279f4fe7d8e8cbe",
            "0689468ff580448cafe5f4d9372805a8",
            "18eb66d83d6d4112916b43603ac55476",
            "511931d8c47c4d2cbb44d6159a3bf5aa",
            "028d079b798f4e728825ce593a0b9527",
            "d41d77c6dda5462dad96cc6006f92fd9",
            "5c20ec98c3934ae0b5dfe87938a745e3",
            "6f07396ea5eb48deb379589baec82328",
            "6a1cc03a24cc4c8ab1dc58325d5150be",
            "35bd1257919842fc9f6164b66463c5ea",
            "c819340979a5471db53d56906b21f22c",
            "bb3ad6e24b90415ab4ad91c2ea28d341",
            "97e622551a294c3a924c587ab3ea1245",
            "8e1cd27f6e7e435eaf9fdc810a0992a6",
            "e0ba84360b7c437296fd3f9ac9f5fae6",
            "0e28f76f838b44e0a25072fd316371ce",
            "fb3de03d6c414283a253a75ab3937e66",
            "842812cbe16c4d979f528cfc32545a09",
            "a6773ef2d2cc476fab42928cb5c59412",
            "5d969fcb6da84e6faf5951c646da098e",
            "5f93951f23a8423487ed99f9bbd5c5f2",
            "de02fae6f3134ad084cfd711ed6f3486",
            "7895badd610e4ff49ceda796e3851b9b",
            "57c25cf1ffde47398645a8ac5505fc81",
            "d9a1199fc90e4720b1c2b4c488822530",
            "15d45ea214494f5488d41d2cf3db9ac5",
            "4d59bd95f01b4b12a3133a07660d870a",
            "5d690572edd541ae8c7ee8b1e3b5c83c",
            "eb28f85c50c640caa1f446a52e9328a2",
            "57ab307baabf4fe4a170ba7d5bd02a45",
            "be4019ee0e1e4b13a460fad6cded60c9",
            "48bf219e90fe4adc9d1ec73029f8e18d",
            "b194af9bdefc4aeba06183c4590000c8",
            "a70a3d915479448b845aa478d6cb5ffb",
            "c74a3a5bc028412792c0b8f3017373ae",
            "00b669ac9d2a480b8fb72f3afe6d1ac9",
            "39914fbc3a6245eea12292b7e988de9a",
            "64613f510c4f4ee6a9f24c2153b0e31f",
            "1995eb0e8be045549dddf6e126368844"
          ]
        },
        "outputId": "c7ba035f-6c75-435f-98f0-804b64c1e6be"
      },
      "source": [
        "import tensorflow_datasets as tfds\n",
        "\n",
        "datasets, info = tfds.load(\"imdb_reviews\", as_supervised=True, with_info=True)\n",
        "train_size = info.splits[\"train\"].num_examples"
      ],
      "execution_count": 47,
      "outputs": [
        {
          "output_type": "stream",
          "text": [
            "\u001b[1mDownloading and preparing dataset imdb_reviews/plain_text/1.0.0 (download: 80.23 MiB, generated: Unknown size, total: 80.23 MiB) to /root/tensorflow_datasets/imdb_reviews/plain_text/1.0.0...\u001b[0m\n"
          ],
          "name": "stdout"
        },
        {
          "output_type": "display_data",
          "data": {
            "application/vnd.jupyter.widget-view+json": {
              "model_id": "9ac6cf7e024e48f78ca10d3a00b1f8c8",
              "version_minor": 0,
              "version_major": 2
            },
            "text/plain": [
              "HBox(children=(FloatProgress(value=1.0, bar_style='info', description='Dl Completed...', max=1.0, style=Progre…"
            ]
          },
          "metadata": {
            "tags": []
          }
        },
        {
          "output_type": "display_data",
          "data": {
            "application/vnd.jupyter.widget-view+json": {
              "model_id": "6d4396b2e7a645269ade700c23a27343",
              "version_minor": 0,
              "version_major": 2
            },
            "text/plain": [
              "HBox(children=(FloatProgress(value=1.0, bar_style='info', description='Dl Size...', max=1.0, style=ProgressSty…"
            ]
          },
          "metadata": {
            "tags": []
          }
        },
        {
          "output_type": "stream",
          "text": [
            "\n",
            "\n",
            "\n",
            "\n"
          ],
          "name": "stdout"
        },
        {
          "output_type": "display_data",
          "data": {
            "application/vnd.jupyter.widget-view+json": {
              "model_id": "895114c67b884271ad1673c24258cc00",
              "version_minor": 0,
              "version_major": 2
            },
            "text/plain": [
              "HBox(children=(FloatProgress(value=1.0, bar_style='info', max=1.0), HTML(value='')))"
            ]
          },
          "metadata": {
            "tags": []
          }
        },
        {
          "output_type": "stream",
          "text": [
            "\rShuffling and writing examples to /root/tensorflow_datasets/imdb_reviews/plain_text/1.0.0.incompleteCA66SV/imdb_reviews-train.tfrecord\n"
          ],
          "name": "stdout"
        },
        {
          "output_type": "display_data",
          "data": {
            "application/vnd.jupyter.widget-view+json": {
              "model_id": "8e3045afd8144784aaf00a504b4b5a71",
              "version_minor": 0,
              "version_major": 2
            },
            "text/plain": [
              "HBox(children=(FloatProgress(value=0.0, max=25000.0), HTML(value='')))"
            ]
          },
          "metadata": {
            "tags": []
          }
        },
        {
          "output_type": "stream",
          "text": [
            "\r"
          ],
          "name": "stdout"
        },
        {
          "output_type": "display_data",
          "data": {
            "application/vnd.jupyter.widget-view+json": {
              "model_id": "6f07396ea5eb48deb379589baec82328",
              "version_minor": 0,
              "version_major": 2
            },
            "text/plain": [
              "HBox(children=(FloatProgress(value=1.0, bar_style='info', max=1.0), HTML(value='')))"
            ]
          },
          "metadata": {
            "tags": []
          }
        },
        {
          "output_type": "stream",
          "text": [
            "\rShuffling and writing examples to /root/tensorflow_datasets/imdb_reviews/plain_text/1.0.0.incompleteCA66SV/imdb_reviews-test.tfrecord\n"
          ],
          "name": "stdout"
        },
        {
          "output_type": "display_data",
          "data": {
            "application/vnd.jupyter.widget-view+json": {
              "model_id": "0e28f76f838b44e0a25072fd316371ce",
              "version_minor": 0,
              "version_major": 2
            },
            "text/plain": [
              "HBox(children=(FloatProgress(value=0.0, max=25000.0), HTML(value='')))"
            ]
          },
          "metadata": {
            "tags": []
          }
        },
        {
          "output_type": "stream",
          "text": [
            "\r"
          ],
          "name": "stdout"
        },
        {
          "output_type": "display_data",
          "data": {
            "application/vnd.jupyter.widget-view+json": {
              "model_id": "57c25cf1ffde47398645a8ac5505fc81",
              "version_minor": 0,
              "version_major": 2
            },
            "text/plain": [
              "HBox(children=(FloatProgress(value=1.0, bar_style='info', max=1.0), HTML(value='')))"
            ]
          },
          "metadata": {
            "tags": []
          }
        },
        {
          "output_type": "stream",
          "text": [
            "\rShuffling and writing examples to /root/tensorflow_datasets/imdb_reviews/plain_text/1.0.0.incompleteCA66SV/imdb_reviews-unsupervised.tfrecord\n"
          ],
          "name": "stdout"
        },
        {
          "output_type": "display_data",
          "data": {
            "application/vnd.jupyter.widget-view+json": {
              "model_id": "48bf219e90fe4adc9d1ec73029f8e18d",
              "version_minor": 0,
              "version_major": 2
            },
            "text/plain": [
              "HBox(children=(FloatProgress(value=0.0, max=50000.0), HTML(value='')))"
            ]
          },
          "metadata": {
            "tags": []
          }
        },
        {
          "output_type": "stream",
          "text": [
            "\u001b[1mDataset imdb_reviews downloaded and prepared to /root/tensorflow_datasets/imdb_reviews/plain_text/1.0.0. Subsequent calls will reuse this data.\u001b[0m\n",
            "\r"
          ],
          "name": "stdout"
        }
      ]
    },
    {
      "cell_type": "code",
      "metadata": {
        "id": "fuErkCgYFTgA",
        "colab_type": "code",
        "colab": {
          "base_uri": "https://localhost:8080/",
          "height": 69
        },
        "outputId": "1ed05f6c-ca85-400f-e0b2-99caba0a4cfb"
      },
      "source": [
        "datasets"
      ],
      "execution_count": 48,
      "outputs": [
        {
          "output_type": "execute_result",
          "data": {
            "text/plain": [
              "{'test': <DatasetV1Adapter shapes: ((), ()), types: (tf.string, tf.int64)>,\n",
              " 'train': <DatasetV1Adapter shapes: ((), ()), types: (tf.string, tf.int64)>,\n",
              " 'unsupervised': <DatasetV1Adapter shapes: ((), ()), types: (tf.string, tf.int64)>}"
            ]
          },
          "metadata": {
            "tags": []
          },
          "execution_count": 48
        }
      ]
    },
    {
      "cell_type": "code",
      "metadata": {
        "id": "Q4_rzXc1FmZ2",
        "colab_type": "code",
        "colab": {
          "base_uri": "https://localhost:8080/",
          "height": 36
        },
        "outputId": "439af9df-4dce-4e51-d9b9-a40ab8e513f7"
      },
      "source": [
        "info.name"
      ],
      "execution_count": 49,
      "outputs": [
        {
          "output_type": "execute_result",
          "data": {
            "application/vnd.google.colaboratory.intrinsic": {
              "type": "string"
            },
            "text/plain": [
              "'imdb_reviews'"
            ]
          },
          "metadata": {
            "tags": []
          },
          "execution_count": 49
        }
      ]
    },
    {
      "cell_type": "code",
      "metadata": {
        "id": "npQPhrdg5EkH",
        "colab_type": "code",
        "colab": {
          "base_uri": "https://localhost:8080/",
          "height": 34
        },
        "outputId": "91346a0d-7662-432d-961d-16dca421296e"
      },
      "source": [
        "datasets.keys()"
      ],
      "execution_count": 50,
      "outputs": [
        {
          "output_type": "execute_result",
          "data": {
            "text/plain": [
              "dict_keys(['test', 'train', 'unsupervised'])"
            ]
          },
          "metadata": {
            "tags": []
          },
          "execution_count": 50
        }
      ]
    },
    {
      "cell_type": "code",
      "metadata": {
        "id": "frebC2AAjryi",
        "colab_type": "code",
        "colab": {
          "base_uri": "https://localhost:8080/",
          "height": 72
        },
        "outputId": "38ae82f8-e859-4982-ffac-3a42fb13e9d1"
      },
      "source": [
        "for item in datasets['test'].take(2):\n",
        "  print(item)"
      ],
      "execution_count": 51,
      "outputs": [
        {
          "output_type": "stream",
          "text": [
            "(<tf.Tensor: shape=(), dtype=string, numpy=b\"There are films that make careers. For George Romero, it was NIGHT OF THE LIVING DEAD; for Kevin Smith, CLERKS; for Robert Rodriguez, EL MARIACHI. Add to that list Onur Tukel's absolutely amazing DING-A-LING-LESS. Flawless film-making, and as assured and as professional as any of the aforementioned movies. I haven't laughed this hard since I saw THE FULL MONTY. (And, even then, I don't think I laughed quite this hard... So to speak.) Tukel's talent is considerable: DING-A-LING-LESS is so chock full of double entendres that one would have to sit down with a copy of this script and do a line-by-line examination of it to fully appreciate the, uh, breadth and width of it. Every shot is beautifully composed (a clear sign of a sure-handed director), and the performances all around are solid (there's none of the over-the-top scenery chewing one might've expected from a film like this). DING-A-LING-LESS is a film whose time has come.\">, <tf.Tensor: shape=(), dtype=int64, numpy=1>)\n",
            "(<tf.Tensor: shape=(), dtype=string, numpy=b\"A blackly comic tale of a down-trodden priest, Nazarin showcases the economy that Luis Bunuel was able to achieve in being able to tell a deeply humanist fable with a minimum of fuss. As an output from his Mexican era of film making, it was an invaluable talent to possess, with little money and extremely tight schedules. Nazarin, however, surpasses many of Bunuel's previous Mexican films in terms of the acting (Francisco Rabal is excellent), narrative and theme.<br /><br />The theme, interestingly, is something that was explored again in Viridiana, made three years later in Spain. It concerns the individual's struggle for humanity and altruism amongst a society that rejects any notion of virtue. Father Nazarin, however, is portrayed more sympathetically than Sister Viridiana. Whereas the latter seems to choose charity because she wishes to atone for her (perceived) sins, Nazarin's whole existence and reason for being seems to be to help others, whether they (or we) like it or not. The film's last scenes, in which he casts doubt on his behaviour and, in a split second, has to choose between the life he has been leading or the conventional life that is expected of a priest, are so emotional because they concern his moral integrity and we are never quite sure whether it remains intact or not.<br /><br />This is a remarkable film and I would urge anyone interested in classic cinema to seek it out. It is one of Bunuel's most moving films, and encapsulates many of his obsessions: frustrated desire, mad love, religious hypocrisy etc. In my view 'Nazarin' is second only to 'The Exterminating Angel', in terms of his Mexican movies, and is certainly near the top of the list of Bunuel's total filmic output.\">, <tf.Tensor: shape=(), dtype=int64, numpy=1>)\n"
          ],
          "name": "stdout"
        }
      ]
    },
    {
      "cell_type": "code",
      "metadata": {
        "id": "-wXvkz8V5V9a",
        "colab_type": "code",
        "colab": {
          "base_uri": "https://localhost:8080/",
          "height": 72
        },
        "outputId": "9667cb85-c3ec-4a8c-9f7a-f735699e75f8"
      },
      "source": [
        "for item in datasets['unsupervised'].take(2):\n",
        "  print(item[0])"
      ],
      "execution_count": 52,
      "outputs": [
        {
          "output_type": "stream",
          "text": [
            "tf.Tensor(b\"SPOILER - Now knowing the ending I find it so clever that the whole movie takes place in a motel and each character has a different room. Even sane people have many different aspects to their personality, but they don't let them become dominant -- they are controlled. Malcolm's various personalities and needs were personified in each character. The prostitute mother (Amanda Peet), the part of him who hated her for being a prostitute (Larry), the loving mother he wish he had, the loving father he wish he had, the selfish part of himself (actress), the violent part of his personality (Ray Liotta and Busey), the irrational emotions he feels and his need to be loved (Ginnie) and his attempts to control those feelings (Lou), the hurt little boy who sees far too many traumatic things in his life, and of course, John Cusack who seems to represent Malcolm himself trying to analyze and understand all the craziness in his mind, tries to follow the rules (accepting responsibility for the car accident), help others (giving Amanda Peet a ride, and stitching up the mother). Very cleverly done!\", shape=(), dtype=string)\n",
            "tf.Tensor(b'I knew about this film long before I saw it. In fact, I had to buy the DVD in order to see it because no video store carried it. I didn\\'t mind spending the $12 to buy it used because I collect off the wall movies. The new limited edition double DVD has great sound and visually not bad. I found myself laughing much more then<br /><br />jolting in fear, although there were a few scenes were I was startled.<br /><br />If you enjoy off the wall 70s sci-fi/horror movies, you probably will eat this one up. I was a little dissapointed at how abrubtly it ended. I wanted the movie to keep going, see how things pan out. The DVD revolution has brought so many<br /><br />lost clasics back to life, it is truly wonderful. Blue Sunshine is one of those lost \"missing links\" of the cinema. Enjoy!', shape=(), dtype=string)\n"
          ],
          "name": "stdout"
        }
      ]
    },
    {
      "cell_type": "code",
      "metadata": {
        "id": "DzPJFPXpkTO9",
        "colab_type": "code",
        "colab": {}
      },
      "source": [
        "train_size = info.splits[\"train\"].num_examples\n",
        "test_size = info.splits[\"test\"].num_examples"
      ],
      "execution_count": 53,
      "outputs": []
    },
    {
      "cell_type": "code",
      "metadata": {
        "id": "Aqsa6pPUkdSy",
        "colab_type": "code",
        "colab": {
          "base_uri": "https://localhost:8080/",
          "height": 69
        },
        "outputId": "7baff3da-8332-497e-86bd-e0f748c4a1c3"
      },
      "source": [
        "info.splits"
      ],
      "execution_count": 54,
      "outputs": [
        {
          "output_type": "execute_result",
          "data": {
            "text/plain": [
              "{'test': <tfds.core.SplitInfo num_examples=25000>,\n",
              " 'train': <tfds.core.SplitInfo num_examples=25000>,\n",
              " 'unsupervised': <tfds.core.SplitInfo num_examples=50000>}"
            ]
          },
          "metadata": {
            "tags": []
          },
          "execution_count": 54
        }
      ]
    },
    {
      "cell_type": "code",
      "metadata": {
        "id": "LZ4_Tox87d6o",
        "colab_type": "code",
        "colab": {
          "base_uri": "https://localhost:8080/",
          "height": 141
        },
        "outputId": "b218870a-9509-49fa-aef2-2f23441418b7"
      },
      "source": [
        "for X_batch, y_batch in datasets[\"train\"].batch(2).take(1):\n",
        "    for review, label in zip(X_batch.numpy(), y_batch.numpy()):\n",
        "        print(\"Review:\", review.decode(\"utf-8\")[:200], \"...\")\n",
        "        print(\"Label:\", label, \"= Positive\" if label else \"= Negative\")\n",
        "        print()\n",
        "\n"
      ],
      "execution_count": 55,
      "outputs": [
        {
          "output_type": "stream",
          "text": [
            "Review: This was an absolutely terrible movie. Don't be lured in by Christopher Walken or Michael Ironside. Both are great actors, but this must simply be their worst role in history. Even their great acting  ...\n",
            "Label: 0 = Negative\n",
            "\n",
            "Review: I have been known to fall asleep during films, but this is usually due to a combination of things including, really tired, being warm and comfortable on the sette and having just eaten a lot. However  ...\n",
            "Label: 0 = Negative\n",
            "\n"
          ],
          "name": "stdout"
        }
      ]
    },
    {
      "cell_type": "code",
      "metadata": {
        "id": "fdNZWZxJDc64",
        "colab_type": "code",
        "colab": {}
      },
      "source": [
        ""
      ],
      "execution_count": 55,
      "outputs": []
    },
    {
      "cell_type": "code",
      "metadata": {
        "id": "oKUwiURjNZgL",
        "colab_type": "code",
        "colab": {
          "base_uri": "https://localhost:8080/",
          "height": 106
        },
        "outputId": "b113633e-321c-4c17-e4ed-b0e357ccd14c"
      },
      "source": [
        "for item in datasets[\"train\"].batch(2).take(1):\n",
        "  print(item)"
      ],
      "execution_count": 56,
      "outputs": [
        {
          "output_type": "stream",
          "text": [
            "(<tf.Tensor: shape=(2,), dtype=string, numpy=\n",
            "array([b\"This was an absolutely terrible movie. Don't be lured in by Christopher Walken or Michael Ironside. Both are great actors, but this must simply be their worst role in history. Even their great acting could not redeem this movie's ridiculous storyline. This movie is an early nineties US propaganda piece. The most pathetic scenes were those when the Columbian rebels were making their cases for revolutions. Maria Conchita Alonso appeared phony, and her pseudo-love affair with Walken was nothing but a pathetic emotional plug in a movie that was devoid of any real meaning. I am disappointed that there are movies like this, ruining actor's like Christopher Walken's good name. I could barely sit through it.\",\n",
            "       b'I have been known to fall asleep during films, but this is usually due to a combination of things including, really tired, being warm and comfortable on the sette and having just eaten a lot. However on this occasion I fell asleep because the film was rubbish. The plot development was constant. Constantly slow and boring. Things seemed to happen, but with no explanation of what was causing them or why. I admit, I may have missed part of the film, but i watched the majority of it and everything just seemed to happen of its own accord without any real concern for anything else. I cant recommend this film at all.'],\n",
            "      dtype=object)>, <tf.Tensor: shape=(2,), dtype=int64, numpy=array([0, 0])>)\n"
          ],
          "name": "stdout"
        }
      ]
    },
    {
      "cell_type": "code",
      "metadata": {
        "id": "q_c6OVQUMsXh",
        "colab_type": "code",
        "colab": {
          "base_uri": "https://localhost:8080/",
          "height": 34
        },
        "outputId": "27538921-c005-4572-be52-8b4d9cc2ab91"
      },
      "source": [
        "datasets[\"train\"]"
      ],
      "execution_count": 57,
      "outputs": [
        {
          "output_type": "execute_result",
          "data": {
            "text/plain": [
              "<DatasetV1Adapter shapes: ((), ()), types: (tf.string, tf.int64)>"
            ]
          },
          "metadata": {
            "tags": []
          },
          "execution_count": 57
        }
      ]
    },
    {
      "cell_type": "code",
      "metadata": {
        "id": "DGFCyZ4hCxY5",
        "colab_type": "code",
        "colab": {
          "base_uri": "https://localhost:8080/",
          "height": 34
        },
        "outputId": "cfe85f42-0b24-44b8-ed09-0decdeee2ee5"
      },
      "source": [
        "datasets[\"train\"]"
      ],
      "execution_count": 58,
      "outputs": [
        {
          "output_type": "execute_result",
          "data": {
            "text/plain": [
              "<DatasetV1Adapter shapes: ((), ()), types: (tf.string, tf.int64)>"
            ]
          },
          "metadata": {
            "tags": []
          },
          "execution_count": 58
        }
      ]
    },
    {
      "cell_type": "code",
      "metadata": {
        "id": "qb4j11fH_oyF",
        "colab_type": "code",
        "colab": {
          "base_uri": "https://localhost:8080/",
          "height": 72
        },
        "outputId": "f0629e9b-c7cf-434f-d39d-997e4aec8b61"
      },
      "source": [
        "for X_batch, y_batch in datasets[\"train\"].batch(2).take(1):\n",
        "    for review, label in zip(X_batch.numpy(), y_batch):\n",
        "        print(\"Review:\", review[:200])\n"
      ],
      "execution_count": 59,
      "outputs": [
        {
          "output_type": "stream",
          "text": [
            "Review: b\"This was an absolutely terrible movie. Don't be lured in by Christopher Walken or Michael Ironside. Both are great actors, but this must simply be their worst role in history. Even their great acting \"\n",
            "Review: b'I have been known to fall asleep during films, but this is usually due to a combination of things including, really tired, being warm and comfortable on the sette and having just eaten a lot. However '\n"
          ],
          "name": "stdout"
        }
      ]
    },
    {
      "cell_type": "code",
      "metadata": {
        "id": "uZ21mkcQAys8",
        "colab_type": "code",
        "colab": {
          "base_uri": "https://localhost:8080/",
          "height": 34
        },
        "outputId": "d10b4415-7f83-419c-eb77-13a662e7e71b"
      },
      "source": [
        "datasets[\"train\"]"
      ],
      "execution_count": 60,
      "outputs": [
        {
          "output_type": "execute_result",
          "data": {
            "text/plain": [
              "<DatasetV1Adapter shapes: ((), ()), types: (tf.string, tf.int64)>"
            ]
          },
          "metadata": {
            "tags": []
          },
          "execution_count": 60
        }
      ]
    },
    {
      "cell_type": "code",
      "metadata": {
        "id": "ig3G1s-CAOAj",
        "colab_type": "code",
        "colab": {}
      },
      "source": [
        "a = np.array([1,2,3,4])"
      ],
      "execution_count": 61,
      "outputs": []
    },
    {
      "cell_type": "code",
      "metadata": {
        "id": "nBoO6FeaBFXk",
        "colab_type": "code",
        "colab": {}
      },
      "source": [
        "at = tf.convert_to_tensor(a)"
      ],
      "execution_count": 62,
      "outputs": []
    },
    {
      "cell_type": "code",
      "metadata": {
        "id": "IKNmgu2GBNQp",
        "colab_type": "code",
        "colab": {}
      },
      "source": [
        "ats = tf.data.Dataset.from_tensor_slices(at)"
      ],
      "execution_count": 63,
      "outputs": []
    },
    {
      "cell_type": "code",
      "metadata": {
        "id": "P6cGTQMeBnZ3",
        "colab_type": "code",
        "colab": {}
      },
      "source": [
        "k = ats.batch(2)"
      ],
      "execution_count": 64,
      "outputs": []
    },
    {
      "cell_type": "code",
      "metadata": {
        "id": "7e5oXHjDBxbm",
        "colab_type": "code",
        "colab": {
          "base_uri": "https://localhost:8080/",
          "height": 52
        },
        "outputId": "5ecf0094-baca-4afe-e4d4-1e18585b6caa"
      },
      "source": [
        "for item in k:\n",
        "  print(item)"
      ],
      "execution_count": 65,
      "outputs": [
        {
          "output_type": "stream",
          "text": [
            "tf.Tensor([1 2], shape=(2,), dtype=int64)\n",
            "tf.Tensor([3 4], shape=(2,), dtype=int64)\n"
          ],
          "name": "stdout"
        }
      ]
    },
    {
      "cell_type": "code",
      "metadata": {
        "id": "JQOdQ7vaCKmx",
        "colab_type": "code",
        "colab": {
          "base_uri": "https://localhost:8080/",
          "height": 52
        },
        "outputId": "d2dad1f3-c558-4855-ba6d-0369efc60cff"
      },
      "source": [
        "for i,j in ([1,2],[2,3]):\n",
        "  print (i,j)"
      ],
      "execution_count": 66,
      "outputs": [
        {
          "output_type": "stream",
          "text": [
            "1 2\n",
            "2 3\n"
          ],
          "name": "stdout"
        }
      ]
    },
    {
      "cell_type": "code",
      "metadata": {
        "id": "jhGLWSnJ8A8n",
        "colab_type": "code",
        "colab": {
          "base_uri": "https://localhost:8080/",
          "height": 106
        },
        "outputId": "ccd7f0f8-c4c7-42c5-8fcc-e498763b5191"
      },
      "source": [
        "X_batch"
      ],
      "execution_count": 67,
      "outputs": [
        {
          "output_type": "execute_result",
          "data": {
            "text/plain": [
              "<tf.Tensor: shape=(2,), dtype=string, numpy=\n",
              "array([b\"This was an absolutely terrible movie. Don't be lured in by Christopher Walken or Michael Ironside. Both are great actors, but this must simply be their worst role in history. Even their great acting could not redeem this movie's ridiculous storyline. This movie is an early nineties US propaganda piece. The most pathetic scenes were those when the Columbian rebels were making their cases for revolutions. Maria Conchita Alonso appeared phony, and her pseudo-love affair with Walken was nothing but a pathetic emotional plug in a movie that was devoid of any real meaning. I am disappointed that there are movies like this, ruining actor's like Christopher Walken's good name. I could barely sit through it.\",\n",
              "       b'I have been known to fall asleep during films, but this is usually due to a combination of things including, really tired, being warm and comfortable on the sette and having just eaten a lot. However on this occasion I fell asleep because the film was rubbish. The plot development was constant. Constantly slow and boring. Things seemed to happen, but with no explanation of what was causing them or why. I admit, I may have missed part of the film, but i watched the majority of it and everything just seemed to happen of its own accord without any real concern for anything else. I cant recommend this film at all.'],\n",
              "      dtype=object)>"
            ]
          },
          "metadata": {
            "tags": []
          },
          "execution_count": 67
        }
      ]
    },
    {
      "cell_type": "code",
      "metadata": {
        "id": "-oeLGK9bkz8e",
        "colab_type": "code",
        "colab": {}
      },
      "source": [
        "def preprocess(X_batch, y_batch):\n",
        "    X_batch = tf.strings.substr(X_batch, 0, 300)\n",
        "    X_batch = tf.strings.regex_replace(X_batch, b\"<br\\\\s*/?>\", b\" \")\n",
        "    X_batch = tf.strings.regex_replace(X_batch, b\"[^a-zA-Z']\", b\" \")\n",
        "    X_batch = tf.strings.split(X_batch)\n",
        "    return X_batch.to_tensor(default_value=b\"<pad>\"), y_batch"
      ],
      "execution_count": 68,
      "outputs": []
    },
    {
      "cell_type": "code",
      "metadata": {
        "id": "uBtMMVM4aFFE",
        "colab_type": "code",
        "colab": {
          "base_uri": "https://localhost:8080/",
          "height": 89
        },
        "outputId": "24c027e8-ce34-48f9-f5f9-6acf477e94ae"
      },
      "source": [
        "for X_batch, y_batch in datasets[\"train\"].batch(2).take(1):\n",
        "  print(X_batch,y_batch)"
      ],
      "execution_count": 69,
      "outputs": [
        {
          "output_type": "stream",
          "text": [
            "tf.Tensor(\n",
            "[b\"This was an absolutely terrible movie. Don't be lured in by Christopher Walken or Michael Ironside. Both are great actors, but this must simply be their worst role in history. Even their great acting could not redeem this movie's ridiculous storyline. This movie is an early nineties US propaganda piece. The most pathetic scenes were those when the Columbian rebels were making their cases for revolutions. Maria Conchita Alonso appeared phony, and her pseudo-love affair with Walken was nothing but a pathetic emotional plug in a movie that was devoid of any real meaning. I am disappointed that there are movies like this, ruining actor's like Christopher Walken's good name. I could barely sit through it.\"\n",
            " b'I have been known to fall asleep during films, but this is usually due to a combination of things including, really tired, being warm and comfortable on the sette and having just eaten a lot. However on this occasion I fell asleep because the film was rubbish. The plot development was constant. Constantly slow and boring. Things seemed to happen, but with no explanation of what was causing them or why. I admit, I may have missed part of the film, but i watched the majority of it and everything just seemed to happen of its own accord without any real concern for anything else. I cant recommend this film at all.'], shape=(2,), dtype=string) tf.Tensor([0 0], shape=(2,), dtype=int64)\n"
          ],
          "name": "stdout"
        }
      ]
    },
    {
      "cell_type": "code",
      "metadata": {
        "id": "wcJ2rnmFa84Z",
        "colab_type": "code",
        "colab": {
          "base_uri": "https://localhost:8080/",
          "height": 106
        },
        "outputId": "e5c3b71f-0745-4437-b28d-2d5641b07e4c"
      },
      "source": [
        "X_batch"
      ],
      "execution_count": 70,
      "outputs": [
        {
          "output_type": "execute_result",
          "data": {
            "text/plain": [
              "<tf.Tensor: shape=(2,), dtype=string, numpy=\n",
              "array([b\"This was an absolutely terrible movie. Don't be lured in by Christopher Walken or Michael Ironside. Both are great actors, but this must simply be their worst role in history. Even their great acting could not redeem this movie's ridiculous storyline. This movie is an early nineties US propaganda piece. The most pathetic scenes were those when the Columbian rebels were making their cases for revolutions. Maria Conchita Alonso appeared phony, and her pseudo-love affair with Walken was nothing but a pathetic emotional plug in a movie that was devoid of any real meaning. I am disappointed that there are movies like this, ruining actor's like Christopher Walken's good name. I could barely sit through it.\",\n",
              "       b'I have been known to fall asleep during films, but this is usually due to a combination of things including, really tired, being warm and comfortable on the sette and having just eaten a lot. However on this occasion I fell asleep because the film was rubbish. The plot development was constant. Constantly slow and boring. Things seemed to happen, but with no explanation of what was causing them or why. I admit, I may have missed part of the film, but i watched the majority of it and everything just seemed to happen of its own accord without any real concern for anything else. I cant recommend this film at all.'],\n",
              "      dtype=object)>"
            ]
          },
          "metadata": {
            "tags": []
          },
          "execution_count": 70
        }
      ]
    },
    {
      "cell_type": "code",
      "metadata": {
        "id": "pohJUHKjbLU-",
        "colab_type": "code",
        "colab": {}
      },
      "source": [
        "X_batch1 = tf.strings.substr(X_batch, 0, 300)"
      ],
      "execution_count": 71,
      "outputs": []
    },
    {
      "cell_type": "code",
      "metadata": {
        "id": "Is3dZpwnbMyY",
        "colab_type": "code",
        "colab": {
          "base_uri": "https://localhost:8080/",
          "height": 106
        },
        "outputId": "c652dadd-2bce-407d-82c8-983832677982"
      },
      "source": [
        "X_batch1"
      ],
      "execution_count": 72,
      "outputs": [
        {
          "output_type": "execute_result",
          "data": {
            "text/plain": [
              "<tf.Tensor: shape=(2,), dtype=string, numpy=\n",
              "array([b\"This was an absolutely terrible movie. Don't be lured in by Christopher Walken or Michael Ironside. Both are great actors, but this must simply be their worst role in history. Even their great acting could not redeem this movie's ridiculous storyline. This movie is an early nineties US propaganda pi\",\n",
              "       b'I have been known to fall asleep during films, but this is usually due to a combination of things including, really tired, being warm and comfortable on the sette and having just eaten a lot. However on this occasion I fell asleep because the film was rubbish. The plot development was constant. Cons'],\n",
              "      dtype=object)>"
            ]
          },
          "metadata": {
            "tags": []
          },
          "execution_count": 72
        }
      ]
    },
    {
      "cell_type": "code",
      "metadata": {
        "id": "8VhpOlYZbUPJ",
        "colab_type": "code",
        "colab": {}
      },
      "source": [
        "X_batch2 = tf.strings.regex_replace(X_batch1, b\"<br\\\\s*/?>\", b\" \")"
      ],
      "execution_count": 73,
      "outputs": []
    },
    {
      "cell_type": "code",
      "metadata": {
        "id": "irMvkcY6bWkd",
        "colab_type": "code",
        "colab": {
          "base_uri": "https://localhost:8080/",
          "height": 106
        },
        "outputId": "e187ebc6-d0bf-4a72-e7b1-b0b70ef70b9e"
      },
      "source": [
        "X_batch2"
      ],
      "execution_count": 74,
      "outputs": [
        {
          "output_type": "execute_result",
          "data": {
            "text/plain": [
              "<tf.Tensor: shape=(2,), dtype=string, numpy=\n",
              "array([b\"This was an absolutely terrible movie. Don't be lured in by Christopher Walken or Michael Ironside. Both are great actors, but this must simply be their worst role in history. Even their great acting could not redeem this movie's ridiculous storyline. This movie is an early nineties US propaganda pi\",\n",
              "       b'I have been known to fall asleep during films, but this is usually due to a combination of things including, really tired, being warm and comfortable on the sette and having just eaten a lot. However on this occasion I fell asleep because the film was rubbish. The plot development was constant. Cons'],\n",
              "      dtype=object)>"
            ]
          },
          "metadata": {
            "tags": []
          },
          "execution_count": 74
        }
      ]
    },
    {
      "cell_type": "code",
      "metadata": {
        "id": "ilmik_ASbhVe",
        "colab_type": "code",
        "colab": {}
      },
      "source": [
        "X_batch3 = tf.strings.regex_replace(X_batch2, b\"[^a-zA-Z']\", b\" \")"
      ],
      "execution_count": 75,
      "outputs": []
    },
    {
      "cell_type": "code",
      "metadata": {
        "id": "AZ0L5_mFbjr9",
        "colab_type": "code",
        "colab": {
          "base_uri": "https://localhost:8080/",
          "height": 106
        },
        "outputId": "68435859-033c-4186-fb2e-4aed8753e40e"
      },
      "source": [
        "X_batch3"
      ],
      "execution_count": 76,
      "outputs": [
        {
          "output_type": "execute_result",
          "data": {
            "text/plain": [
              "<tf.Tensor: shape=(2,), dtype=string, numpy=\n",
              "array([b\"This was an absolutely terrible movie  Don't be lured in by Christopher Walken or Michael Ironside  Both are great actors  but this must simply be their worst role in history  Even their great acting could not redeem this movie's ridiculous storyline  This movie is an early nineties US propaganda pi\",\n",
              "       b'I have been known to fall asleep during films  but this is usually due to a combination of things including  really tired  being warm and comfortable on the sette and having just eaten a lot  However on this occasion I fell asleep because the film was rubbish  The plot development was constant  Cons'],\n",
              "      dtype=object)>"
            ]
          },
          "metadata": {
            "tags": []
          },
          "execution_count": 76
        }
      ]
    },
    {
      "cell_type": "code",
      "metadata": {
        "id": "ik3E6xgAbsbW",
        "colab_type": "code",
        "colab": {}
      },
      "source": [
        "X_batch4 = tf.strings.split(X_batch3)"
      ],
      "execution_count": 77,
      "outputs": []
    },
    {
      "cell_type": "code",
      "metadata": {
        "id": "hHoz1U43bvdX",
        "colab_type": "code",
        "colab": {
          "base_uri": "https://localhost:8080/",
          "height": 54
        },
        "outputId": "94e78d14-45f2-4178-f297-91664f3a6146"
      },
      "source": [
        "X_batch4"
      ],
      "execution_count": 78,
      "outputs": [
        {
          "output_type": "execute_result",
          "data": {
            "text/plain": [
              "<tf.RaggedTensor [[b'This', b'was', b'an', b'absolutely', b'terrible', b'movie', b\"Don't\", b'be', b'lured', b'in', b'by', b'Christopher', b'Walken', b'or', b'Michael', b'Ironside', b'Both', b'are', b'great', b'actors', b'but', b'this', b'must', b'simply', b'be', b'their', b'worst', b'role', b'in', b'history', b'Even', b'their', b'great', b'acting', b'could', b'not', b'redeem', b'this', b\"movie's\", b'ridiculous', b'storyline', b'This', b'movie', b'is', b'an', b'early', b'nineties', b'US', b'propaganda', b'pi'], [b'I', b'have', b'been', b'known', b'to', b'fall', b'asleep', b'during', b'films', b'but', b'this', b'is', b'usually', b'due', b'to', b'a', b'combination', b'of', b'things', b'including', b'really', b'tired', b'being', b'warm', b'and', b'comfortable', b'on', b'the', b'sette', b'and', b'having', b'just', b'eaten', b'a', b'lot', b'However', b'on', b'this', b'occasion', b'I', b'fell', b'asleep', b'because', b'the', b'film', b'was', b'rubbish', b'The', b'plot', b'development', b'was', b'constant', b'Cons']]>"
            ]
          },
          "metadata": {
            "tags": []
          },
          "execution_count": 78
        }
      ]
    },
    {
      "cell_type": "code",
      "metadata": {
        "id": "zKmPW4a5cBpo",
        "colab_type": "code",
        "colab": {
          "base_uri": "https://localhost:8080/",
          "height": 347
        },
        "outputId": "74e4b4e2-22e2-49f3-dedd-017aab6dd5ed"
      },
      "source": [
        "X_batch4.to_tensor()"
      ],
      "execution_count": 79,
      "outputs": [
        {
          "output_type": "execute_result",
          "data": {
            "text/plain": [
              "<tf.Tensor: shape=(2, 53), dtype=string, numpy=\n",
              "array([[b'This', b'was', b'an', b'absolutely', b'terrible', b'movie',\n",
              "        b\"Don't\", b'be', b'lured', b'in', b'by', b'Christopher',\n",
              "        b'Walken', b'or', b'Michael', b'Ironside', b'Both', b'are',\n",
              "        b'great', b'actors', b'but', b'this', b'must', b'simply', b'be',\n",
              "        b'their', b'worst', b'role', b'in', b'history', b'Even',\n",
              "        b'their', b'great', b'acting', b'could', b'not', b'redeem',\n",
              "        b'this', b\"movie's\", b'ridiculous', b'storyline', b'This',\n",
              "        b'movie', b'is', b'an', b'early', b'nineties', b'US',\n",
              "        b'propaganda', b'pi', b'', b'', b''],\n",
              "       [b'I', b'have', b'been', b'known', b'to', b'fall', b'asleep',\n",
              "        b'during', b'films', b'but', b'this', b'is', b'usually', b'due',\n",
              "        b'to', b'a', b'combination', b'of', b'things', b'including',\n",
              "        b'really', b'tired', b'being', b'warm', b'and', b'comfortable',\n",
              "        b'on', b'the', b'sette', b'and', b'having', b'just', b'eaten',\n",
              "        b'a', b'lot', b'However', b'on', b'this', b'occasion', b'I',\n",
              "        b'fell', b'asleep', b'because', b'the', b'film', b'was',\n",
              "        b'rubbish', b'The', b'plot', b'development', b'was', b'constant',\n",
              "        b'Cons']], dtype=object)>"
            ]
          },
          "metadata": {
            "tags": []
          },
          "execution_count": 79
        }
      ]
    },
    {
      "cell_type": "code",
      "metadata": {
        "id": "iad6IFzdzQzX",
        "colab_type": "code",
        "colab": {}
      },
      "source": [
        "from collections import Counter\n",
        "vocabulary = Counter()\n",
        "for X_batch, y_batch in datasets[\"train\"].batch(32).map(preprocess):\n",
        "    for review in X_batch:\n",
        "        vocabulary.update(list(review.numpy()))"
      ],
      "execution_count": 80,
      "outputs": []
    },
    {
      "cell_type": "code",
      "metadata": {
        "id": "cMxFA0KDzRZl",
        "colab_type": "code",
        "colab": {
          "base_uri": "https://localhost:8080/",
          "height": 34
        },
        "outputId": "6e7a81a8-1147-42f5-b473-be08ae4bbcd3"
      },
      "source": [
        "vocabulary.most_common()[:3]"
      ],
      "execution_count": 81,
      "outputs": [
        {
          "output_type": "execute_result",
          "data": {
            "text/plain": [
              "[(b'<pad>', 214309), (b'the', 61137), (b'a', 38564)]"
            ]
          },
          "metadata": {
            "tags": []
          },
          "execution_count": 81
        }
      ]
    },
    {
      "cell_type": "code",
      "metadata": {
        "id": "k31l5PDOzZmn",
        "colab_type": "code",
        "colab": {}
      },
      "source": [
        "vocab_size = 10000\n",
        "truncated_vocabulary = [\n",
        "    word for word, count in vocabulary.most_common()[:vocab_size]]"
      ],
      "execution_count": 82,
      "outputs": []
    },
    {
      "cell_type": "code",
      "metadata": {
        "id": "iitjELoF4lyx",
        "colab_type": "code",
        "colab": {
          "base_uri": "https://localhost:8080/",
          "height": 1000
        },
        "outputId": "2f9295f4-b9c6-4a6d-f36e-0ed63cef4bad"
      },
      "source": [
        "truncated_vocabulary"
      ],
      "execution_count": 83,
      "outputs": [
        {
          "output_type": "execute_result",
          "data": {
            "text/plain": [
              "[b'<pad>',\n",
              " b'the',\n",
              " b'a',\n",
              " b'of',\n",
              " b'and',\n",
              " b'to',\n",
              " b'I',\n",
              " b'is',\n",
              " b'in',\n",
              " b'this',\n",
              " b'it',\n",
              " b'was',\n",
              " b'movie',\n",
              " b'that',\n",
              " b'The',\n",
              " b'film',\n",
              " b'with',\n",
              " b'for',\n",
              " b'as',\n",
              " b'on',\n",
              " b'but',\n",
              " b'have',\n",
              " b'This',\n",
              " b'one',\n",
              " b'not',\n",
              " b'be',\n",
              " b'are',\n",
              " b'you',\n",
              " b'an',\n",
              " b'at',\n",
              " b'about',\n",
              " b'by',\n",
              " b'all',\n",
              " b'his',\n",
              " b'so',\n",
              " b'like',\n",
              " b'from',\n",
              " b'who',\n",
              " b'has',\n",
              " b'It',\n",
              " b'good',\n",
              " b'my',\n",
              " b'just',\n",
              " b'very',\n",
              " b'out',\n",
              " b'or',\n",
              " b'story',\n",
              " b'some',\n",
              " b'time',\n",
              " b'had',\n",
              " b'he',\n",
              " b'they',\n",
              " b'really',\n",
              " b'me',\n",
              " b'when',\n",
              " b'what',\n",
              " b'first',\n",
              " b'movies',\n",
              " b'bad',\n",
              " b'see',\n",
              " b'seen',\n",
              " b'up',\n",
              " b'only',\n",
              " b'were',\n",
              " b\"it's\",\n",
              " b'would',\n",
              " b'more',\n",
              " b'made',\n",
              " b'great',\n",
              " b'can',\n",
              " b'been',\n",
              " b'i',\n",
              " b'her',\n",
              " b'no',\n",
              " b'A',\n",
              " b'which',\n",
              " b'even',\n",
              " b'films',\n",
              " b'there',\n",
              " b'ever',\n",
              " b'people',\n",
              " b'much',\n",
              " b'because',\n",
              " b'most',\n",
              " b'plot',\n",
              " b'if',\n",
              " b'than',\n",
              " b'acting',\n",
              " b'get',\n",
              " b'their',\n",
              " b'well',\n",
              " b'into',\n",
              " b'how',\n",
              " b'best',\n",
              " b'think',\n",
              " b'other',\n",
              " b'its',\n",
              " b\"It's\",\n",
              " b'saw',\n",
              " b'could',\n",
              " b'watch',\n",
              " b'many',\n",
              " b\"don't\",\n",
              " b'do',\n",
              " b'will',\n",
              " b'say',\n",
              " b'show',\n",
              " b'love',\n",
              " b'make',\n",
              " b'two',\n",
              " b'way',\n",
              " b'know',\n",
              " b'years',\n",
              " b'after',\n",
              " b'But',\n",
              " b'we',\n",
              " b'watching',\n",
              " b'In',\n",
              " b'never',\n",
              " b'any',\n",
              " b'life',\n",
              " b'characters',\n",
              " b\"I'm\",\n",
              " b'too',\n",
              " b'did',\n",
              " b\"I've\",\n",
              " b'little',\n",
              " b'over',\n",
              " b'If',\n",
              " b'she',\n",
              " b'then',\n",
              " b'being',\n",
              " b'thought',\n",
              " b'them',\n",
              " b'off',\n",
              " b'There',\n",
              " b's',\n",
              " b'funny',\n",
              " b'better',\n",
              " b'also',\n",
              " b'watched',\n",
              " b'where',\n",
              " b'still',\n",
              " b'worst',\n",
              " b'old',\n",
              " b'am',\n",
              " b'through',\n",
              " b'actors',\n",
              " b'And',\n",
              " b'character',\n",
              " b'such',\n",
              " b\"didn't\",\n",
              " b'back',\n",
              " b'got',\n",
              " b'horror',\n",
              " b'those',\n",
              " b'series',\n",
              " b'lot',\n",
              " b'should',\n",
              " b'comedy',\n",
              " b'go',\n",
              " b'your',\n",
              " b'few',\n",
              " b'something',\n",
              " b'does',\n",
              " b'thing',\n",
              " b'him',\n",
              " b'man',\n",
              " b'What',\n",
              " b'going',\n",
              " b'original',\n",
              " b'director',\n",
              " b'work',\n",
              " b'here',\n",
              " b'before',\n",
              " b'real',\n",
              " b'actually',\n",
              " b'cast',\n",
              " b'pretty',\n",
              " b'TV',\n",
              " b'quite',\n",
              " b'why',\n",
              " b'every',\n",
              " b'He',\n",
              " b'find',\n",
              " b'As',\n",
              " b'scenes',\n",
              " b'young',\n",
              " b\"can't\",\n",
              " b'interesting',\n",
              " b'same',\n",
              " b'fan',\n",
              " b'now',\n",
              " b'makes',\n",
              " b'end',\n",
              " b'big',\n",
              " b'When',\n",
              " b'long',\n",
              " b'nothing',\n",
              " b'times',\n",
              " b'found',\n",
              " b\"'s\",\n",
              " b'must',\n",
              " b'these',\n",
              " b'again',\n",
              " b'another',\n",
              " b'part',\n",
              " b'action',\n",
              " b'though',\n",
              " b'always',\n",
              " b'script',\n",
              " b\"doesn't\",\n",
              " b'last',\n",
              " b'new',\n",
              " b'fact',\n",
              " b'year',\n",
              " b'while',\n",
              " b'around',\n",
              " b'look',\n",
              " b'since',\n",
              " b't',\n",
              " b'minutes',\n",
              " b'family',\n",
              " b'DVD',\n",
              " b'down',\n",
              " b'scene',\n",
              " b'things',\n",
              " b'want',\n",
              " b'read',\n",
              " b'seems',\n",
              " b'My',\n",
              " b'fun',\n",
              " b'may',\n",
              " b'world',\n",
              " b'done',\n",
              " b'far',\n",
              " b'come',\n",
              " b'right',\n",
              " b'take',\n",
              " b\"wasn't\",\n",
              " b'You',\n",
              " b'th',\n",
              " b'believe',\n",
              " b'almost',\n",
              " b'enough',\n",
              " b'hard',\n",
              " b'whole',\n",
              " b'anything',\n",
              " b'book',\n",
              " b\"isn't\",\n",
              " b'probably',\n",
              " b'least',\n",
              " b'give',\n",
              " b'bit',\n",
              " b'They',\n",
              " b'American',\n",
              " b'seeing',\n",
              " b'without',\n",
              " b'feel',\n",
              " b'One',\n",
              " b'awful',\n",
              " b'idea',\n",
              " b'making',\n",
              " b'between',\n",
              " b'remember',\n",
              " b'came',\n",
              " b'music',\n",
              " b'kind',\n",
              " b'set',\n",
              " b'excellent',\n",
              " b'John',\n",
              " b'classic',\n",
              " b'us',\n",
              " b'both',\n",
              " b'Well',\n",
              " b'version',\n",
              " b'performance',\n",
              " b'gets',\n",
              " b'plays',\n",
              " b'day',\n",
              " b'Not',\n",
              " b'low',\n",
              " b'might',\n",
              " b'own',\n",
              " b'loved',\n",
              " b'budget',\n",
              " b'role',\n",
              " b'reason',\n",
              " b'high',\n",
              " b'First',\n",
              " b'girl',\n",
              " b'shows',\n",
              " b'looking',\n",
              " b'After',\n",
              " b'For',\n",
              " b'So',\n",
              " b'video',\n",
              " b'special',\n",
              " b'However',\n",
              " b'effects',\n",
              " b'woman',\n",
              " b'different',\n",
              " b'terrible',\n",
              " b'true',\n",
              " b'point',\n",
              " b'start',\n",
              " b'actor',\n",
              " b'put',\n",
              " b'night',\n",
              " b'three',\n",
              " b'played',\n",
              " b'liked',\n",
              " b'yet',\n",
              " b'boring',\n",
              " b'beautiful',\n",
              " b'takes',\n",
              " b'especially',\n",
              " b'based',\n",
              " b'ago',\n",
              " b'main',\n",
              " b'short',\n",
              " b'play',\n",
              " b'guy',\n",
              " b'title',\n",
              " b'said',\n",
              " b'enjoyed',\n",
              " b'anyone',\n",
              " b'wonderful',\n",
              " b'trying',\n",
              " b\"that's\",\n",
              " b'sure',\n",
              " b'went',\n",
              " b'favorite',\n",
              " b'having',\n",
              " b'stars',\n",
              " b'together',\n",
              " b'Hollywood',\n",
              " b'absolutely',\n",
              " b'screen',\n",
              " b'our',\n",
              " b'wrong',\n",
              " b'rather',\n",
              " b'half',\n",
              " b'production',\n",
              " b'episode',\n",
              " b'goes',\n",
              " b'place',\n",
              " b'comes',\n",
              " b'early',\n",
              " b'piece',\n",
              " b'written',\n",
              " b'We',\n",
              " b'heard',\n",
              " b'away',\n",
              " b\"couldn't\",\n",
              " b'second',\n",
              " b'money',\n",
              " b'during',\n",
              " b'friends',\n",
              " b'job',\n",
              " b'THE',\n",
              " b'someone',\n",
              " b'entertaining',\n",
              " b'sense',\n",
              " b'looks',\n",
              " b'She',\n",
              " b'line',\n",
              " b'school',\n",
              " b'drama',\n",
              " b'each',\n",
              " b'flick',\n",
              " b'everything',\n",
              " b'understand',\n",
              " b'No',\n",
              " b'mean',\n",
              " b'course',\n",
              " b'enjoy',\n",
              " b'star',\n",
              " b'wanted',\n",
              " b'wife',\n",
              " b'directed',\n",
              " b'That',\n",
              " b'To',\n",
              " b'small',\n",
              " b'mind',\n",
              " b'seem',\n",
              " b'truly',\n",
              " b'While',\n",
              " b'stupid',\n",
              " b'simply',\n",
              " b\"'\",\n",
              " b'poor',\n",
              " b'All',\n",
              " b'worth',\n",
              " b'everyone',\n",
              " b'once',\n",
              " b'worse',\n",
              " b'top',\n",
              " b'completely',\n",
              " b'used',\n",
              " b'cinema',\n",
              " b'felt',\n",
              " b'kids',\n",
              " b'genre',\n",
              " b'shot',\n",
              " b'home',\n",
              " b'name',\n",
              " b'late',\n",
              " b'tell',\n",
              " b'called',\n",
              " b'until',\n",
              " b'reviews',\n",
              " b'New',\n",
              " b'myself',\n",
              " b'beginning',\n",
              " b'full',\n",
              " b'nice',\n",
              " b'live',\n",
              " b'left',\n",
              " b'At',\n",
              " b'horrible',\n",
              " b'novel',\n",
              " b'How',\n",
              " b'Although',\n",
              " b'thriller',\n",
              " b'documentary',\n",
              " b'women',\n",
              " b'starts',\n",
              " b'performances',\n",
              " b'several',\n",
              " b'else',\n",
              " b'Even',\n",
              " b'audience',\n",
              " b'less',\n",
              " b'perfect',\n",
              " b'often',\n",
              " b'couple',\n",
              " b'writing',\n",
              " b'amazing',\n",
              " b\"I'd\",\n",
              " b'review',\n",
              " b'released',\n",
              " b'seemed',\n",
              " b'history',\n",
              " b'need',\n",
              " b'case',\n",
              " b'Some',\n",
              " b'started',\n",
              " b'later',\n",
              " b'war',\n",
              " b'waste',\n",
              " b'Michael',\n",
              " b'try',\n",
              " b'use',\n",
              " b'either',\n",
              " b'given',\n",
              " b'humor',\n",
              " b'comments',\n",
              " b'B',\n",
              " b'black',\n",
              " b'disappointed',\n",
              " b'although',\n",
              " b'laugh',\n",
              " b'father',\n",
              " b'along',\n",
              " b'gave',\n",
              " b'however',\n",
              " b'quality',\n",
              " b'b',\n",
              " b'expect',\n",
              " b'totally',\n",
              " b'friend',\n",
              " b'gives',\n",
              " b'OK',\n",
              " b'itself',\n",
              " b'sex',\n",
              " b'thinking',\n",
              " b'surprised',\n",
              " b\"you're\",\n",
              " b'brilliant',\n",
              " b'With',\n",
              " b'Now',\n",
              " b'others',\n",
              " b'definitely',\n",
              " b'entire',\n",
              " b'dialogue',\n",
              " b'days',\n",
              " b'ending',\n",
              " b\"he's\",\n",
              " b'television',\n",
              " b'already',\n",
              " b'getting',\n",
              " b'past',\n",
              " b'let',\n",
              " b'James',\n",
              " b'boy',\n",
              " b'camera',\n",
              " b'style',\n",
              " b'problem',\n",
              " b'certainly',\n",
              " b'Just',\n",
              " b'group',\n",
              " b'stories',\n",
              " b'lead',\n",
              " b'o',\n",
              " b'town',\n",
              " b'Why',\n",
              " b'Of',\n",
              " b'maybe',\n",
              " b'person',\n",
              " b'himself',\n",
              " b'playing',\n",
              " b'lost',\n",
              " b'art',\n",
              " b'supposed',\n",
              " b'become',\n",
              " b'doing',\n",
              " b'usually',\n",
              " b'lives',\n",
              " b'men',\n",
              " b'looked',\n",
              " b'moments',\n",
              " b'death',\n",
              " b'hit',\n",
              " b'kid',\n",
              " b'took',\n",
              " b'slow',\n",
              " b'house',\n",
              " b'known',\n",
              " b'sort',\n",
              " b'fine',\n",
              " b'example',\n",
              " b'recently',\n",
              " b'picture',\n",
              " b'premise',\n",
              " b'An',\n",
              " b'His',\n",
              " b'crap',\n",
              " b'knew',\n",
              " b'British',\n",
              " b'direction',\n",
              " b'Robert',\n",
              " b'child',\n",
              " b'decided',\n",
              " b'hour',\n",
              " b'parts',\n",
              " b'Mr',\n",
              " b'help',\n",
              " b'huge',\n",
              " b'expecting',\n",
              " b'From',\n",
              " b'guess',\n",
              " b'fans',\n",
              " b'lines',\n",
              " b'Man',\n",
              " b'works',\n",
              " b'son',\n",
              " b'human',\n",
              " b'attempt',\n",
              " b'David',\n",
              " b'children',\n",
              " b'decent',\n",
              " b'comment',\n",
              " b'extremely',\n",
              " b'finally',\n",
              " b'sequel',\n",
              " b'jokes',\n",
              " b'keep',\n",
              " b'admit',\n",
              " b'actress',\n",
              " b'etc',\n",
              " b'writer',\n",
              " b\"there's\",\n",
              " b'episodes',\n",
              " b'against',\n",
              " b'type',\n",
              " b'game',\n",
              " b'simple',\n",
              " b'musical',\n",
              " b'heart',\n",
              " b'George',\n",
              " b'turned',\n",
              " b'Yes',\n",
              " b'tale',\n",
              " b'storyline',\n",
              " b'under',\n",
              " b'greatest',\n",
              " b'age',\n",
              " b'romantic',\n",
              " b'run',\n",
              " b'opinion',\n",
              " b'rest',\n",
              " b'hilarious',\n",
              " b'Richard',\n",
              " b'able',\n",
              " b'perhaps',\n",
              " b'expected',\n",
              " b'w',\n",
              " b'saying',\n",
              " b'close',\n",
              " b'theater',\n",
              " b'act',\n",
              " b'opening',\n",
              " b'involved',\n",
              " b'killer',\n",
              " b'told',\n",
              " b'typical',\n",
              " b\"I'll\",\n",
              " b'guys',\n",
              " b'Film',\n",
              " b'throughout',\n",
              " b'scary',\n",
              " b'face',\n",
              " b're',\n",
              " b'head',\n",
              " b'turn',\n",
              " b'usual',\n",
              " b'cannot',\n",
              " b'mother',\n",
              " b'serious',\n",
              " b'hours',\n",
              " b'York',\n",
              " b'Its',\n",
              " b'ridiculous',\n",
              " b'bunch',\n",
              " b'feeling',\n",
              " b'next',\n",
              " b'dark',\n",
              " b\"Don't\",\n",
              " b'wants',\n",
              " b'care',\n",
              " b'Unfortunately',\n",
              " b'On',\n",
              " b'predictable',\n",
              " b'word',\n",
              " b'side',\n",
              " b'chance',\n",
              " b'tries',\n",
              " b'car',\n",
              " b'Then',\n",
              " b'fi',\n",
              " b'today',\n",
              " b'Disney',\n",
              " b\"There's\",\n",
              " b'remake',\n",
              " b'self',\n",
              " b'rented',\n",
              " b'sometimes',\n",
              " b'Peter',\n",
              " b'br',\n",
              " b'class',\n",
              " b'dead',\n",
              " b'strange',\n",
              " b'local',\n",
              " b'across',\n",
              " b'acted',\n",
              " b'girls',\n",
              " b'cool',\n",
              " b'animation',\n",
              " b'middle',\n",
              " b'happened',\n",
              " b'silly',\n",
              " b'rating',\n",
              " b'stop',\n",
              " b'instead',\n",
              " b'modern',\n",
              " b\"haven't\",\n",
              " b'interest',\n",
              " b'sound',\n",
              " b'murder',\n",
              " b'doubt',\n",
              " b'matter',\n",
              " b'complete',\n",
              " b'exactly',\n",
              " b'fantastic',\n",
              " b'experience',\n",
              " b\"won't\",\n",
              " b'release',\n",
              " b'talent',\n",
              " b'stuff',\n",
              " b'living',\n",
              " b'white',\n",
              " b'IMDb',\n",
              " b'single',\n",
              " b'obviously',\n",
              " b'Tom',\n",
              " b'upon',\n",
              " b'enjoyable',\n",
              " b'four',\n",
              " b'five',\n",
              " b'except',\n",
              " b'S',\n",
              " b'tried',\n",
              " b'bought',\n",
              " b'reading',\n",
              " b'highly',\n",
              " b'm',\n",
              " b'coming',\n",
              " b'due',\n",
              " b'behind',\n",
              " b'call',\n",
              " b'Most',\n",
              " b'e',\n",
              " b'brother',\n",
              " b'eyes',\n",
              " b'French',\n",
              " b'wonder',\n",
              " b'War',\n",
              " b'number',\n",
              " b'shown',\n",
              " b'sad',\n",
              " b'tells',\n",
              " b'famous',\n",
              " b'feature',\n",
              " b'filmed',\n",
              " b'strong',\n",
              " b'becomes',\n",
              " b'somewhat',\n",
              " b'box',\n",
              " b'Oh',\n",
              " b'hope',\n",
              " b'wrote',\n",
              " b'season',\n",
              " b'obvious',\n",
              " b'happen',\n",
              " b'adaptation',\n",
              " b'clich',\n",
              " b'Paul',\n",
              " b'lame',\n",
              " b'Like',\n",
              " b'viewing',\n",
              " b'poorly',\n",
              " b'moving',\n",
              " b'career',\n",
              " b'evil',\n",
              " b'recommend',\n",
              " b'King',\n",
              " b'husband',\n",
              " b'Oscar',\n",
              " b'named',\n",
              " b'viewer',\n",
              " b'begin',\n",
              " b'violence',\n",
              " b'write',\n",
              " b'non',\n",
              " b'ones',\n",
              " b'view',\n",
              " b'expectations',\n",
              " b'among',\n",
              " b'dull',\n",
              " b'wish',\n",
              " b'masterpiece',\n",
              " b'major',\n",
              " b'straight',\n",
              " b'agree',\n",
              " b'Movie',\n",
              " b'sit',\n",
              " b'hand',\n",
              " b'period',\n",
              " b'directing',\n",
              " b'particularly',\n",
              " b'country',\n",
              " b'fight',\n",
              " b'hate',\n",
              " b'daughter',\n",
              " b'happens',\n",
              " b'English',\n",
              " b'says',\n",
              " b'stand',\n",
              " b'turns',\n",
              " b'Christmas',\n",
              " b'f',\n",
              " b'attention',\n",
              " b\"That's\",\n",
              " b'taken',\n",
              " b'cheesy',\n",
              " b'comic',\n",
              " b'mostly',\n",
              " b\"wouldn't\",\n",
              " b'light',\n",
              " b'entertainment',\n",
              " b'order',\n",
              " b'roles',\n",
              " b'superb',\n",
              " b'dialog',\n",
              " b'easily',\n",
              " b'starring',\n",
              " b'Lee',\n",
              " b'weak',\n",
              " b'mystery',\n",
              " b'Night',\n",
              " b'seriously',\n",
              " b'realistic',\n",
              " b'reasons',\n",
              " b'theme',\n",
              " b'possibly',\n",
              " b'words',\n",
              " b'ten',\n",
              " b'cheap',\n",
              " b'similar',\n",
              " b'brought',\n",
              " b'co',\n",
              " b'including',\n",
              " b'nearly',\n",
              " b'cinematography',\n",
              " b'falls',\n",
              " b'basically',\n",
              " b'produced',\n",
              " b'talking',\n",
              " b'working',\n",
              " b'taking',\n",
              " b'reality',\n",
              " b'store',\n",
              " b'unique',\n",
              " b'forward',\n",
              " b'hell',\n",
              " b'alone',\n",
              " b'T',\n",
              " b'whose',\n",
              " b'sets',\n",
              " b'previous',\n",
              " b'soon',\n",
              " b'themselves',\n",
              " b'lack',\n",
              " b'killed',\n",
              " b'directors',\n",
              " b'c',\n",
              " b'bring',\n",
              " b'week',\n",
              " b'effort',\n",
              " b'average',\n",
              " b'ways',\n",
              " b'female',\n",
              " b'running',\n",
              " b'fast',\n",
              " b'editing',\n",
              " b'kept',\n",
              " b'caught',\n",
              " b'Japanese',\n",
              " b'popular',\n",
              " b'screenplay',\n",
              " b'elements',\n",
              " b'comedies',\n",
              " b'surprise',\n",
              " b'became',\n",
              " b'problems',\n",
              " b'Jack',\n",
              " b'features',\n",
              " b'annoying',\n",
              " b'animated',\n",
              " b'yes',\n",
              " b'd',\n",
              " b'possible',\n",
              " b'cover',\n",
              " b'follow',\n",
              " b'near',\n",
              " b'William',\n",
              " b'list',\n",
              " b'songs',\n",
              " b'cartoon',\n",
              " b'Having',\n",
              " b'voice',\n",
              " b'parents',\n",
              " b'Maybe',\n",
              " b'Star',\n",
              " b'events',\n",
              " b'none',\n",
              " b'body',\n",
              " b'crime',\n",
              " b'h',\n",
              " b'Great',\n",
              " b'Who',\n",
              " b'future',\n",
              " b'Very',\n",
              " b'weird',\n",
              " b'God',\n",
              " b\"aren't\",\n",
              " b'actual',\n",
              " b'despite',\n",
              " b'final',\n",
              " b'Is',\n",
              " b'gore',\n",
              " b'imagine',\n",
              " b'change',\n",
              " b'sister',\n",
              " b'cut',\n",
              " b\"you'll\",\n",
              " b'D',\n",
              " b'lots',\n",
              " b'beyond',\n",
              " b'moment',\n",
              " b'Dr',\n",
              " b'positive',\n",
              " b'level',\n",
              " b'fantasy',\n",
              " b'important',\n",
              " b'minute',\n",
              " b'sci',\n",
              " b'Joe',\n",
              " b'easy',\n",
              " b'era',\n",
              " b'House',\n",
              " b'awesome',\n",
              " b'romance',\n",
              " b'above',\n",
              " b'team',\n",
              " b'subject',\n",
              " b'rent',\n",
              " b'badly',\n",
              " b'happy',\n",
              " b'finds',\n",
              " b'points',\n",
              " b'rate',\n",
              " b\"'The\",\n",
              " b'begins',\n",
              " b'message',\n",
              " b'incredibly',\n",
              " b'concept',\n",
              " b'Italian',\n",
              " b'realize',\n",
              " b'Good',\n",
              " b'recent',\n",
              " b'score',\n",
              " b'By',\n",
              " b'casting',\n",
              " b'America',\n",
              " b'police',\n",
              " b'SPOILERS',\n",
              " b'power',\n",
              " b\"you've\",\n",
              " b'NOT',\n",
              " b\"they're\",\n",
              " b'giving',\n",
              " b'college',\n",
              " b'difficult',\n",
              " b'fall',\n",
              " b'laughed',\n",
              " b'knows',\n",
              " b'save',\n",
              " b'incredible',\n",
              " b'third',\n",
              " b'potential',\n",
              " b'leave',\n",
              " b'song',\n",
              " b'clearly',\n",
              " b'Scott',\n",
              " b'slasher',\n",
              " b'talk',\n",
              " b'laughing',\n",
              " b'Every',\n",
              " b'meets',\n",
              " b'move',\n",
              " b'fairly',\n",
              " b'kill',\n",
              " b'hero',\n",
              " b'plain',\n",
              " b'means',\n",
              " b'p',\n",
              " b'adventure',\n",
              " b'suspense',\n",
              " b'certain',\n",
              " b'joke',\n",
              " b'material',\n",
              " b'rated',\n",
              " b'showing',\n",
              " b'Also',\n",
              " b'mess',\n",
              " b'needs',\n",
              " b'World',\n",
              " b'Ben',\n",
              " b'gone',\n",
              " b'books',\n",
              " b'disappointment',\n",
              " b'cop',\n",
              " b'talented',\n",
              " b'copy',\n",
              " b'Bill',\n",
              " b'Festival',\n",
              " b'showed',\n",
              " b'success',\n",
              " b'interested',\n",
              " b'fails',\n",
              " b'shots',\n",
              " b'stage',\n",
              " b'describe',\n",
              " b'Wow',\n",
              " b'Okay',\n",
              " b\"she's\",\n",
              " b'wasted',\n",
              " b'Jane',\n",
              " b'particular',\n",
              " b'spent',\n",
              " b'whether',\n",
              " b'bored',\n",
              " b'wait',\n",
              " b'clear',\n",
              " b'rare',\n",
              " b'Jim',\n",
              " b'trash',\n",
              " b'consider',\n",
              " ...]"
            ]
          },
          "metadata": {
            "tags": []
          },
          "execution_count": 83
        }
      ]
    },
    {
      "cell_type": "code",
      "metadata": {
        "id": "i9vHJPDWznEr",
        "colab_type": "code",
        "colab": {
          "base_uri": "https://localhost:8080/",
          "height": 34
        },
        "outputId": "dd529bc7-1122-4398-862b-81c08e7698c8"
      },
      "source": [
        "tf.strings.substr([b'Hello', b'World'],1,2)"
      ],
      "execution_count": 84,
      "outputs": [
        {
          "output_type": "execute_result",
          "data": {
            "text/plain": [
              "<tf.Tensor: shape=(2,), dtype=string, numpy=array([b'el', b'or'], dtype=object)>"
            ]
          },
          "metadata": {
            "tags": []
          },
          "execution_count": 84
        }
      ]
    },
    {
      "cell_type": "code",
      "metadata": {
        "id": "MlZXM83aXiL-",
        "colab_type": "code",
        "colab": {}
      },
      "source": [
        "words = tf.constant(truncated_vocabulary)\n",
        "word_ids = tf.range(len(truncated_vocabulary), dtype=tf.int64)\n",
        "vocab_init = tf.lookup.KeyValueTensorInitializer(words, word_ids)\n",
        "num_oov_buckets = 1000\n",
        "table = tf.lookup.StaticVocabularyTable(vocab_init, num_oov_buckets)"
      ],
      "execution_count": 85,
      "outputs": []
    },
    {
      "cell_type": "code",
      "metadata": {
        "id": "lji2Rd1I6x3R",
        "colab_type": "code",
        "colab": {
          "base_uri": "https://localhost:8080/",
          "height": 34
        },
        "outputId": "0a5f4044-2254-4350-fd84-66c11121f89a"
      },
      "source": [
        "table.lookup(tf.constant([b\"This movie was faaaaaantastic\".split()]))"
      ],
      "execution_count": 86,
      "outputs": [
        {
          "output_type": "execute_result",
          "data": {
            "text/plain": [
              "<tf.Tensor: shape=(1, 4), dtype=int64, numpy=array([[   22,    12,    11, 10053]])>"
            ]
          },
          "metadata": {
            "tags": []
          },
          "execution_count": 86
        }
      ]
    },
    {
      "cell_type": "code",
      "metadata": {
        "id": "myfWhRQr7KS2",
        "colab_type": "code",
        "colab": {}
      },
      "source": [
        "def encode_words(X_batch, y_batch):\n",
        "    return table.lookup(X_batch), y_batch\n",
        "\n",
        "train_set = datasets[\"train\"].batch(32).map(preprocess)\n",
        "train_set = train_set.map(encode_words).prefetch(1)"
      ],
      "execution_count": 87,
      "outputs": []
    },
    {
      "cell_type": "code",
      "metadata": {
        "id": "4hlwUufiCDnD",
        "colab_type": "code",
        "colab": {
          "base_uri": "https://localhost:8080/",
          "height": 191
        },
        "outputId": "f8e7408a-9f93-4d62-ee58-161633b061e1"
      },
      "source": [
        "embed_size = 128\n",
        "model = keras.models.Sequential([\n",
        "    keras.layers.Embedding(vocab_size + num_oov_buckets, embed_size,\n",
        "                           input_shape=[None]),\n",
        "    keras.layers.GRU(128, return_sequences=True),\n",
        "    keras.layers.GRU(128),\n",
        "    keras.layers.Dense(1, activation=\"sigmoid\")\n",
        "])\n",
        "model.compile(loss=\"binary_crossentropy\", optimizer=\"adam\",\n",
        "              metrics=[\"accuracy\"])\n",
        "history = model.fit(train_set, epochs=5)"
      ],
      "execution_count": 88,
      "outputs": [
        {
          "output_type": "stream",
          "text": [
            "Epoch 1/5\n",
            "782/782 [==============================] - 21s 26ms/step - loss: 0.6320 - accuracy: 0.6060\n",
            "Epoch 2/5\n",
            "782/782 [==============================] - 21s 26ms/step - loss: 0.3968 - accuracy: 0.8233\n",
            "Epoch 3/5\n",
            "782/782 [==============================] - 21s 26ms/step - loss: 0.2377 - accuracy: 0.9077\n",
            "Epoch 4/5\n",
            "782/782 [==============================] - 20s 26ms/step - loss: 0.1560 - accuracy: 0.9436\n",
            "Epoch 5/5\n",
            "782/782 [==============================] - 20s 26ms/step - loss: 0.1187 - accuracy: 0.9566\n"
          ],
          "name": "stdout"
        }
      ]
    },
    {
      "cell_type": "code",
      "metadata": {
        "id": "HDm0DJ7nCHuj",
        "colab_type": "code",
        "colab": {}
      },
      "source": [
        ""
      ],
      "execution_count": 88,
      "outputs": []
    }
  ]
}